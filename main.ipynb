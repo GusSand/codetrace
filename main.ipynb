{
 "cells": [
  {
   "cell_type": "markdown",
   "metadata": {},
   "source": [
    "# Activation patching basic\n"
   ]
  },
  {
   "cell_type": "code",
   "execution_count": 1,
   "metadata": {},
   "outputs": [],
   "source": [
    "\n",
    "%load_ext autoreload\n",
    "%autoreload 2\n",
    "# # # set cuda visible device\n",
    "# !export CUDA_VISIBLE_DEVICES=3\n",
    "# import os\n",
    "# os.environ[\"CUDA_VISIBLE_DEVICES\"] = \"3\"\n",
    "\n",
    "starcoderbase_1b = \"/home/arjun/models/starcoderbase-1b/\"\n",
    "\n",
    "from nnsight import LanguageModel\n",
    "from transformers import AutoTokenizer, AutoConfig, AutoModelForCausalLM\n",
    "from src.utils import *\n",
    "import datasets\n",
    "from src.experiments.wrong_type_patching import *\n",
    "from transformers import AutoTokenizer, AutoConfig, AutoModelForCausalLM\n",
    "import plotly.express as px\n",
    "\n",
    "from nnsight import LanguageModel, util\n",
    "from nnsight.tracing.Proxy import Proxy\n",
    "\n",
    "import datasets\n",
    "from src.utils import *"
   ]
  },
  {
   "cell_type": "code",
   "execution_count": 2,
   "metadata": {},
   "outputs": [
    {
     "data": {
      "text/plain": [
       "GPTBigCodeForCausalLM(\n",
       "  (transformer): GPTBigCodeModel(\n",
       "    (wte): Embedding(49152, 2048)\n",
       "    (wpe): Embedding(8192, 2048)\n",
       "    (drop): Dropout(p=0.1, inplace=False)\n",
       "    (h): ModuleList(\n",
       "      (0-23): 24 x GPTBigCodeBlock(\n",
       "        (ln_1): LayerNorm((2048,), eps=1e-05, elementwise_affine=True)\n",
       "        (attn): GPTBigCodeSdpaAttention(\n",
       "          (c_attn): Linear(in_features=2048, out_features=2304, bias=True)\n",
       "          (c_proj): Linear(in_features=2048, out_features=2048, bias=True)\n",
       "          (attn_dropout): Dropout(p=0.1, inplace=False)\n",
       "          (resid_dropout): Dropout(p=0.1, inplace=False)\n",
       "        )\n",
       "        (ln_2): LayerNorm((2048,), eps=1e-05, elementwise_affine=True)\n",
       "        (mlp): GPTBigCodeMLP(\n",
       "          (c_fc): Linear(in_features=2048, out_features=8192, bias=True)\n",
       "          (c_proj): Linear(in_features=8192, out_features=2048, bias=True)\n",
       "          (act): PytorchGELUTanh()\n",
       "          (dropout): Dropout(p=0.1, inplace=False)\n",
       "        )\n",
       "      )\n",
       "    )\n",
       "    (ln_f): LayerNorm((2048,), eps=1e-05, elementwise_affine=True)\n",
       "  )\n",
       "  (lm_head): Linear(in_features=2048, out_features=49152, bias=False)\n",
       ")"
      ]
     },
     "execution_count": 2,
     "metadata": {},
     "output_type": "execute_result"
    }
   ],
   "source": [
    "model = LanguageModel(starcoderbase_1b, device_map='cuda:3')\n",
    "model"
   ]
  },
  {
   "cell_type": "markdown",
   "metadata": {},
   "source": [
    "## Activation patching"
   ]
  },
  {
   "cell_type": "code",
   "execution_count": 3,
   "metadata": {},
   "outputs": [
    {
     "name": "stdout",
     "output_type": "stream",
     "text": [
      "800 4398 2171\n"
     ]
    }
   ],
   "source": [
    "ds = datasets.load_dataset(\"franlucc/type_patching_v0\", split=\"train\")\n",
    "string_ex = [d for d in ds if d[\"fim_type\"] == \"string\"]\n",
    "boolean_ex = [d for d in ds if d[\"fim_type\"] == \"boolean\"]\n",
    "number_ex = [d for d in ds if d[\"fim_type\"] == \"number\"]\n",
    "\n",
    "string_idx = model.tokenizer.convert_tokens_to_ids(\"string\")\n",
    "boolean_idx = model.tokenizer.convert_tokens_to_ids(\"boolean\")\n",
    "number_idx = model.tokenizer.convert_tokens_to_ids(\"number\")\n",
    "print(string_idx, boolean_idx, number_idx)\n",
    "\n"
   ]
  },
  {
   "cell_type": "code",
   "execution_count": 4,
   "metadata": {},
   "outputs": [],
   "source": [
    "# import os\n",
    "# os.makedirs(\"str-bool-num-types\",exist_ok=True)\n",
    "# os.makedirs(\"str-bool-num-types/str\",exist_ok=True)\n",
    "# os.makedirs(\"str-bool-num-types/bool\",exist_ok=True)\n",
    "# os.makedirs(\"str-bool-num-types/num\",exist_ok=True)\n",
    "# for i,prog in enumerate(string_ex):\n",
    "#     with open(f\"str-bool-num-types/str/{i}_prog.ts\", \"w\") as f:\n",
    "#         f.write(str(prog[\"fim_program\"]))\n",
    "# for i,prog in enumerate(boolean_ex):\n",
    "#     with open(f\"str-bool-num-types/bool/{i}_prog.ts\", \"w\") as f:\n",
    "#         f.write(str(prog[\"fim_program\"]))\n",
    "# for i,prog in enumerate(number_ex):\n",
    "#     with open(f\"str-bool-num-types/num/{i}_prog.ts\", \"w\") as f:\n",
    "#         f.write(str(prog[\"fim_program\"]))\n",
    "        \n",
    "    "
   ]
  },
  {
   "cell_type": "code",
   "execution_count": 5,
   "metadata": {},
   "outputs": [
    {
     "name": "stdout",
     "output_type": "stream",
     "text": [
      "Patching...\n"
     ]
    },
    {
     "name": "stderr",
     "output_type": "stream",
     "text": [
      "100%|██████████| 3/3 [00:00<00:00,  3.07it/s]\n",
      "You're using a GPT2TokenizerFast tokenizer. Please note that with a fast tokenizer, using the `__call__` method is faster than using a method to encode the text followed by a call to the `pad` method to get a padded encoding.\n"
     ]
    },
    {
     "name": "stdout",
     "output_type": "stream",
     "text": [
      "Patching...\n"
     ]
    },
    {
     "name": "stderr",
     "output_type": "stream",
     "text": [
      "100%|██████████| 3/3 [00:00<00:00,  3.11it/s]\n"
     ]
    },
    {
     "name": "stdout",
     "output_type": "stream",
     "text": [
      "Patching...\n"
     ]
    },
    {
     "name": "stderr",
     "output_type": "stream",
     "text": [
      "100%|██████████| 3/3 [00:00<00:00,  3.09it/s]\n"
     ]
    },
    {
     "name": "stdout",
     "output_type": "stream",
     "text": [
      "Patching...\n"
     ]
    },
    {
     "name": "stderr",
     "output_type": "stream",
     "text": [
      "100%|██████████| 3/3 [00:00<00:00,  3.11it/s]\n"
     ]
    },
    {
     "name": "stdout",
     "output_type": "stream",
     "text": [
      "Patching...\n"
     ]
    },
    {
     "name": "stderr",
     "output_type": "stream",
     "text": [
      "100%|██████████| 3/3 [00:00<00:00,  3.12it/s]\n"
     ]
    }
   ],
   "source": [
    "from src.experiments.type_patching import *\n",
    "import os\n",
    "os.environ[\"TOKENIZERS_PARALLELISM\"] = \"false\"\n",
    "\n",
    "pred_results = []\n",
    "probs_patched_results = []\n",
    "earliest_layer = []\n",
    "def get_ds(patch):\n",
    "    if patch == \"string\":\n",
    "        return string_ex\n",
    "    elif patch == \"boolean\":\n",
    "        return boolean_ex\n",
    "    elif patch == \"number\":\n",
    "        return number_ex\n",
    "\n",
    "patch_src = \"string\"\n",
    "patch_dst = \"number\"\n",
    "correct_index = model.tokenizer(patch_src)[\"input_ids\"][0]\n",
    "incorrect_index = model.tokenizer(patch_dst)[\"input_ids\"][0]\n",
    "\n",
    "import random\n",
    "# 10 random idx\n",
    "random.seed(36)\n",
    "idx_range = [random.randint(0, 500) for i in range(5)]\n",
    "layers = list(range(13,16))\n",
    "\n",
    "for i in idx_range:\n",
    "    with torch.no_grad():\n",
    "        torch.cuda.empty_cache()\n",
    "    clean_prompt = placeholder_to_std_fmt(get_ds(patch_src)[i][\"fim_program\"], STARCODER_FIM)\n",
    "    corrupted_prompt = placeholder_to_std_fmt(get_ds(patch_dst)[i][\"fim_program\"], STARCODER_FIM)\n",
    "    patching_results, patched_predictions = patch_fim_tokens(model, clean_prompt, corrupted_prompt, STARCODER_FIM, correct_index, incorrect_index, layers)\n",
    "    \n",
    "    patched_predictions = util.apply(patched_predictions, lambda x: x.value.item(), Proxy)\n",
    "    patching_results = util.apply(patching_results, lambda x: x.value.item(), Proxy)\n",
    "    \n",
    "    probs_patched_results.append(patching_results)\n",
    "    pred_results.append(patched_predictions)\n",
    "    \n",
    "    idx = [j for j, x in enumerate(patched_predictions) if x == correct_index]\n",
    "    if len(idx) == 0:\n",
    "        idx = [-1]\n",
    "    earliest_layer.append(idx[0])\n",
    "\n",
    "    # clear gpu memory\n",
    "    with torch.no_grad():\n",
    "        torch.cuda.empty_cache()"
   ]
  },
  {
   "cell_type": "code",
   "execution_count": 6,
   "metadata": {},
   "outputs": [
    {
     "name": "stdout",
     "output_type": "stream",
     "text": [
      "[800, 2171]\n"
     ]
    },
    {
     "data": {
      "image/png": "[encoded data removed]",
      "text/plain": [
       "<Figure size 700x700 with 1 Axes>"
      ]
     },
     "metadata": {},
     "output_type": "display_data"
    },
    {
     "data": {
      "text/plain": [
       "({0: {'pred': 2171, 'string': '0.20', 'number': '0.79', 'boolean': '0.00'},\n",
       "  1: {'pred': 800, 'string': '0.99', 'number': '0.00', 'boolean': '0.00'},\n",
       "  2: {'pred': 800, 'string': '0.99', 'number': '0.00', 'boolean': '0.00'},\n",
       "  3: {'pred': 800, 'string': '0.99', 'number': '0.00', 'boolean': '0.00'},\n",
       "  4: {'pred': 800, 'string': '0.93', 'number': '0.01', 'boolean': '0.00'},\n",
       "  5: {'pred': 800, 'string': '0.79', 'number': '0.15', 'boolean': '0.00'},\n",
       "  6: {'pred': 800, 'string': '1.00', 'number': '0.00', 'boolean': '0.00'},\n",
       "  7: {'pred': 800, 'string': '0.99', 'number': '0.00', 'boolean': '0.00'},\n",
       "  8: {'pred': 800, 'string': '0.99', 'number': '0.00', 'boolean': '0.00'},\n",
       "  9: {'pred': 800, 'string': '0.88', 'number': '0.01', 'boolean': '0.00'},\n",
       "  10: {'pred': 800, 'string': '0.89', 'number': '0.07', 'boolean': '0.00'},\n",
       "  11: {'pred': 800, 'string': '1.00', 'number': '0.00', 'boolean': '0.00'},\n",
       "  12: {'pred': 800, 'string': '1.00', 'number': '0.00', 'boolean': '0.00'},\n",
       "  13: {'pred': 800, 'string': '1.00', 'number': '0.00', 'boolean': '0.00'},\n",
       "  14: {'pred': 800, 'string': '0.87', 'number': '0.00', 'boolean': '0.00'}},\n",
       " [[2171, 800, 800],\n",
       "  [800, 800, 800],\n",
       "  [800, 800, 800],\n",
       "  [800, 800, 800],\n",
       "  [800, 800, 800]])"
      ]
     },
     "execution_count": 6,
     "metadata": {},
     "output_type": "execute_result"
    }
   ],
   "source": [
    "\n",
    "import matplotlib.pyplot as plt\n",
    "from matplotlib.colors import ListedColormap\n",
    "\n",
    "# import numpy as np\n",
    "# colours = im.cmap(im.norm(np.unique(pred_results)))\n",
    "# len_colors = len(colours)\n",
    "\n",
    "plt.figure(figsize=(7,7))\n",
    "\n",
    "# make labels\n",
    "flat_results = [x for y in pred_results for x in y]\n",
    "labels = set([model.tokenizer.decode([x]) for x in flat_results])\n",
    "labels = list(set(flat_results))\n",
    "labels.sort()\n",
    "print(labels)\n",
    "\n",
    "\n",
    "# set color map\n",
    "im = plt.imshow(pred_results, norm=\"log\", cmap=\"tab20\")\n",
    "\n",
    "plt.yticks(range(len(pred_results)), [f\"Example {i}\" for i in idx_range])\n",
    "plt.xticks(range(len(layers)), layers)\n",
    "plt.xlabel(\"Patched Layer\")\n",
    "plt.ylabel(\"Src->Dst Example idx\")\n",
    "plt.title(f\"Starcoderbase-1b. Max probability token after patching <fim_middle> from {patch_dst} to {patch_src}\")\n",
    "\n",
    "# make legend\n",
    "\n",
    "# get map of labels to colors from image\n",
    "color_map = im.cmap(im.norm(np.unique(pred_results)))\n",
    "# use map to make legend\n",
    "plt.legend(loc=\"upper left\", bbox_to_anchor=(1,0.5), handles=[plt.Rectangle((0,0),1,1, color=color_map[i], label=model.tokenizer.decode(labels[i])) for i in range(len(labels))])\n",
    "\n",
    "\n",
    "# add grid between examples and layers (halfway!)\n",
    "plt.hlines([i+0.5 for i in range(len(pred_results))], *plt.xlim(), color=\"black\", linewidth=1)\n",
    "plt.vlines([i+0.5 for i in range(len(layers))], *plt.ylim(), color=\"black\", linewidth=1)\n",
    "\n",
    "\n",
    "# build an annotations dict for each square in grid with values from probs_patched_results\n",
    "annotations = {i:{} for i in range(len(layers)*len(pred_results))}\n",
    "\n",
    "for i in range(len(pred_results)):\n",
    "    for j in range(len(layers)):\n",
    "        probs = probs_patched_results[i][j]\n",
    "        str_probs = probs[0]\n",
    "        num_probs = probs[1]\n",
    "        bool_probs = probs[2]\n",
    "        annotations[i+len(pred_results)*j] = {\"pred\": pred_results[i][j],\"string\": f\"{str_probs:.2f}\", \"number\": f\"{num_probs:.2f}\", \"boolean\": f\"{bool_probs:.2f}\"}\n",
    "        \n",
    "# create tuples of positions\n",
    "positions =[(x , y ) for x in range(len(layers)) for y in range(len(pred_results))]\n",
    "\n",
    "# add annotations\n",
    "for pos, text in annotations.items():\n",
    "    plt.annotate(model.tokenizer.decode(text[\"pred\"]), xy=positions[pos],color=\"black\", fontsize=8, ha=\"center\", va=\"center\")\n",
    "#     plt.annotate(text[\"string\"], xy=positions[pos], ha=\"left\", va=\"bottom\", color=\"black\")\n",
    "#     plt.annotate(text[\"number\"], xy=positions[pos], ha=\"center\", va=\"center\", color=\"black\")\n",
    "#     plt.annotate(text[\"boolean\"], xy=positions[pos], ha=\"right\", va=\"top\", color=\"black\") \n",
    "\n",
    "range_str = '-'.join([str(i) for i in idx_range])\n",
    "# plt.savefig(f\"results/starcoderbase-1b_patch-{patch_dst}-to-{patch_src}_idx-{range_str}_layers-{layers[0]}-{layers[-1]}.pdf\", bbox_inches=\"tight\")\n",
    "\n",
    "plt.show()\n",
    "annotations, pred_results"
   ]
  },
  {
   "cell_type": "markdown",
   "metadata": {},
   "source": [
    "## Correct wrong predictions"
   ]
  },
  {
   "cell_type": "code",
   "execution_count": 4,
   "metadata": {},
   "outputs": [],
   "source": [
    "model = AutoModelForCausalLM.from_pretrained(starcoderbase_1b).to(\"cuda\")\n",
    "tokenizer = AutoTokenizer.from_pretrained(starcoderbase_1b)\n"
   ]
  },
  {
   "cell_type": "code",
   "execution_count": 79,
   "metadata": {},
   "outputs": [
    {
     "name": "stderr",
     "output_type": "stream",
     "text": [
      "100%|██████████| 300/300 [01:45<00:00,  2.83it/s]\n"
     ]
    }
   ],
   "source": [
    "ds = make_dataset(model, tokenizer)"
   ]
  },
  {
   "cell_type": "code",
   "execution_count": 80,
   "metadata": {},
   "outputs": [
    {
     "data": {
      "application/vnd.jupyter.widget-view+json": {
       "model_id": "15906945c3f74fe4ad8919c6702cd26a",
       "version_major": 2,
       "version_minor": 0
      },
      "text/plain": [
       "Filter:   0%|          | 0/300 [00:00<?, ? examples/s]"
      ]
     },
     "metadata": {},
     "output_type": "display_data"
    },
    {
     "data": {
      "application/vnd.jupyter.widget-view+json": {
       "model_id": "81ead9de533242ad9eca1a8e342749fc",
       "version_major": 2,
       "version_minor": 0
      },
      "text/plain": [
       "Filter:   0%|          | 0/300 [00:00<?, ? examples/s]"
      ]
     },
     "metadata": {},
     "output_type": "display_data"
    },
    {
     "name": "stdout",
     "output_type": "stream",
     "text": [
      "Success: 163, Fail: 137\n"
     ]
    }
   ],
   "source": [
    "num_success = len(ds.filter(lambda x: x[\"success\"] == True))\n",
    "num_fail = len(ds.filter(lambda x: x[\"success\"] == False))\n",
    "print(f\"Success: {num_success}, Fail: {num_fail}\")\n",
    "ds.push_to_hub(\"franlucc/starcoderbase-1b-wrong-type-patching-v0-seed42\", private=True)"
   ]
  },
  {
   "cell_type": "markdown",
   "metadata": {},
   "source": [
    "## Patching over layer 14\n",
    "\n",
    "Experiment: \n",
    "\n",
    "1. take all the working prompts, average activations of <fim_middle> at layer 14\n",
    "\n",
    "2. for all the bad prompts, patch them with the average activation of <fim_middle> at layer 14"
   ]
  },
  {
   "cell_type": "code",
   "execution_count": 84,
   "metadata": {},
   "outputs": [],
   "source": [
    "\n",
    "ds = datasets.load_dataset(\"franlucc/starcoderbase-1b-wrong-type-patching-v0-seed42\", split=\"train\")\n",
    "working_ds = ds.filter(lambda x: x[\"success\"] == True)\n",
    "working_prompts = []\n",
    "for i in range(len(working_ds)):\n",
    "    working_prompts.append(working_ds[i][\"prompt\"])\n",
    "\n",
    "model = LanguageModel(starcoderbase_1b, device_map='cuda:3')\n",
    "model.config.use_cache = False\n",
    "activations = get_avg_activations(model, working_prompts, 12, -1, STARCODER_FIM)\n",
    "avg_activ = util.apply(activations, lambda x: x.value, Proxy)"
   ]
  },
  {
   "cell_type": "code",
   "execution_count": 4,
   "metadata": {},
   "outputs": [
    {
     "data": {
      "text/plain": [
       "False"
      ]
     },
     "execution_count": 4,
     "metadata": {},
     "output_type": "execute_result"
    }
   ],
   "source": [
    "model.config.use_cache"
   ]
  },
  {
   "cell_type": "code",
   "execution_count": 5,
   "metadata": {},
   "outputs": [
    {
     "data": {
      "text/plain": [
       "tensor([[-0.0058, -0.6299,  0.9661,  ...,  0.4257,  0.1548, -0.3455]],\n",
       "       device='cuda:3')"
      ]
     },
     "execution_count": 5,
     "metadata": {},
     "output_type": "execute_result"
    }
   ],
   "source": [
    "avg_activ"
   ]
  },
  {
   "cell_type": "code",
   "execution_count": 6,
   "metadata": {},
   "outputs": [],
   "source": [
    "broken_ds = ds.filter(lambda x: x[\"success\"] == False)\n",
    "broken_prompts = []\n",
    "solutions = []\n",
    "for i in range(len(broken_ds)):\n",
    "    broken_prompts.append(broken_ds[i][\"prompt\"])\n",
    "    solutions.append(broken_ds[i][\"solution\"])\n"
   ]
  },
  {
   "cell_type": "code",
   "execution_count": 81,
   "metadata": {},
   "outputs": [
    {
     "name": "stderr",
     "output_type": "stream",
     "text": [
      "0it [00:00, ?it/s]"
     ]
    },
    {
     "name": "stderr",
     "output_type": "stream",
     "text": [
      "Setting `pad_token_id` to `eos_token_id`:0 for open-end generation.\n",
      "Setting `pad_token_id` to `eos_token_id`:0 for open-end generation.\n",
      "Setting `pad_token_id` to `eos_token_id`:0 for open-end generation.\n",
      "Setting `pad_token_id` to `eos_token_id`:0 for open-end generation.\n",
      "Setting `pad_token_id` to `eos_token_id`:0 for open-end generation.\n",
      "1it [00:02,  2.98s/it]Setting `pad_token_id` to `eos_token_id`:0 for open-end generation.\n",
      "Setting `pad_token_id` to `eos_token_id`:0 for open-end generation.\n",
      "Setting `pad_token_id` to `eos_token_id`:0 for open-end generation.\n",
      "Setting `pad_token_id` to `eos_token_id`:0 for open-end generation.\n",
      "Setting `pad_token_id` to `eos_token_id`:0 for open-end generation.\n",
      "2it [00:06,  3.42s/it]Setting `pad_token_id` to `eos_token_id`:0 for open-end generation.\n",
      "Setting `pad_token_id` to `eos_token_id`:0 for open-end generation.\n",
      "Setting `pad_token_id` to `eos_token_id`:0 for open-end generation.\n",
      "Setting `pad_token_id` to `eos_token_id`:0 for open-end generation.\n",
      "Setting `pad_token_id` to `eos_token_id`:0 for open-end generation.\n",
      "3it [00:10,  3.55s/it]Setting `pad_token_id` to `eos_token_id`:0 for open-end generation.\n",
      "Setting `pad_token_id` to `eos_token_id`:0 for open-end generation.\n",
      "Setting `pad_token_id` to `eos_token_id`:0 for open-end generation.\n",
      "Setting `pad_token_id` to `eos_token_id`:0 for open-end generation.\n",
      "Setting `pad_token_id` to `eos_token_id`:0 for open-end generation.\n",
      "4it [00:14,  3.88s/it]Setting `pad_token_id` to `eos_token_id`:0 for open-end generation.\n",
      "Setting `pad_token_id` to `eos_token_id`:0 for open-end generation.\n",
      "Setting `pad_token_id` to `eos_token_id`:0 for open-end generation.\n",
      "Setting `pad_token_id` to `eos_token_id`:0 for open-end generation.\n",
      "Setting `pad_token_id` to `eos_token_id`:0 for open-end generation.\n",
      "5it [00:18,  3.77s/it]\n"
     ]
    }
   ],
   "source": [
    "model.config.use_cache = False\n",
    "res = perform_patch(model, broken_prompts[:5], solutions[:5], list(range(13,15)), -1, avg_activ, STARCODER_FIM)"
   ]
  },
  {
   "cell_type": "code",
   "execution_count": 82,
   "metadata": {},
   "outputs": [],
   "source": [
    "for r in res:\n",
    "    r[\"generated\"] = util.apply(r[\"generated\"], lambda x: x.value, Proxy)"
   ]
  },
  {
   "cell_type": "code",
   "execution_count": 83,
   "metadata": {},
   "outputs": [
    {
     "name": "stdout",
     "output_type": "stream",
     "text": [
      "====================\n",
      "Example 0\n",
      "====================\n",
      "<fim_middle>_uniq_1) \n",
      "\n",
      "Solution:\n",
      " _uniq_0 \n",
      "\n",
      "Old generated:\n",
      " _uniq_1) => _uniq_0,\n",
      "  _uniq_11: _uniq_0\n",
      "): _uniq_0 {\n",
      "  switch (_uniq_9.kind) {\n",
      "    case \"Ctor4\": {\n",
      "      return _uniq\n",
      "====================\n",
      "Example 1\n",
      "====================\n",
      "<fim_middle>nat) => nat) \n",
      "\n",
      "Solution:\n",
      " nat \n",
      "\n",
      "Old generated:\n",
      " nat) => nat) {\n",
      "    switch (l.kind) {\n",
      "      case \"Nil\": {\n",
      "        return { kind: \"Nil\" };\n",
      "      }\n",
      "      case \"Cons\": {\n",
      "        let xs = l.f1;\n",
      "        let x =\n",
      "====================\n",
      "Example 2\n",
      "====================\n",
      "<fim_middle>_uniq_0): \n",
      "\n",
      "Solution:\n",
      " _uniq_3 \n",
      "\n",
      "Old generated:\n",
      " _uniq_0): _uniq_1 {\n",
      "  switch (_uniq_23.kind) {\n",
      "    case \"Ctor4\": {\n",
      "      return { kind: \"Ctor6\" };\n",
      "    }\n",
      "    case \"Ctor5\": {\n",
      "      let _\n",
      "====================\n",
      "Example 3\n",
      "====================\n",
      "<fim_middle>_uniq_1<|endoftext|> \n",
      "\n",
      "Solution:\n",
      " _uniq_2 \n",
      "\n",
      "Old generated:\n",
      " _uniq_1): _uniq_2 {\n",
      "  switch (_uniq_35.kind) {\n",
      "    case \"Ctor6\": {\n",
      "      return { kind: \"Ctor8\" };\n",
      "    }\n",
      "    case \"Ctor7\": {\n",
      "      let _\n",
      "====================\n",
      "Example 4\n",
      "====================\n",
      "<fim_middle>_uniq_1): \n",
      "\n",
      "Solution:\n",
      " _uniq_2 \n",
      "\n",
      "Old generated:\n",
      " _uniq_1): _uniq_2 {\n",
      "  switch (_uniq_14.kind) {\n",
      "    case \"Ctor5\": {\n",
      "      return { kind: \"Ctor5\" };\n",
      "    }\n",
      "    case \"Ctor6\": {\n",
      "      return {\n"
     ]
    }
   ],
   "source": [
    "for i in range(len(res)):\n",
    "      print(f\"====================\\nExample {i}\\n====================\")\n",
    "      l = res[i][\"generated\"].cpu().numpy().tolist()\n",
    "      print(\"\".join([model.tokenizer.decode(j) for j in l[0][-6:]]), \"\\n\\nSolution:\\n\",\n",
    "            res[i][\"solution\"], \"\\n\\nOld generated:\\n\",\n",
    "            broken_ds[i][\"generated\"])"
   ]
  },
  {
   "cell_type": "code",
   "execution_count": null,
   "metadata": {},
   "outputs": [],
   "source": []
  }
 ],
 "metadata": {
  "kernelspec": {
   "display_name": "gpu",
   "language": "python",
   "name": "python3"
  },
  "language_info": {
   "codemirror_mode": {
    "name": "ipython",
    "version": 3
   },
   "file_extension": ".py",
   "mimetype": "text/x-python",
   "name": "python",
   "nbconvert_exporter": "python",
   "pygments_lexer": "ipython3",
   "version": "3.10.12"
  }
 },
 "nbformat": 4,
 "nbformat_minor": 2
}
