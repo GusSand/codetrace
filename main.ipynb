{
 "cells": [
  {
   "cell_type": "markdown",
   "metadata": {},
   "source": [
    "# Activation patching basic\n"
   ]
  },
  {
   "cell_type": "code",
   "execution_count": 2,
   "metadata": {},
   "outputs": [
    {
     "name": "stdout",
     "output_type": "stream",
     "text": [
      "The autoreload extension is already loaded. To reload it, use:\n",
      "  %reload_ext autoreload\n"
     ]
    }
   ],
   "source": [
    "\n",
    "%load_ext autoreload\n",
    "%autoreload 2\n",
    "# # # set cuda visible device\n",
    "# !export CUDA_VISIBLE_DEVICES=3\n",
    "# import os\n",
    "# os.environ[\"CUDA_VISIBLE_DEVICES\"] = \"3\"\n",
    "\n",
    "starcoderbase_1b = \"/home/arjun/models/starcoderbase-1b/\"\n",
    "\n",
    "from nnsight import LanguageModel\n",
    "from transformers import AutoTokenizer, AutoConfig, AutoModelForCausalLM\n",
    "from src.utils import *\n",
    "import datasets\n",
    "from src.experiments.wrong_type_patching import *\n",
    "from src.experiments.type_patching import *\n",
    "from transformers import AutoTokenizer, AutoConfig, AutoModelForCausalLM\n",
    "import plotly.express as px\n",
    "\n",
    "from nnsight import LanguageModel, util\n",
    "from nnsight.tracing.Proxy import Proxy\n",
    "\n",
    "import datasets\n",
    "from src.utils import *"
   ]
  },
  {
   "cell_type": "code",
   "execution_count": 3,
   "metadata": {},
   "outputs": [
    {
     "data": {
      "text/plain": [
       "GPTBigCodeForCausalLM(\n",
       "  (transformer): GPTBigCodeModel(\n",
       "    (wte): Embedding(49152, 2048)\n",
       "    (wpe): Embedding(8192, 2048)\n",
       "    (drop): Dropout(p=0.1, inplace=False)\n",
       "    (h): ModuleList(\n",
       "      (0-23): 24 x GPTBigCodeBlock(\n",
       "        (ln_1): LayerNorm((2048,), eps=1e-05, elementwise_affine=True)\n",
       "        (attn): GPTBigCodeSdpaAttention(\n",
       "          (c_attn): Linear(in_features=2048, out_features=2304, bias=True)\n",
       "          (c_proj): Linear(in_features=2048, out_features=2048, bias=True)\n",
       "          (attn_dropout): Dropout(p=0.1, inplace=False)\n",
       "          (resid_dropout): Dropout(p=0.1, inplace=False)\n",
       "        )\n",
       "        (ln_2): LayerNorm((2048,), eps=1e-05, elementwise_affine=True)\n",
       "        (mlp): GPTBigCodeMLP(\n",
       "          (c_fc): Linear(in_features=2048, out_features=8192, bias=True)\n",
       "          (c_proj): Linear(in_features=8192, out_features=2048, bias=True)\n",
       "          (act): PytorchGELUTanh()\n",
       "          (dropout): Dropout(p=0.1, inplace=False)\n",
       "        )\n",
       "      )\n",
       "    )\n",
       "    (ln_f): LayerNorm((2048,), eps=1e-05, elementwise_affine=True)\n",
       "  )\n",
       "  (lm_head): Linear(in_features=2048, out_features=49152, bias=False)\n",
       ")"
      ]
     },
     "execution_count": 3,
     "metadata": {},
     "output_type": "execute_result"
    }
   ],
   "source": [
    "model = LanguageModel(starcoderbase_1b, device_map='cuda:0')\n",
    "model"
   ]
  },
  {
   "cell_type": "markdown",
   "metadata": {},
   "source": [
    "## Activation patching"
   ]
  },
  {
   "cell_type": "code",
   "execution_count": 3,
   "metadata": {},
   "outputs": [
    {
     "name": "stdout",
     "output_type": "stream",
     "text": [
      "800 4398 2171\n"
     ]
    }
   ],
   "source": [
    "ds = datasets.load_dataset(\"franlucc/type_patching_v0\", split=\"train\")\n",
    "string_ex = [d for d in ds if d[\"fim_type\"] == \"string\"]\n",
    "boolean_ex = [d for d in ds if d[\"fim_type\"] == \"boolean\"]\n",
    "number_ex = [d for d in ds if d[\"fim_type\"] == \"number\"]\n",
    "\n",
    "string_idx = model.tokenizer.convert_tokens_to_ids(\"string\")\n",
    "boolean_idx = model.tokenizer.convert_tokens_to_ids(\"boolean\")\n",
    "number_idx = model.tokenizer.convert_tokens_to_ids(\"number\")\n",
    "print(string_idx, boolean_idx, number_idx)\n",
    "\n"
   ]
  },
  {
   "cell_type": "code",
   "execution_count": 4,
   "metadata": {},
   "outputs": [],
   "source": [
    "# import os\n",
    "# os.makedirs(\"str-bool-num-types\",exist_ok=True)\n",
    "# os.makedirs(\"str-bool-num-types/str\",exist_ok=True)\n",
    "# os.makedirs(\"str-bool-num-types/bool\",exist_ok=True)\n",
    "# os.makedirs(\"str-bool-num-types/num\",exist_ok=True)\n",
    "# for i,prog in enumerate(string_ex):\n",
    "#     with open(f\"str-bool-num-types/str/{i}_prog.ts\", \"w\") as f:\n",
    "#         f.write(str(prog[\"fim_program\"]))\n",
    "# for i,prog in enumerate(boolean_ex):\n",
    "#     with open(f\"str-bool-num-types/bool/{i}_prog.ts\", \"w\") as f:\n",
    "#         f.write(str(prog[\"fim_program\"]))\n",
    "# for i,prog in enumerate(number_ex):\n",
    "#     with open(f\"str-bool-num-types/num/{i}_prog.ts\", \"w\") as f:\n",
    "#         f.write(str(prog[\"fim_program\"]))\n",
    "        \n",
    "    "
   ]
  },
  {
   "cell_type": "code",
   "execution_count": 5,
   "metadata": {},
   "outputs": [
    {
     "name": "stdout",
     "output_type": "stream",
     "text": [
      "Patching...\n"
     ]
    },
    {
     "name": "stderr",
     "output_type": "stream",
     "text": [
      "100%|██████████| 3/3 [00:00<00:00,  3.07it/s]\n",
      "You're using a GPT2TokenizerFast tokenizer. Please note that with a fast tokenizer, using the `__call__` method is faster than using a method to encode the text followed by a call to the `pad` method to get a padded encoding.\n"
     ]
    },
    {
     "name": "stdout",
     "output_type": "stream",
     "text": [
      "Patching...\n"
     ]
    },
    {
     "name": "stderr",
     "output_type": "stream",
     "text": [
      "100%|██████████| 3/3 [00:00<00:00,  3.11it/s]\n"
     ]
    },
    {
     "name": "stdout",
     "output_type": "stream",
     "text": [
      "Patching...\n"
     ]
    },
    {
     "name": "stderr",
     "output_type": "stream",
     "text": [
      "100%|██████████| 3/3 [00:00<00:00,  3.09it/s]\n"
     ]
    },
    {
     "name": "stdout",
     "output_type": "stream",
     "text": [
      "Patching...\n"
     ]
    },
    {
     "name": "stderr",
     "output_type": "stream",
     "text": [
      "100%|██████████| 3/3 [00:00<00:00,  3.11it/s]\n"
     ]
    },
    {
     "name": "stdout",
     "output_type": "stream",
     "text": [
      "Patching...\n"
     ]
    },
    {
     "name": "stderr",
     "output_type": "stream",
     "text": [
      "100%|██████████| 3/3 [00:00<00:00,  3.12it/s]\n"
     ]
    }
   ],
   "source": [
    "from src.experiments.type_patching import *\n",
    "import os\n",
    "os.environ[\"TOKENIZERS_PARALLELISM\"] = \"false\"\n",
    "\n",
    "pred_results = []\n",
    "probs_patched_results = []\n",
    "earliest_layer = []\n",
    "def get_ds(patch):\n",
    "    if patch == \"string\":\n",
    "        return string_ex\n",
    "    elif patch == \"boolean\":\n",
    "        return boolean_ex\n",
    "    elif patch == \"number\":\n",
    "        return number_ex\n",
    "\n",
    "patch_src = \"string\"\n",
    "patch_dst = \"number\"\n",
    "correct_index = model.tokenizer(patch_src)[\"input_ids\"][0]\n",
    "incorrect_index = model.tokenizer(patch_dst)[\"input_ids\"][0]\n",
    "\n",
    "import random\n",
    "# 10 random idx\n",
    "random.seed(36)\n",
    "idx_range = [random.randint(0, 500) for i in range(5)]\n",
    "layers = list(range(13,16))\n",
    "\n",
    "for i in idx_range:\n",
    "    with torch.no_grad():\n",
    "        torch.cuda.empty_cache()\n",
    "    clean_prompt = placeholder_to_std_fmt(get_ds(patch_src)[i][\"fim_program\"], STARCODER_FIM)\n",
    "    corrupted_prompt = placeholder_to_std_fmt(get_ds(patch_dst)[i][\"fim_program\"], STARCODER_FIM)\n",
    "    patching_results, patched_predictions = patch_fim_tokens(model, clean_prompt, corrupted_prompt, STARCODER_FIM, correct_index, incorrect_index, layers)\n",
    "    \n",
    "    patched_predictions = util.apply(patched_predictions, lambda x: x.value.item(), Proxy)\n",
    "    patching_results = util.apply(patching_results, lambda x: x.value.item(), Proxy)\n",
    "    \n",
    "    probs_patched_results.append(patching_results)\n",
    "    pred_results.append(patched_predictions)\n",
    "    \n",
    "    idx = [j for j, x in enumerate(patched_predictions) if x == correct_index]\n",
    "    if len(idx) == 0:\n",
    "        idx = [-1]\n",
    "    earliest_layer.append(idx[0])\n",
    "\n",
    "    # clear gpu memory\n",
    "    with torch.no_grad():\n",
    "        torch.cuda.empty_cache()"
   ]
  },
  {
   "cell_type": "code",
   "execution_count": 6,
   "metadata": {},
   "outputs": [
    {
     "name": "stdout",
     "output_type": "stream",
     "text": [
      "[800, 2171]\n"
     ]
    },
    {
     "data": {
      "image/png": "[encoded data removed]",
      "text/plain": [
       "<Figure size 700x700 with 1 Axes>"
      ]
     },
     "metadata": {},
     "output_type": "display_data"
    },
    {
     "data": {
      "text/plain": [
       "({0: {'pred': 2171, 'string': '0.20', 'number': '0.79', 'boolean': '0.00'},\n",
       "  1: {'pred': 800, 'string': '0.99', 'number': '0.00', 'boolean': '0.00'},\n",
       "  2: {'pred': 800, 'string': '0.99', 'number': '0.00', 'boolean': '0.00'},\n",
       "  3: {'pred': 800, 'string': '0.99', 'number': '0.00', 'boolean': '0.00'},\n",
       "  4: {'pred': 800, 'string': '0.93', 'number': '0.01', 'boolean': '0.00'},\n",
       "  5: {'pred': 800, 'string': '0.79', 'number': '0.15', 'boolean': '0.00'},\n",
       "  6: {'pred': 800, 'string': '1.00', 'number': '0.00', 'boolean': '0.00'},\n",
       "  7: {'pred': 800, 'string': '0.99', 'number': '0.00', 'boolean': '0.00'},\n",
       "  8: {'pred': 800, 'string': '0.99', 'number': '0.00', 'boolean': '0.00'},\n",
       "  9: {'pred': 800, 'string': '0.88', 'number': '0.01', 'boolean': '0.00'},\n",
       "  10: {'pred': 800, 'string': '0.89', 'number': '0.07', 'boolean': '0.00'},\n",
       "  11: {'pred': 800, 'string': '1.00', 'number': '0.00', 'boolean': '0.00'},\n",
       "  12: {'pred': 800, 'string': '1.00', 'number': '0.00', 'boolean': '0.00'},\n",
       "  13: {'pred': 800, 'string': '1.00', 'number': '0.00', 'boolean': '0.00'},\n",
       "  14: {'pred': 800, 'string': '0.87', 'number': '0.00', 'boolean': '0.00'}},\n",
       " [[2171, 800, 800],\n",
       "  [800, 800, 800],\n",
       "  [800, 800, 800],\n",
       "  [800, 800, 800],\n",
       "  [800, 800, 800]])"
      ]
     },
     "execution_count": 6,
     "metadata": {},
     "output_type": "execute_result"
    }
   ],
   "source": [
    "\n",
    "import matplotlib.pyplot as plt\n",
    "from matplotlib.colors import ListedColormap\n",
    "\n",
    "# import numpy as np\n",
    "# colours = im.cmap(im.norm(np.unique(pred_results)))\n",
    "# len_colors = len(colours)\n",
    "\n",
    "plt.figure(figsize=(7,7))\n",
    "\n",
    "# make labels\n",
    "flat_results = [x for y in pred_results for x in y]\n",
    "labels = set([model.tokenizer.decode([x]) for x in flat_results])\n",
    "labels = list(set(flat_results))\n",
    "labels.sort()\n",
    "print(labels)\n",
    "\n",
    "\n",
    "# set color map\n",
    "im = plt.imshow(pred_results, norm=\"log\", cmap=\"tab20\")\n",
    "\n",
    "plt.yticks(range(len(pred_results)), [f\"Example {i}\" for i in idx_range])\n",
    "plt.xticks(range(len(layers)), layers)\n",
    "plt.xlabel(\"Patched Layer\")\n",
    "plt.ylabel(\"Src->Dst Example idx\")\n",
    "plt.title(f\"Starcoderbase-1b. Max probability token after patching <fim_middle> from {patch_dst} to {patch_src}\")\n",
    "\n",
    "# make legend\n",
    "\n",
    "# get map of labels to colors from image\n",
    "color_map = im.cmap(im.norm(np.unique(pred_results)))\n",
    "# use map to make legend\n",
    "plt.legend(loc=\"upper left\", bbox_to_anchor=(1,0.5), handles=[plt.Rectangle((0,0),1,1, color=color_map[i], label=model.tokenizer.decode(labels[i])) for i in range(len(labels))])\n",
    "\n",
    "\n",
    "# add grid between examples and layers (halfway!)\n",
    "plt.hlines([i+0.5 for i in range(len(pred_results))], *plt.xlim(), color=\"black\", linewidth=1)\n",
    "plt.vlines([i+0.5 for i in range(len(layers))], *plt.ylim(), color=\"black\", linewidth=1)\n",
    "\n",
    "\n",
    "# build an annotations dict for each square in grid with values from probs_patched_results\n",
    "annotations = {i:{} for i in range(len(layers)*len(pred_results))}\n",
    "\n",
    "for i in range(len(pred_results)):\n",
    "    for j in range(len(layers)):\n",
    "        probs = probs_patched_results[i][j]\n",
    "        str_probs = probs[0]\n",
    "        num_probs = probs[1]\n",
    "        bool_probs = probs[2]\n",
    "        annotations[i+len(pred_results)*j] = {\"pred\": pred_results[i][j],\"string\": f\"{str_probs:.2f}\", \"number\": f\"{num_probs:.2f}\", \"boolean\": f\"{bool_probs:.2f}\"}\n",
    "        \n",
    "# create tuples of positions\n",
    "positions =[(x , y ) for x in range(len(layers)) for y in range(len(pred_results))]\n",
    "\n",
    "# add annotations\n",
    "for pos, text in annotations.items():\n",
    "    plt.annotate(model.tokenizer.decode(text[\"pred\"]), xy=positions[pos],color=\"black\", fontsize=8, ha=\"center\", va=\"center\")\n",
    "#     plt.annotate(text[\"string\"], xy=positions[pos], ha=\"left\", va=\"bottom\", color=\"black\")\n",
    "#     plt.annotate(text[\"number\"], xy=positions[pos], ha=\"center\", va=\"center\", color=\"black\")\n",
    "#     plt.annotate(text[\"boolean\"], xy=positions[pos], ha=\"right\", va=\"top\", color=\"black\") \n",
    "\n",
    "range_str = '-'.join([str(i) for i in idx_range])\n",
    "# plt.savefig(f\"results/starcoderbase-1b_patch-{patch_dst}-to-{patch_src}_idx-{range_str}_layers-{layers[0]}-{layers[-1]}.pdf\", bbox_inches=\"tight\")\n",
    "\n",
    "plt.show()\n",
    "annotations, pred_results"
   ]
  },
  {
   "cell_type": "markdown",
   "metadata": {},
   "source": [
    "## Correct wrong predictions"
   ]
  },
  {
   "cell_type": "code",
   "execution_count": 4,
   "metadata": {},
   "outputs": [],
   "source": [
    "model = AutoModelForCausalLM.from_pretrained(starcoderbase_1b).to(\"cuda\")\n",
    "tokenizer = AutoTokenizer.from_pretrained(starcoderbase_1b)\n"
   ]
  },
  {
   "cell_type": "code",
   "execution_count": 79,
   "metadata": {},
   "outputs": [
    {
     "name": "stderr",
     "output_type": "stream",
     "text": [
      "100%|██████████| 300/300 [01:45<00:00,  2.83it/s]\n"
     ]
    }
   ],
   "source": [
    "ds = make_dataset(model, tokenizer)"
   ]
  },
  {
   "cell_type": "code",
   "execution_count": 6,
   "metadata": {},
   "outputs": [
    {
     "name": "stdout",
     "output_type": "stream",
     "text": [
      "Success: 163, Fail: 137\n"
     ]
    }
   ],
   "source": [
    "ds = datasets.load_dataset(\"franlucc/starcoderbase-1b-wrong-type-patching-v0-seed42\", split=\"train\")\n",
    "num_success = len(ds.filter(lambda x: x[\"success\"] == True))\n",
    "num_fail = len(ds.filter(lambda x: x[\"success\"] == False))\n",
    "print(f\"Success: {num_success}, Fail: {num_fail}\")\n",
    "# ds.push_to_hub(\"franlucc/starcoderbase-1b-wrong-type-patching-v0-seed42\", private=True)"
   ]
  },
  {
   "cell_type": "markdown",
   "metadata": {},
   "source": [
    "## Patching over layer 14\n",
    "\n",
    "Experiment: \n",
    "\n",
    "1. take all the working prompts, average activations of <fim_middle> at layer 14\n",
    "\n",
    "2. for all the bad prompts, patch them with the average activation of <fim_middle> at layer 14"
   ]
  },
  {
   "cell_type": "code",
   "execution_count": 29,
   "metadata": {},
   "outputs": [
    {
     "data": {
      "text/plain": [
       "Dataset({\n",
       "    features: ['prompt', 'solution', 'generated', 'success', 'filename', 'variation_idx'],\n",
       "    num_rows: 300\n",
       "})"
      ]
     },
     "execution_count": 29,
     "metadata": {},
     "output_type": "execute_result"
    }
   ],
   "source": [
    "ds"
   ]
  },
  {
   "cell_type": "code",
   "execution_count": 44,
   "metadata": {},
   "outputs": [
    {
     "data": {
      "application/vnd.jupyter.widget-view+json": {
       "model_id": "ff84e236d831450692546a51c7ece83f",
       "version_major": 2,
       "version_minor": 0
      },
      "text/plain": [
       "Filter:   0%|          | 0/212 [00:00<?, ? examples/s]"
      ]
     },
     "metadata": {},
     "output_type": "display_data"
    },
    {
     "data": {
      "application/vnd.jupyter.widget-view+json": {
       "model_id": "bac4bd181f7147e79f74e1aa686ed48c",
       "version_major": 2,
       "version_minor": 0
      },
      "text/plain": [
       "Filter:   0%|          | 0/212 [00:00<?, ? examples/s]"
      ]
     },
     "metadata": {},
     "output_type": "display_data"
    },
    {
     "name": "stdout",
     "output_type": "stream",
     "text": [
      "Success: 163, Fail: 49\n"
     ]
    }
   ],
   "source": [
    "## fix success and fail labels - if generated output contains \")\", discard\n",
    "ds = datasets.load_dataset(\"franlucc/starcoderbase-1b-wrong-type-patching-v0-seed42\", split=\"train\")\n",
    "ds_filt = ds.filter(lambda x: not (\":\" in x[\"generated\"]))\n",
    "ds = ds_filt\n",
    "working_ds = ds.filter(lambda x: x[\"success\"] == True)\n",
    "broken_ds = ds.filter(lambda x: x[\"success\"] == False)\n",
    "print(f\"Success: {len(working_ds)}, Fail: {len(broken_ds)}\")"
   ]
  },
  {
   "cell_type": "code",
   "execution_count": 167,
   "metadata": {},
   "outputs": [
    {
     "name": "stderr",
     "output_type": "stream",
     "text": [
      "100%|██████████| 50/50 [00:30<00:00,  1.65it/s]\n"
     ]
    }
   ],
   "source": [
    "from src.experiments.wrong_type_patching import *\n",
    "\n",
    "working_ds = ds.filter(lambda x: x[\"success\"] == True)\n",
    "working_prompts = []\n",
    "for i in range(len(working_ds)):\n",
    "    working_prompts.append(working_ds[i][\"prompt\"])\n",
    "\n",
    "model.config.use_cache = False\n",
    "activations = get_avg_activations(model, working_prompts[:50], [12,13,14,15,16,17,18], -1, STARCODER_FIM)\n",
    "avg_activs = {k: util.apply(v, lambda x: x.value, Proxy) for k,v in activations.items()}"
   ]
  },
  {
   "cell_type": "code",
   "execution_count": 168,
   "metadata": {},
   "outputs": [
    {
     "data": {
      "text/plain": [
       "{12: tensor([[ 0.2332, -0.4936,  0.5612,  ...,  0.0468,  0.3501, -0.2479]],\n",
       "        device='cuda:0'),\n",
       " 13: tensor([[ 0.0060, -0.5860,  0.3262,  ..., -0.0482,  0.3156, -0.1067]],\n",
       "        device='cuda:0'),\n",
       " 14: tensor([[-0.2257, -0.4051,  0.6397,  ..., -0.0986,  0.1448, -0.1620]],\n",
       "        device='cuda:0'),\n",
       " 15: tensor([[-0.5245, -0.2085,  0.4725,  ..., -0.2118,  0.4407, -0.4170]],\n",
       "        device='cuda:0'),\n",
       " 16: tensor([[-0.2790, -0.5484,  0.8534,  ..., -0.5543,  0.2207, -0.0022]],\n",
       "        device='cuda:0'),\n",
       " 17: tensor([[-0.2456, -0.6614,  1.0695,  ..., -0.6878,  0.3877, -0.1200]],\n",
       "        device='cuda:0'),\n",
       " 18: tensor([[-0.5462, -0.4573,  0.6801,  ..., -0.5005,  0.3960, -0.3559]],\n",
       "        device='cuda:0')}"
      ]
     },
     "execution_count": 168,
     "metadata": {},
     "output_type": "execute_result"
    }
   ],
   "source": [
    "avg_activs"
   ]
  },
  {
   "cell_type": "code",
   "execution_count": 46,
   "metadata": {},
   "outputs": [],
   "source": [
    "# save tensor as bin\n",
    "os.makedirs(\"tensors\", exist_ok=True)\n",
    "avg_activ = [avg_activ[\"prefix\"], avg_activ[\"middle\"], avg_activ[\"suffix\"]]\n",
    "torch.save(avg_activ, \"tensors/avg_activations-full-fim-working-BASIC-layer14.pt\")"
   ]
  },
  {
   "cell_type": "code",
   "execution_count": 57,
   "metadata": {},
   "outputs": [],
   "source": [
    "working_ds = ds.filter(lambda x: x[\"success\"] == True)\n",
    "working_prompts = []\n",
    "working_solutions = []\n",
    "idx_range = range(len(working_ds))\n",
    "for i in idx_range:\n",
    "    working_prompts.append(working_ds[i][\"prompt\"])\n",
    "    working_solutions.append(working_ds[i][\"solution\"])"
   ]
  },
  {
   "cell_type": "code",
   "execution_count": 189,
   "metadata": {},
   "outputs": [],
   "source": [
    "broken_ds = ds.filter(lambda x: x[\"success\"] == False)\n",
    "broken_prompts = []\n",
    "broken_solutions = []\n",
    "idx_range = range(len(broken_ds))\n",
    "for i in idx_range:\n",
    "    broken_prompts.append(broken_ds[i][\"prompt\"])\n",
    "    broken_solutions.append(broken_ds[i][\"solution\"])\n"
   ]
  },
  {
   "cell_type": "code",
   "execution_count": 253,
   "metadata": {},
   "outputs": [],
   "source": [
    "prompt = '''declare var require: any;\n",
    "const assert = require(\"node:assert\");\n",
    "type _uniq_2 = { kind: \"Ctor7\" } | { kind: \"Ctor8\" } | { kind: \"Ctor9\" };\n",
    "type _uniq_5 = { kind: \"Ctor5\" } | { kind: \"Ctor6\"; f0: _uniq_0; f1: _uniq_1;};\n",
    "type _uniq_0 = { kind: \"Ctor3\" } | { kind: \"Ctor4\"; f0: _uniq_0 };\n",
    "\n",
    "function _uniq_10(_uniq_12: _uniq_0, _uniq_13: _uniq_0): <FILL> {\n",
    "  switch (_uniq_12.kind) {\n",
    "    case \"Ctor3\": {\n",
    "      switch (_uniq_13.kind) {\n",
    "        case \"Ctor3\": {\n",
    "          return { kind: \"Ctor8\" };\n",
    "        }\n",
    "        case \"Ctor4\": {\n",
    "          let _uniq_14 = _uniq_13.f0;\n",
    "          return { kind: \"Ctor7\" };\n",
    "        }\n",
    "      }\n",
    "    }\n",
    "    case \"Ctor4\": {\n",
    "      let _uniq_15 = _uniq_12.f0;\n",
    "      switch (_uniq_13.kind) {\n",
    "        case \"Ctor3\": {\n",
    "          return { kind: \"Ctor9\" };\n",
    "        }\n",
    "      }\n",
    "    }\n",
    "  }\n",
    "}\n",
    "\n",
    "\n",
    "'''"
   ]
  },
  {
   "cell_type": "code",
   "execution_count": 254,
   "metadata": {},
   "outputs": [
    {
     "name": "stderr",
     "output_type": "stream",
     "text": [
      "0it [00:00, ?it/s]"
     ]
    },
    {
     "name": "stderr",
     "output_type": "stream",
     "text": [
      "Setting `pad_token_id` to `eos_token_id`:0 for open-end generation.\n",
      "Setting `pad_token_id` to `eos_token_id`:0 for open-end generation.\n",
      "Setting `pad_token_id` to `eos_token_id`:0 for open-end generation.\n",
      "Setting `pad_token_id` to `eos_token_id`:0 for open-end generation.\n",
      "Setting `pad_token_id` to `eos_token_id`:0 for open-end generation.\n",
      "1it [00:02,  2.87s/it]Setting `pad_token_id` to `eos_token_id`:0 for open-end generation.\n",
      "Setting `pad_token_id` to `eos_token_id`:0 for open-end generation.\n",
      "Setting `pad_token_id` to `eos_token_id`:0 for open-end generation.\n",
      "Setting `pad_token_id` to `eos_token_id`:0 for open-end generation.\n",
      "Setting `pad_token_id` to `eos_token_id`:0 for open-end generation.\n",
      "2it [00:05,  2.61s/it]\n"
     ]
    }
   ],
   "source": [
    "model.config.use_cache = False\n",
    "model.tokenizer.padding_side = \"left\"\n",
    "broken_prompts[9] = prompt\n",
    "res = perform_patch(model, broken_prompts[8:10], broken_solutions[8:10], [14], -1, patches=avg_activs, fim=STARCODER_FIM)"
   ]
  },
  {
   "cell_type": "code",
   "execution_count": 255,
   "metadata": {},
   "outputs": [
    {
     "name": "stdout",
     "output_type": "stream",
     "text": [
      "{\n",
      "    \"0\": {\n",
      "        \"old\": \"_uniq_1) => _uniq_0,\\n  _uniq_11: _uniq_0\\n): _uniq_0 {\\n  switch (_uniq_9.kind) {\\n    case \\\"Ctor4\\\": {\\n      return _uniq\",\n",
      "        \"new\": \"<fim_middle>_uniq_1<|endoftext|>\",\n",
      "        \"gold\": \"_uniq_2\",\n",
      "        \"prompt\": \"declare var require: any;\\nconst assert = require(\\\"node:assert\\\");\\ntype _uniq_0 = { kind: \\\"Ctor2\\\" } | { kind: \\\"Ctor3\\\"; f0: _uniq_0 };\\ntype _uniq_1 = { kind: \\\"Ctor4\\\" } | { kind: \\\"Ctor5\\\"; f0: _uniq_0; f1: _uniq_1 };\\n\\nfunction _uniq_6(\\n  _uniq_9: _uniq_1,\\n  _uniq_10: (__x7: _uniq_0, __x8: <FILL>) => _uniq_0,\\n  _uniq_11: _uniq_0\\n): _uniq_0 {\\n  switch (_uniq_9.kind) {\\n    case \\\"Ctor4\\\": {\\n      return _uniq_11;\\n    }\\n    case \\\"Ctor5\\\": {\\n      let _uniq_13 = _uniq_9.f1;\\n      let _uniq_12 = _uniq_9.f0;\\n      return _uniq_6(_uniq_13, _uniq_10, _uniq_10(_uniq_11, _uniq_12));\\n    }\\n  }\\n}\\nfunction _uniq_7(_uniq_14: _uniq_0, _uniq_15: _uniq_0): _uniq_0 {\\n  switch (_uniq_14.kind) {\\n    case \\\"Ctor2\\\": {\\n      return _uniq_15;\\n    }\\n    case \\\"Ctor3\\\": {\\n      let _uniq_16 = _uniq_14.f0;\\n      return { kind: \\\"Ctor3\\\", f0: _uniq_7(_uniq_16, _uniq_15) };\\n    }\\n  }\\n}\\n\\nfunction _uniq_8(_uniq_17: _uniq_1): _uniq_0 {\\n  return _uniq_6(_uniq_17, _uniq_7, { kind: \\\"Ctor2\\\" });\\n}\\n\\nfunction assertions() {\\n  assert.deepEqual(_uniq_8({ kind: \\\"Ctor4\\\" }), { kind: \\\"Ctor2\\\" });\\n  assert.deepEqual(\\n    _uniq_8({\\n      kind: \\\"Ctor5\\\",\\n      f0: { kind: \\\"Ctor3\\\", f0: { kind: \\\"Ctor3\\\", f0: { kind: \\\"Ctor2\\\" } } },\\n      f1: {\\n        kind: \\\"Ctor5\\\",\\n        f0: { kind: \\\"Ctor3\\\", f0: { kind: \\\"Ctor2\\\" } },\\n        f1: { kind: \\\"Ctor4\\\" },\\n      },\\n    }),\\n    {\\n      kind: \\\"Ctor3\\\",\\n      f0: { kind: \\\"Ctor3\\\", f0: { kind: \\\"Ctor3\\\", f0: { kind: \\\"Ctor2\\\" } } },\\n    }\\n  );\\n}\\nassertions();\\n\\nfunction validations() {\\n  assert.deepEqual(\\n    _uniq_8({ kind: \\\"Ctor5\\\", f0: { kind: \\\"Ctor2\\\" }, f1: { kind: \\\"Ctor4\\\" } }),\\n    { kind: \\\"Ctor2\\\" }\\n  );\\n  assert.deepEqual(\\n    _uniq_8({\\n      kind: \\\"Ctor5\\\",\\n      f0: { kind: \\\"Ctor3\\\", f0: { kind: \\\"Ctor2\\\" } },\\n      f1: {\\n        kind: \\\"Ctor5\\\",\\n        f0: { kind: \\\"Ctor3\\\", f0: { kind: \\\"Ctor3\\\", f0: { kind: \\\"Ctor2\\\" } } },\\n        f1: { kind: \\\"Ctor4\\\" },\\n      },\\n    }),\\n    {\\n      kind: \\\"Ctor3\\\",\\n      f0: { kind: \\\"Ctor3\\\", f0: { kind: \\\"Ctor3\\\", f0: { kind: \\\"Ctor2\\\" } } },\\n    }\\n  );\\n  assert.deepEqual(\\n    _uniq_8({\\n      kind: \\\"Ctor5\\\",\\n      f0: { kind: \\\"Ctor3\\\", f0: { kind: \\\"Ctor3\\\", f0: { kind: \\\"Ctor2\\\" } } },\\n      f1: {\\n        kind: \\\"Ctor5\\\",\\n        f0: { kind: \\\"Ctor3\\\", f0: { kind: \\\"Ctor2\\\" } },\\n        f1: {\\n          kind: \\\"Ctor5\\\",\\n          f0: {\\n            kind: \\\"Ctor3\\\",\\n            f0: {\\n              kind: \\\"Ctor3\\\",\\n              f0: {\\n                kind: \\\"Ctor3\\\",\\n                f0: {\\n                  kind: \\\"Ctor3\\\",\\n                  f0: { kind: \\\"Ctor3\\\", f0: { kind: \\\"Ctor2\\\" } },\\n                },\\n              },\\n            },\\n          },\\n          f1: { kind: \\\"Ctor4\\\" },\\n        },\\n      },\\n    }),\\n    {\\n      kind: \\\"Ctor3\\\",\\n      f0: {\\n        kind: \\\"Ctor3\\\",\\n        f0: {\\n          kind: \\\"Ctor3\\\",\\n          f0: {\\n            kind: \\\"Ctor3\\\",\\n            f0: {\\n              kind: \\\"Ctor3\\\",\\n              f0: {\\n                kind: \\\"Ctor3\\\",\\n                f0: {\\n                  kind: \\\"Ctor3\\\",\\n                  f0: { kind: \\\"Ctor3\\\", f0: { kind: \\\"Ctor2\\\" } },\\n                },\\n              },\\n            },\\n          },\\n        },\\n      },\\n    }\\n  );\\n}\\nvalidations();\\n\"\n",
      "    },\n",
      "    \"1\": {\n",
      "        \"old\": \"nat) => nat) {\\n    switch (l.kind) {\\n      case \\\"Nil\\\": {\\n        return { kind: \\\"Nil\\\" };\\n      }\\n      case \\\"Cons\\\": {\\n        let xs = l.f1;\\n        let x =\",\n",
      "        \"new\": \"<fim_middle>_uniq_2 {\",\n",
      "        \"gold\": \"_uniq_2\",\n",
      "        \"prompt\": \"declare var require: any;\\nconst assert = require(\\\"node:assert\\\");\\ntype nat = { kind: \\\"Z\\\" } | { kind: \\\"S\\\"; f0: nat };\\ntype nlist = { kind: \\\"Nil\\\" } | { kind: \\\"Cons\\\"; f0: nat; f1: nlist };\\n\\nfunction map(l: nlist): (f: (__x4: nat) => nat) => nlist {\\n  return function (f: (__x3: <FILL>) => nat) {\\n    switch (l.kind) {\\n      case \\\"Nil\\\": {\\n        return { kind: \\\"Nil\\\" };\\n      }\\n      case \\\"Cons\\\": {\\n        let xs = l.f1;\\n        let x = l.f0;\\n        return { kind: \\\"Cons\\\", f0: f(x), f1: map(xs)(f) };\\n      }\\n    }\\n  };\\n}\\n\\nfunction list_inc(l: nlist): nlist {\\n  return map(l)(function (x: nat) {\\n    return { kind: \\\"S\\\", f0: x };\\n  });\\n}\\n\\nfunction assertions() {\\n  assert.deepEqual(list_inc({ kind: \\\"Nil\\\" }), { kind: \\\"Nil\\\" });\\n  assert.deepEqual(\\n    list_inc({\\n      kind: \\\"Cons\\\",\\n      f0: { kind: \\\"S\\\", f0: { kind: \\\"Z\\\" } },\\n      f1: { kind: \\\"Nil\\\" },\\n    }),\\n    {\\n      kind: \\\"Cons\\\",\\n      f0: { kind: \\\"S\\\", f0: { kind: \\\"S\\\", f0: { kind: \\\"Z\\\" } } },\\n      f1: { kind: \\\"Nil\\\" },\\n    }\\n  );\\n  assert.deepEqual(\\n    list_inc({\\n      kind: \\\"Cons\\\",\\n      f0: { kind: \\\"S\\\", f0: { kind: \\\"Z\\\" } },\\n      f1: {\\n        kind: \\\"Cons\\\",\\n        f0: { kind: \\\"S\\\", f0: { kind: \\\"S\\\", f0: { kind: \\\"Z\\\" } } },\\n        f1: { kind: \\\"Nil\\\" },\\n      },\\n    }),\\n    {\\n      kind: \\\"Cons\\\",\\n      f0: { kind: \\\"S\\\", f0: { kind: \\\"S\\\", f0: { kind: \\\"Z\\\" } } },\\n      f1: {\\n        kind: \\\"Cons\\\",\\n        f0: {\\n          kind: \\\"S\\\",\\n          f0: { kind: \\\"S\\\", f0: { kind: \\\"S\\\", f0: { kind: \\\"Z\\\" } } },\\n        },\\n        f1: { kind: \\\"Nil\\\" },\\n      },\\n    }\\n  );\\n  assert.deepEqual(\\n    list_inc({\\n      kind: \\\"Cons\\\",\\n      f0: { kind: \\\"Z\\\" },\\n      f1: { kind: \\\"Cons\\\", f0: { kind: \\\"Z\\\" }, f1: { kind: \\\"Nil\\\" } },\\n    }),\\n    {\\n      kind: \\\"Cons\\\",\\n      f0: { kind: \\\"S\\\", f0: { kind: \\\"Z\\\" } },\\n      f1: {\\n        kind: \\\"Cons\\\",\\n        f0: { kind: \\\"S\\\", f0: { kind: \\\"Z\\\" } },\\n        f1: { kind: \\\"Nil\\\" },\\n      },\\n    }\\n  );\\n  assert.deepEqual(\\n    list_inc({\\n      kind: \\\"Cons\\\",\\n      f0: {\\n        kind: \\\"S\\\",\\n        f0: { kind: \\\"S\\\", f0: { kind: \\\"S\\\", f0: { kind: \\\"Z\\\" } } },\\n      },\\n      f1: {\\n        kind: \\\"Cons\\\",\\n        f0: {\\n          kind: \\\"S\\\",\\n          f0: {\\n            kind: \\\"S\\\",\\n            f0: { kind: \\\"S\\\", f0: { kind: \\\"S\\\", f0: { kind: \\\"Z\\\" } } },\\n          },\\n        },\\n        f1: {\\n          kind: \\\"Cons\\\",\\n          f0: {\\n            kind: \\\"S\\\",\\n            f0: {\\n              kind: \\\"S\\\",\\n              f0: {\\n                kind: \\\"S\\\",\\n                f0: { kind: \\\"S\\\", f0: { kind: \\\"S\\\", f0: { kind: \\\"Z\\\" } } },\\n              },\\n            },\\n          },\\n          f1: { kind: \\\"Nil\\\" },\\n        },\\n      },\\n    }),\\n    {\\n      kind: \\\"Cons\\\",\\n      f0: {\\n        kind: \\\"S\\\",\\n        f0: {\\n          kind: \\\"S\\\",\\n          f0: { kind: \\\"S\\\", f0: { kind: \\\"S\\\", f0: { kind: \\\"Z\\\" } } },\\n        },\\n      },\\n      f1: {\\n        kind: \\\"Cons\\\",\\n        f0: {\\n          kind: \\\"S\\\",\\n          f0: {\\n            kind: \\\"S\\\",\\n            f0: {\\n              kind: \\\"S\\\",\\n              f0: { kind: \\\"S\\\", f0: { kind: \\\"S\\\", f0: { kind: \\\"Z\\\" } } },\\n            },\\n          },\\n        },\\n        f1: {\\n          kind: \\\"Cons\\\",\\n          f0: {\\n            kind: \\\"S\\\",\\n            f0: {\\n              kind: \\\"S\\\",\\n              f0: {\\n                kind: \\\"S\\\",\\n                f0: {\\n                  kind: \\\"S\\\",\\n                  f0: { kind: \\\"S\\\", f0: { kind: \\\"S\\\", f0: { kind: \\\"Z\\\" } } },\\n                },\\n              },\\n            },\\n          },\\n          f1: { kind: \\\"Nil\\\" },\\n        },\\n      },\\n    }\\n  );\\n}\\nassertions();\\n\\nfunction validations() {\\n  assert.deepEqual(\\n    list_inc({\\n      kind: \\\"Cons\\\",\\n      f0: {\\n        kind: \\\"S\\\",\\n        f0: {\\n          kind: \\\"S\\\",\\n          f0: { kind: \\\"S\\\", f0: { kind: \\\"S\\\", f0: { kind: \\\"Z\\\" } } },\\n        },\\n      },\\n      f1: {\\n        kind: \\\"Cons\\\",\\n        f0: { kind: \\\"S\\\", f0: { kind: \\\"Z\\\" } },\\n        f1: {\\n          kind: \\\"Cons\\\",\\n          f0: {\\n            kind: \\\"S\\\",\\n            f0: { kind: \\\"S\\\", f0: { kind: \\\"S\\\", f0: { kind: \\\"Z\\\" } } },\\n          },\\n          f1: { kind: \\\"Nil\\\" },\\n        },\\n      },\\n    }),\\n    {\\n      kind: \\\"Cons\\\",\\n      f0: {\\n        kind: \\\"S\\\",\\n        f0: {\\n          kind: \\\"S\\\",\\n          f0: {\\n            kind: \\\"S\\\",\\n            f0: { kind: \\\"S\\\", f0: { kind: \\\"S\\\", f0: { kind: \\\"Z\\\" } } },\\n          },\\n        },\\n      },\\n      f1: {\\n        kind: \\\"Cons\\\",\\n        f0: { kind: \\\"S\\\", f0: { kind: \\\"S\\\", f0: { kind: \\\"Z\\\" } } },\\n        f1: {\\n          kind: \\\"Cons\\\",\\n          f0: {\\n            kind: \\\"S\\\",\\n            f0: {\\n              kind: \\\"S\\\",\\n              f0: { kind: \\\"S\\\", f0: { kind: \\\"S\\\", f0: { kind: \\\"Z\\\" } } },\\n            },\\n          },\\n          f1: { kind: \\\"Nil\\\" },\\n        },\\n      },\\n    }\\n  );\\n  assert.deepEqual(\\n    list_inc({\\n      kind: \\\"Cons\\\",\\n      f0: { kind: \\\"S\\\", f0: { kind: \\\"Z\\\" } },\\n      f1: {\\n        kind: \\\"Cons\\\",\\n        f0: { kind: \\\"S\\\", f0: { kind: \\\"Z\\\" } },\\n        f1: {\\n          kind: \\\"Cons\\\",\\n          f0: { kind: \\\"S\\\", f0: { kind: \\\"Z\\\" } },\\n          f1: {\\n            kind: \\\"Cons\\\",\\n            f0: { kind: \\\"S\\\", f0: { kind: \\\"Z\\\" } },\\n            f1: { kind: \\\"Nil\\\" },\\n          },\\n        },\\n      },\\n    }),\\n    {\\n      kind: \\\"Cons\\\",\\n      f0: { kind: \\\"S\\\", f0: { kind: \\\"S\\\", f0: { kind: \\\"Z\\\" } } },\\n      f1: {\\n        kind: \\\"Cons\\\",\\n        f0: { kind: \\\"S\\\", f0: { kind: \\\"S\\\", f0: { kind: \\\"Z\\\" } } },\\n        f1: {\\n          kind: \\\"Cons\\\",\\n          f0: { kind: \\\"S\\\", f0: { kind: \\\"S\\\", f0: { kind: \\\"Z\\\" } } },\\n          f1: {\\n            kind: \\\"Cons\\\",\\n            f0: { kind: \\\"S\\\", f0: { kind: \\\"S\\\", f0: { kind: \\\"Z\\\" } } },\\n            f1: { kind: \\\"Nil\\\" },\\n          },\\n        },\\n      },\\n    }\\n  );\\n  assert.deepEqual(\\n    list_inc({\\n      kind: \\\"Cons\\\",\\n      f0: { kind: \\\"Z\\\" },\\n      f1: {\\n        kind: \\\"Cons\\\",\\n        f0: { kind: \\\"S\\\", f0: { kind: \\\"Z\\\" } },\\n        f1: {\\n          kind: \\\"Cons\\\",\\n          f0: { kind: \\\"S\\\", f0: { kind: \\\"S\\\", f0: { kind: \\\"Z\\\" } } },\\n          f1: {\\n            kind: \\\"Cons\\\",\\n            f0: {\\n              kind: \\\"S\\\",\\n              f0: { kind: \\\"S\\\", f0: { kind: \\\"S\\\", f0: { kind: \\\"Z\\\" } } },\\n            },\\n            f1: { kind: \\\"Nil\\\" },\\n          },\\n        },\\n      },\\n    }),\\n    {\\n      kind: \\\"Cons\\\",\\n      f0: { kind: \\\"S\\\", f0: { kind: \\\"Z\\\" } },\\n      f1: {\\n        kind: \\\"Cons\\\",\\n        f0: { kind: \\\"S\\\", f0: { kind: \\\"S\\\", f0: { kind: \\\"Z\\\" } } },\\n        f1: {\\n          kind: \\\"Cons\\\",\\n          f0: {\\n            kind: \\\"S\\\",\\n            f0: { kind: \\\"S\\\", f0: { kind: \\\"S\\\", f0: { kind: \\\"Z\\\" } } },\\n          },\\n          f1: {\\n            kind: \\\"Cons\\\",\\n            f0: {\\n              kind: \\\"S\\\",\\n              f0: {\\n                kind: \\\"S\\\",\\n                f0: { kind: \\\"S\\\", f0: { kind: \\\"S\\\", f0: { kind: \\\"Z\\\" } } },\\n              },\\n            },\\n            f1: { kind: \\\"Nil\\\" },\\n          },\\n        },\\n      },\\n    }\\n  );\\n}\\nvalidations();\\n\"\n",
      "    }\n",
      "}\n"
     ]
    }
   ],
   "source": [
    "for r in res:\n",
    "    r[\"generated\"] = util.apply(r[\"generated\"], lambda x: x.value, Proxy)\n",
    "\n",
    "\n",
    "results = {}\n",
    "for i in range(len(res)):\n",
    "    solution = res[i][\"solution\"]\n",
    "    old_generated = broken_ds[i][\"generated\"]\n",
    "    l = res[i][\"generated\"].cpu().numpy().tolist()\n",
    "    new_generated = [model.tokenizer.decode(j) for j in l[0]]\n",
    "    fim_idx = new_generated.index(\"<fim_middle>\")\n",
    "    new_generated = \"\".join(new_generated[fim_idx:])\n",
    "    results[i] = {\"old\": old_generated, \"new\": new_generated, \"gold\":solution, \"prompt\": broken_prompts[i]}\n",
    "    \n",
    "print(json.dumps(results, indent=4))\n",
    "# with open(f\"results/patch_wrong_14_avg_middle_fim-full-AVG.json\", \"w\") as f:\n",
    "#     json.dump(results, f, indent=4)"
   ]
  },
  {
   "cell_type": "code",
   "execution_count": 221,
   "metadata": {},
   "outputs": [
    {
     "name": "stdout",
     "output_type": "stream",
     "text": [
      "declare var require: any;\n",
      "const assert = require(\"node:assert\");\n",
      "type _uniq_0 = { kind: \"Ctor3\" } | { kind: \"Ctor4\"; f0: _uniq_0 };\n",
      "type _uniq_1 = { kind: \"Ctor5\" } | { kind: \"Ctor6\"; f0: _uniq_0; f1: _uniq_1 };\n",
      "type _uniq_2 = { kind: \"Ctor7\" } | { kind: \"Ctor8\" } | { kind: \"Ctor9\" };\n",
      "\n",
      "function _uniq_10(_uniq_12: _uniq_0, _uniq_13: _uniq_0): <FILL> {\n",
      "  switch (_uniq_12.kind) {\n",
      "    case \"Ctor3\": {\n",
      "      switch (_uniq_13.kind) {\n",
      "        case \"Ctor3\": {\n",
      "          return { kind: \"Ctor8\" };\n",
      "        }\n",
      "        case \"Ctor4\": {\n",
      "          let _uniq_14 = _uniq_13.f0;\n",
      "          return { kind: \"Ctor7\" };\n",
      "        }\n",
      "      }\n",
      "    }\n",
      "    case \"Ctor4\": {\n",
      "      let _uniq_15 = _uniq_12.f0;\n",
      "      switch (_uniq_13.kind) {\n",
      "        case \"Ctor3\": {\n",
      "          return { kind: \"Ctor9\" };\n",
      "        }\n",
      "        case \"Ctor4\": {\n",
      "          let _uniq_16 = _uniq_13.f0;\n",
      "          return _uniq_10(_uniq_15, _uniq_16);\n",
      "        }\n",
      "      }\n",
      "    }\n",
      "  }\n",
      "}\n",
      "\n",
      "\n"
     ]
    }
   ],
   "source": [
    "print(results[9][\"prompt\"])"
   ]
  },
  {
   "cell_type": "markdown",
   "metadata": {},
   "source": [
    "# Attn vis: what is hapening"
   ]
  },
  {
   "cell_type": "code",
   "execution_count": 275,
   "metadata": {},
   "outputs": [
    {
     "name": "stdout",
     "output_type": "stream",
     "text": [
      "declare var require: any;\n",
      "const assert = require(\"node:assert\");\n",
      "type _uniq_0 = { kind: \"Ctor2\" } | { kind: \"Ctor3\"; f0: _uniq_0 };\n",
      "type _uniq_1 = { kind: \"Ctor4\" } | { kind: \"Ctor5\"; f0: _uniq_0; f1: _uniq_1 };\n",
      "\n",
      "function _uniq_6(_uniq_8: <FILL>): (_uniq_9: _uniq_1) => _uniq_1 {\n",
      "  return function (_uniq_9: _uniq_1) {\n",
      "    switch (_uniq_8.kind) {\n",
      "      case \"Ctor4\": {\n",
      "        return _uniq_9;\n",
      "      }\n",
      "      case \"Ctor5\": {\n",
      "        let _uniq_11 = _uniq_8.f1;\n",
      "        let _uniq_10 = _uniq_8.f0;\n",
      "        return { kind: \"Ctor5\", f0: _uniq_10, f1: _uniq_6(_uniq_11)(_uniq_9) };\n",
      "      }\n",
      "    }\n",
      "  };\n",
      "}\n",
      "\n",
      "function _uniq_7(_uniq_12: _uniq_1): _uniq_1 {\n",
      "  switch (_uniq_12.kind) {\n",
      "    case \"Ctor4\": {\n",
      "      return { kind: \"Ctor4\" };\n",
      "    }\n",
      "    case \"Ctor5\": {\n",
      "      let _uniq_14 = _uniq_12.f1;\n",
      "      let _uniq_13 = _uniq_12.f0;\n",
      "      return _uniq_6(_uniq_7(_uniq_14))({\n",
      "        kind: \"Ctor5\",\n",
      "        f0: _uniq_13,\n",
      "        f1: { kind: \"Ctor4\" },\n",
      "      });\n",
      "    }\n",
      "  }\n",
      "}\n",
      "\n",
      "function assertions() {\n",
      "  assert.deepEqual(_uniq_7({ kind: \"Ctor4\" }), { kind: \"Ctor4\" });\n",
      "  assert.deepEqual(\n",
      "    _uniq_7({ kind: \"Ctor5\", f0: { kind: \"Ctor2\" }, f1: { kind: \"Ctor4\" } }),\n",
      "    { kind: \"Ctor5\", f0: { kind: \"Ctor2\" }, f1: { kind: \"Ctor4\" } }\n",
      "  );\n",
      "  assert.deepEqual(\n",
      "    _uniq_7({\n",
      "      kind: \"Ctor5\",\n",
      "      f0: { kind: \"Ctor2\" },\n",
      "      f1: {\n",
      "        kind: \"Ctor5\",\n",
      "        f0: { kind: \"Ctor2\" },\n",
      "        f1: {\n",
      "          kind: \"Ctor5\",\n",
      "          f0: { kind: \"Ctor3\", f0: { kind: \"Ctor2\" } },\n",
      "          f1: { kind: \"Ctor4\" },\n",
      "        },\n",
      "      },\n",
      "    }),\n",
      "    {\n",
      "      kind: \"Ctor5\",\n",
      "      f0: { kind: \"Ctor3\", f0: { kind: \"Ctor2\" } },\n",
      "      f1: {\n",
      "        kind: \"Ctor5\",\n",
      "        f0: { kind: \"Ctor2\" },\n",
      "        f1: { kind: \"Ctor5\", f0: { kind: \"Ctor2\" }, f1: { kind: \"Ctor4\" } },\n",
      "      },\n",
      "    }\n",
      "  );\n",
      "}\n",
      "assertions();\n",
      "\n",
      "function validations() {\n",
      "  assert.deepEqual(\n",
      "    _uniq_7({\n",
      "      kind: \"Ctor5\",\n",
      "      f0: {\n",
      "        kind: \"Ctor3\",\n",
      "        f0: {\n",
      "          kind: \"Ctor3\",\n",
      "          f0: { kind: \"Ctor3\", f0: { kind: \"Ctor3\", f0: { kind: \"Ctor2\" } } },\n",
      "        },\n",
      "      },\n",
      "      f1: {\n",
      "        kind: \"Ctor5\",\n",
      "        f0: { kind: \"Ctor3\", f0: { kind: \"Ctor2\" } },\n",
      "        f1: {\n",
      "          kind: \"Ctor5\",\n",
      "          f0: {\n",
      "            kind: \"Ctor3\",\n",
      "            f0: { kind: \"Ctor3\", f0: { kind: \"Ctor3\", f0: { kind: \"Ctor2\" } } },\n",
      "          },\n",
      "          f1: { kind: \"Ctor4\" },\n",
      "        },\n",
      "      },\n",
      "    }),\n",
      "    {\n",
      "      kind: \"Ctor5\",\n",
      "      f0: {\n",
      "        kind: \"Ctor3\",\n",
      "        f0: { kind: \"Ctor3\", f0: { kind: \"Ctor3\", f0: { kind: \"Ctor2\" } } },\n",
      "      },\n",
      "      f1: {\n",
      "        kind: \"Ctor5\",\n",
      "        f0: { kind: \"Ctor3\", f0: { kind: \"Ctor2\" } },\n",
      "        f1: {\n",
      "          kind: \"Ctor5\",\n",
      "          f0: {\n",
      "            kind: \"Ctor3\",\n",
      "            f0: {\n",
      "              kind: \"Ctor3\",\n",
      "              f0: {\n",
      "                kind: \"Ctor3\",\n",
      "                f0: { kind: \"Ctor3\", f0: { kind: \"Ctor2\" } },\n",
      "              },\n",
      "            },\n",
      "          },\n",
      "          f1: { kind: \"Ctor4\" },\n",
      "        },\n",
      "      },\n",
      "    }\n",
      "  );\n",
      "  assert.deepEqual(\n",
      "    _uniq_7({\n",
      "      kind: \"Ctor5\",\n",
      "      f0: {\n",
      "        kind: \"Ctor3\",\n",
      "        f0: {\n",
      "          kind: \"Ctor3\",\n",
      "          f0: {\n",
      "            kind: \"Ctor3\",\n",
      "            f0: {\n",
      "              kind: \"Ctor3\",\n",
      "              f0: {\n",
      "                kind: \"Ctor3\",\n",
      "                f0: { kind: \"Ctor3\", f0: { kind: \"Ctor2\" } },\n",
      "              },\n",
      "            },\n",
      "          },\n",
      "        },\n",
      "      },\n",
      "      f1: {\n",
      "        kind: \"Ctor5\",\n",
      "        f0: { kind: \"Ctor3\", f0: { kind: \"Ctor2\" } },\n",
      "        f1: {\n",
      "          kind: \"Ctor5\",\n",
      "          f0: { kind: \"Ctor3\", f0: { kind: \"Ctor3\", f0: { kind: \"Ctor2\" } } },\n",
      "          f1: { kind: \"Ctor4\" },\n",
      "        },\n",
      "      },\n",
      "    }),\n",
      "    {\n",
      "      kind: \"Ctor5\",\n",
      "      f0: { kind: \"Ctor3\", f0: { kind: \"Ctor3\", f0: { kind: \"Ctor2\" } } },\n",
      "      f1: {\n",
      "        kind: \"Ctor5\",\n",
      "        f0: { kind: \"Ctor3\", f0: { kind: \"Ctor2\" } },\n",
      "        f1: {\n",
      "          kind: \"Ctor5\",\n",
      "          f0: {\n",
      "            kind: \"Ctor3\",\n",
      "            f0: {\n",
      "              kind: \"Ctor3\",\n",
      "              f0: {\n",
      "                kind: \"Ctor3\",\n",
      "                f0: {\n",
      "                  kind: \"Ctor3\",\n",
      "                  f0: {\n",
      "                    kind: \"Ctor3\",\n",
      "                    f0: { kind: \"Ctor3\", f0: { kind: \"Ctor2\" } },\n",
      "                  },\n",
      "                },\n",
      "              },\n",
      "            },\n",
      "          },\n",
      "          f1: { kind: \"Ctor4\" },\n",
      "        },\n",
      "      },\n",
      "    }\n",
      "  );\n",
      "  assert.deepEqual(\n",
      "    _uniq_7({\n",
      "      kind: \"Ctor5\",\n",
      "      f0: { kind: \"Ctor3\", f0: { kind: \"Ctor2\" } },\n",
      "      f1: {\n",
      "        kind: \"Ctor5\",\n",
      "        f0: { kind: \"Ctor3\", f0: { kind: \"Ctor2\" } },\n",
      "        f1: {\n",
      "          kind: \"Ctor5\",\n",
      "          f0: { kind: \"Ctor3\", f0: { kind: \"Ctor2\" } },\n",
      "          f1: {\n",
      "            kind: \"Ctor5\",\n",
      "            f0: { kind: \"Ctor3\", f0: { kind: \"Ctor2\" } },\n",
      "            f1: { kind: \"Ctor4\" },\n",
      "          },\n",
      "        },\n",
      "      },\n",
      "    }),\n",
      "    {\n",
      "      kind: \"Ctor5\",\n",
      "      f0: { kind: \"Ctor3\", f0: { kind: \"Ctor2\" } },\n",
      "      f1: {\n",
      "        kind: \"Ctor5\",\n",
      "        f0: { kind: \"Ctor3\", f0: { kind: \"Ctor2\" } },\n",
      "        f1: {\n",
      "          kind: \"Ctor5\",\n",
      "          f0: { kind: \"Ctor3\", f0: { kind: \"Ctor2\" } },\n",
      "          f1: {\n",
      "            kind: \"Ctor5\",\n",
      "            f0: { kind: \"Ctor3\", f0: { kind: \"Ctor2\" } },\n",
      "            f1: { kind: \"Ctor4\" },\n",
      "          },\n",
      "        },\n",
      "      },\n",
      "    }\n",
      "  );\n",
      "  assert.deepEqual(\n",
      "    _uniq_7({\n",
      "      kind: \"Ctor5\",\n",
      "      f0: { kind: \"Ctor2\" },\n",
      "      f1: {\n",
      "        kind: \"Ctor5\",\n",
      "        f0: { kind: \"Ctor3\", f0: { kind: \"Ctor2\" } },\n",
      "        f1: {\n",
      "          kind: \"Ctor5\",\n",
      "          f0: { kind: \"Ctor3\", f0: { kind: \"Ctor3\", f0: { kind: \"Ctor2\" } } },\n",
      "          f1: {\n",
      "            kind: \"Ctor5\",\n",
      "            f0: {\n",
      "              kind: \"Ctor3\",\n",
      "              f0: {\n",
      "                kind: \"Ctor3\",\n",
      "                f0: { kind: \"Ctor3\", f0: { kind: \"Ctor2\" } },\n",
      "              },\n",
      "            },\n",
      "            f1: { kind: \"Ctor4\" },\n",
      "          },\n",
      "        },\n",
      "      },\n",
      "    }),\n",
      "    {\n",
      "      kind: \"Ctor5\",\n",
      "      f0: {\n",
      "        kind: \"Ctor3\",\n",
      "        f0: { kind: \"Ctor3\", f0: { kind: \"Ctor3\", f0: { kind: \"Ctor2\" } } },\n",
      "      },\n",
      "      f1: {\n",
      "        kind: \"Ctor5\",\n",
      "        f0: { kind: \"Ctor3\", f0: { kind: \"Ctor3\", f0: { kind: \"Ctor2\" } } },\n",
      "        f1: {\n",
      "          kind: \"Ctor5\",\n",
      "          f0: { kind: \"Ctor3\", f0: { kind: \"Ctor2\" } },\n",
      "          f1: { kind: \"Ctor5\", f0: { kind: \"Ctor2\" }, f1: { kind: \"Ctor4\" } },\n",
      "        },\n",
      "      },\n",
      "    }\n",
      "  );\n",
      "}\n",
      "validations();\n",
      " _uniq_1\n"
     ]
    }
   ],
   "source": [
    "from patching import *\n",
    "i =13\n",
    "print(broken_prompts[i], broken_solutions[i])\n",
    "logit_idx, tok = top_logit_lens(model, placeholder_to_std_fmt(broken_prompts[i], STARCODER_FIM)+\"_uniq_\")"
   ]
  },
  {
   "cell_type": "code",
   "execution_count": 276,
   "metadata": {},
   "outputs": [
    {
     "data": {
      "text/plain": [
       "{0: {-1: [('1', 0.3122166097164154),\n",
       "   (' ', 0.24335403740406036),\n",
       "   ('2', 0.1827678382396698),\n",
       "   ('3', 0.04892424866557121),\n",
       "   ('0', 0.02041824534535408),\n",
       "   ('_', 0.02023635059595108),\n",
       "   ('<', 0.0161127932369709),\n",
       "   ('4', 0.013578835874795914),\n",
       "   ('\\n', 0.010138948448002338),\n",
       "   (' (', 0.00976809486746788)]},\n",
       " 1: {-1: [('1', 0.20965833961963654),\n",
       "   (' ', 0.16906408965587616),\n",
       "   ('2', 0.09445568174123764),\n",
       "   ('3', 0.05495498329401016),\n",
       "   ('<', 0.03792441636323929),\n",
       "   (' (', 0.02935234270989895),\n",
       "   ('\\n', 0.024140987545251846),\n",
       "   ('0', 0.020412420853972435),\n",
       "   ('&', 0.01730225794017315),\n",
       "   ('4', 0.013662172481417656)]},\n",
       " 2: {-1: [('<|endoftext|>', 0.2756606936454773),\n",
       "   ('iteral', 0.056108564138412476),\n",
       "   ('ayload', 0.03299201279878616),\n",
       "   (' ', 0.030718522146344185),\n",
       "   ('1', 0.020208194851875305),\n",
       "   ('and', 0.010867763310670853),\n",
       "   ('，', 0.007297659292817116),\n",
       "   ('\\n', 0.006660353858023882),\n",
       "   ('XQ', 0.00606547249481082),\n",
       "   ('。', 0.0051228138618171215)]},\n",
       " 3: {-1: [('<|endoftext|>', 0.12222100049257278),\n",
       "   ('ayload', 0.06025715544819832),\n",
       "   ('iteral', 0.02046118676662445),\n",
       "   ('XQ', 0.020015597343444824),\n",
       "   (' ', 0.018217258155345917),\n",
       "   ('1', 0.014049584046006203),\n",
       "   ('VJ', 0.011612892150878906),\n",
       "   ('Xc', 0.009714925661683083),\n",
       "   ('Gv', 0.006418954581022263),\n",
       "   ('WQ', 0.006396985147148371)]},\n",
       " 4: {-1: [('ayload', 0.049477506428956985),\n",
       "   ('hibited', 0.024411754682660103),\n",
       "   ('<|endoftext|>', 0.015452861785888672),\n",
       "   ('şağı', 0.012043150141835213),\n",
       "   (' Gson', 0.007822440937161446),\n",
       "   ('rives', 0.0075890179723501205),\n",
       "   ('XH', 0.007508178241550922),\n",
       "   ('MDW', 0.005837571807205677),\n",
       "   ('PYR', 0.005266320426017046),\n",
       "   ('iteral', 0.005194084253162146)]},\n",
       " 5: {-1: [('ayload', 0.04642112925648689),\n",
       "   ('cognition', 0.033790167421102524),\n",
       "   ('hibited', 0.024753427132964134),\n",
       "   ('ookie', 0.02104686200618744),\n",
       "   ('XG', 0.014543422497808933),\n",
       "   ('opq', 0.01398372557014227),\n",
       "   ('uthor', 0.011672536842525005),\n",
       "   ('ickness', 0.011010863818228245),\n",
       "   ('alysis', 0.010972623713314533),\n",
       "   ('asser', 0.008926253765821457)]},\n",
       " 6: {-1: [('iece', 0.049013152718544006),\n",
       "   ('cognition', 0.035842034965753555),\n",
       "   ('ayload', 0.03523581475019455),\n",
       "   ('ookie', 0.014902802184224129),\n",
       "   ('hibited', 0.011516531929373741),\n",
       "   ('asser', 0.011494454927742481),\n",
       "   ('olid', 0.009591793641448021),\n",
       "   ('adda', 0.00944510381668806),\n",
       "   ('uthor', 0.00806357804685831),\n",
       "   ('annel', 0.0074426340870559216)]},\n",
       " 7: {-1: [('iece', 0.06758644431829453),\n",
       "   ('nown', 0.05232137441635132),\n",
       "   ('ookie', 0.04401957988739014),\n",
       "   ('cognition', 0.043705981224775314),\n",
       "   ('lure', 0.01775272749364376),\n",
       "   ('bgn', 0.01568433828651905),\n",
       "   ('cip', 0.01175783108919859),\n",
       "   ('chemy', 0.010267418809235096),\n",
       "   ('ickness', 0.010094046592712402),\n",
       "   ('yin', 0.008605880662798882)]},\n",
       " 8: {-1: [('cognition', 0.048700857907533646),\n",
       "   ('bgn', 0.040694307535886765),\n",
       "   ('ookie', 0.02705218642950058),\n",
       "   ('iece', 0.016774000599980354),\n",
       "   ('nown', 0.014577049762010574),\n",
       "   ('cip', 0.012101568281650543),\n",
       "   ('yin', 0.0103404326364398),\n",
       "   ('cern', 0.010054226964712143),\n",
       "   ('teger', 0.009763159789144993),\n",
       "   ('<|endoftext|>', 0.008654243312776089)]},\n",
       " 9: {-1: [('<|endoftext|>', 0.5491037964820862),\n",
       "   ('cognition', 0.025370478630065918),\n",
       "   ('nown', 0.02500014379620552),\n",
       "   ('yne', 0.011503196321427822),\n",
       "   ('bgn', 0.011135646142065525),\n",
       "   ('edata', 0.007985162548720837),\n",
       "   ('ookie', 0.006332490127533674),\n",
       "   ('teger', 0.005289343185722828),\n",
       "   ('lac', 0.0050981054082512856),\n",
       "   ('lure', 0.00508498027920723)]},\n",
       " 10: {-1: [('<|endoftext|>', 0.9984105825424194),\n",
       "   ('nown', 0.0001323244214290753),\n",
       "   ('bgn', 8.216187416110188e-05),\n",
       "   ('edata', 3.7733643694082275e-05),\n",
       "   ('chemy', 2.1518137145903893e-05),\n",
       "   ('cognition', 2.104821578541305e-05),\n",
       "   ('cern', 2.02427963813534e-05),\n",
       "   ('aked', 1.820904071792029e-05),\n",
       "   ('rived', 1.6145755580510013e-05),\n",
       "   ('teger', 1.6086412870208733e-05)]},\n",
       " 11: {-1: [('<|endoftext|>', 0.9978625178337097),\n",
       "   ('nown', 0.0003377972752787173),\n",
       "   ('aked', 9.274810872739181e-05),\n",
       "   ('termine', 5.394364779931493e-05),\n",
       "   ('bgn', 3.523044870235026e-05),\n",
       "   ('chemy', 3.016916525666602e-05),\n",
       "   ('cognition', 2.1723779354942963e-05),\n",
       "   ('Wz', 1.8659304259927012e-05),\n",
       "   (' |', 1.7642840248299763e-05),\n",
       "   ('edor', 1.689741839072667e-05)]},\n",
       " 12: {-1: [('<|endoftext|>', 0.9291010499000549),\n",
       "   ('nown', 0.015224696137011051),\n",
       "   (' |', 0.0011822686064988375),\n",
       "   ('aked', 0.0008911627810448408),\n",
       "   ('Yh', 0.000776388798840344),\n",
       "   ('KJ', 0.0007627834565937519),\n",
       "   ('Qh', 0.0006768987514078617),\n",
       "   ('cern', 0.0005906270816922188),\n",
       "   ('Kj', 0.0005903993151150644),\n",
       "   ('Wz', 0.0005655703134834766)]},\n",
       " 13: {-1: [('<|endoftext|>', 0.4169156849384308),\n",
       "   ('nown', 0.19661763310432434),\n",
       "   ('bgn', 0.015900539234280586),\n",
       "   ('zax', 0.01397471223026514),\n",
       "   ('KJ', 0.012204639613628387),\n",
       "   ('ocheck', 0.011958563700318336),\n",
       "   ('opq', 0.008515719324350357),\n",
       "   ('Qh', 0.007332011591643095),\n",
       "   ('poch', 0.0069606550969183445),\n",
       "   ('cern', 0.006817306391894817)]},\n",
       " 14: {-1: [('<|endoftext|>', 0.8551581501960754),\n",
       "   ('nown', 0.006976802367717028),\n",
       "   ('1', 0.002690143184736371),\n",
       "   ('chemy', 0.0019466555677354336),\n",
       "   ('KJ', 0.0015005671884864569),\n",
       "   ('Qh', 0.0013478650944307446),\n",
       "   ('cern', 0.0010599828092381358),\n",
       "   (' |', 0.0010492869187146425),\n",
       "   ('士', 0.0008901039836928248),\n",
       "   ('YR', 0.0008349537383764982)]},\n",
       " 15: {-1: [('<|endoftext|>', 0.9999822378158569),\n",
       "   ('<fim_pad>', 1.680713103269227e-05),\n",
       "   ('nown', 1.701201171044886e-07),\n",
       "   ('ialect', 9.575154535923502e-08),\n",
       "   ('periment', 5.267025215971444e-08),\n",
       "   ('chemy', 2.388263276031921e-08),\n",
       "   ('ocheck', 1.997003096221306e-08),\n",
       "   ('şağı', 1.3537267307128786e-08),\n",
       "   ('ggle', 1.0818283158187114e-08),\n",
       "   ('cern', 7.870581519853204e-09)]},\n",
       " 16: {-1: [('<|endoftext|>', 0.9999607801437378),\n",
       "   ('<fim_pad>', 3.629715502029285e-05),\n",
       "   ('1', 2.511993955067737e-07),\n",
       "   ('nown', 1.9087768521330872e-07),\n",
       "   ('ialect', 1.386938635050683e-07),\n",
       "   ('periment', 1.127695838931686e-07),\n",
       "   ('chemy', 4.831255395743028e-08),\n",
       "   ('):', 3.580115404133721e-08),\n",
       "   ('ocheck', 3.5618821669913814e-08),\n",
       "   ('şağı', 2.554428668588571e-08)]},\n",
       " 17: {-1: [('<|endoftext|>', 0.9949036836624146),\n",
       "   ('0', 0.004630726762115955),\n",
       "   ('<fim_pad>', 0.00023142615100368857),\n",
       "   ('1', 0.00021692365407943726),\n",
       "   ('2', 2.72900228992512e-06),\n",
       "   ('3', 7.150919714149495e-07),\n",
       "   ('nown', 4.636558799120394e-07),\n",
       "   ('):', 4.091331220479333e-07),\n",
       "   ('pename', 2.6774986849886773e-07),\n",
       "   ('8', 2.1534341954065894e-07)]},\n",
       " 18: {-1: [('0', 0.7591801881790161),\n",
       "   ('<|endoftext|>', 0.19915157556533813),\n",
       "   ('1', 0.040785595774650574),\n",
       "   ('<fim_pad>', 0.0006179320625960827),\n",
       "   ('8', 0.00019887209055013955),\n",
       "   ('6', 1.6610214515822008e-05),\n",
       "   ('9', 6.3958304963307455e-06),\n",
       "   ('2', 3.889046638505533e-06),\n",
       "   ('3', 2.0552161004161462e-06),\n",
       "   ('7', 1.6220200222960557e-06)]},\n",
       " 19: {-1: [('0', 0.8824365735054016),\n",
       "   ('<|endoftext|>', 0.08073876798152924),\n",
       "   ('1', 0.036125075072050095),\n",
       "   ('8', 0.0003908566723112017),\n",
       "   ('<fim_pad>', 0.00024574410053901374),\n",
       "   ('6', 4.935101605951786e-05),\n",
       "   ('2', 4.504313437792007e-06),\n",
       "   ('9', 4.4918906496604905e-06),\n",
       "   ('3', 1.9444610188656952e-06),\n",
       "   ('7', 1.3161361493985169e-06)]},\n",
       " 20: {-1: [('0', 0.962992787361145),\n",
       "   ('1', 0.0305945947766304),\n",
       "   ('<|endoftext|>', 0.005054238252341747),\n",
       "   ('8', 0.0012194288428872824),\n",
       "   ('6', 7.734410610282794e-05),\n",
       "   ('2', 1.7213898900081404e-05),\n",
       "   ('9', 1.2952940778632183e-05),\n",
       "   ('3', 1.1906662621186115e-05),\n",
       "   ('7', 9.288106411986519e-06),\n",
       "   ('5', 5.600971690000733e-06)]},\n",
       " 21: {-1: [('0', 0.9455885291099548),\n",
       "   ('1', 0.04848484322428703),\n",
       "   ('<|endoftext|>', 0.003344580065459013),\n",
       "   ('8', 0.0019149207510054111),\n",
       "   ('6', 0.00042956622201018035),\n",
       "   ('2', 5.807401248603128e-05),\n",
       "   ('3', 5.263910861685872e-05),\n",
       "   ('7', 4.539674773695879e-05),\n",
       "   ('9', 4.387993976706639e-05),\n",
       "   ('5', 2.478564238117542e-05)]},\n",
       " 22: {-1: [('0', 0.8611953854560852),\n",
       "   ('1', 0.12196352332830429),\n",
       "   ('8', 0.007739704102277756),\n",
       "   ('6', 0.0032236699480563402),\n",
       "   ('<|endoftext|>', 0.0018151536351069808),\n",
       "   ('2', 0.0010974137112498283),\n",
       "   ('7', 0.0008003477123565972),\n",
       "   ('3', 0.0007205283036455512),\n",
       "   ('9', 0.0006106372456997633),\n",
       "   ('5', 0.0005166068440303206)]},\n",
       " 23: {-1: [('0', 0.7161756753921509),\n",
       "   ('1', 0.20818142592906952),\n",
       "   ('8', 0.037680089473724365),\n",
       "   ('6', 0.01770821586251259),\n",
       "   ('<|endoftext|>', 0.005619927775114775),\n",
       "   ('7', 0.003947674296796322),\n",
       "   ('9', 0.002822333015501499),\n",
       "   ('2', 0.002532708691433072),\n",
       "   ('3', 0.002102765254676342),\n",
       "   ('5', 0.0018096982967108488)]}}"
      ]
     },
     "execution_count": 276,
     "metadata": {},
     "output_type": "execute_result"
    }
   ],
   "source": [
    "logit_idx"
   ]
  },
  {
   "cell_type": "markdown",
   "metadata": {},
   "source": [
    "## Basic patching in right/wrong dataset"
   ]
  },
  {
   "cell_type": "code",
   "execution_count": 212,
   "metadata": {},
   "outputs": [
    {
     "data": {
      "text/plain": [
       "Dataset({\n",
       "    features: ['prompt', 'solution', 'generated', 'success', 'filename', 'variation_idx'],\n",
       "    num_rows: 300\n",
       "})"
      ]
     },
     "execution_count": 212,
     "metadata": {},
     "output_type": "execute_result"
    }
   ],
   "source": [
    "ds = datasets.load_dataset(\"franlucc/starcoderbase-1b-wrong-type-patching-v0-seed42\", split=\"train\")\n",
    "success_ds = ds.filter(lambda x: x[\"success\"] == True)\n",
    "fail_ds = ds.filter(lambda x: x[\"success\"] == False)\n",
    "ds"
   ]
  },
  {
   "cell_type": "code",
   "execution_count": 214,
   "metadata": {},
   "outputs": [
    {
     "name": "stdout",
     "output_type": "stream",
     "text": [
      "3 3\n",
      "Patching...\n"
     ]
    },
    {
     "name": "stderr",
     "output_type": "stream",
     "text": [
      "100%|██████████| 5/5 [00:01<00:00,  3.15it/s]\n"
     ]
    },
    {
     "name": "stdout",
     "output_type": "stream",
     "text": [
      "Patching...\n"
     ]
    },
    {
     "name": "stderr",
     "output_type": "stream",
     "text": [
      "100%|██████████| 5/5 [00:01<00:00,  3.14it/s]\n"
     ]
    },
    {
     "name": "stdout",
     "output_type": "stream",
     "text": [
      "Patching...\n"
     ]
    },
    {
     "name": "stderr",
     "output_type": "stream",
     "text": [
      "100%|██████████| 5/5 [00:01<00:00,  3.14it/s]\n"
     ]
    }
   ],
   "source": [
    "# patch from success to fail, make fail turn into the \"type\" of success\n",
    "probs_patched_results = []\n",
    "pred_results = []\n",
    "earliest_layer = []\n",
    "\n",
    "patch_dst = [fail_ds[i] for i in range(3)]\n",
    "patch_src = [fail_ds[i] for i in range(4,7)]\n",
    "print(len(patch_dst), len(patch_src))\n",
    "import random\n",
    "# 10 random idx\n",
    "random.seed(36)\n",
    "# idx_range = [random.randint(0, 10) for i in range(5)]\n",
    "idx_range = list(range(3))\n",
    "layers = list(range(17,22))\n",
    "dirs = []\n",
    "for i in idx_range:\n",
    "    with torch.no_grad():\n",
    "        torch.cuda.empty_cache()\n",
    "    clean_prompt = placeholder_to_std_fmt(patch_src[i][\"prompt\"], STARCODER_FIM)\n",
    "    corrupted_prompt = placeholder_to_std_fmt(patch_dst[i][\"prompt\"], STARCODER_FIM)\n",
    "    correct_index = model.tokenizer(patch_src[i][\"solution\"])[\"input_ids\"][0]\n",
    "    incorrect_index = model.tokenizer(patch_dst[i][\"solution\"])[\"input_ids\"][0]\n",
    "    dirs.append((incorrect_index, correct_index))\n",
    "    patching_results, patched_predictions = patch_fim_tokens(model, clean_prompt, corrupted_prompt, STARCODER_FIM, correct_index, incorrect_index, layers)\n",
    "    \n",
    "    patched_predictions = util.apply(patched_predictions, lambda x: x.value.item(), Proxy)\n",
    "    patching_results = util.apply(patching_results, lambda x: x.value.item(), Proxy)\n",
    "    \n",
    "    probs_patched_results.append(patching_results)\n",
    "    pred_results.append(patched_predictions)\n",
    "    \n",
    "    idx = [j for j, x in enumerate(patched_predictions) if x == correct_index]\n",
    "    if len(idx) == 0:\n",
    "        idx = [-1]\n",
    "    earliest_layer.append(idx[0])\n",
    "\n",
    "    # clear gpu memory\n",
    "    with torch.no_grad():\n",
    "        torch.cuda.empty_cache()\n"
   ]
  },
  {
   "cell_type": "code",
   "execution_count": 215,
   "metadata": {},
   "outputs": [
    {
     "name": "stdout",
     "output_type": "stream",
     "text": [
      "[26, 81, 96]\n"
     ]
    },
    {
     "name": "stderr",
     "output_type": "stream",
     "text": [
      "/tmp/ipykernel_3785024/954144086.py:32: MatplotlibDeprecationWarning: An artist whose label starts with an underscore was passed to legend(); such artists will no longer be ignored in the future.  To suppress this warning, explicitly filter out such artists, e.g. with `[art for art in artists if not art.get_label().startswith('_')]`.\n",
      "  plt.legend(loc=\"upper left\", bbox_to_anchor=(1,0.5), handles=[plt.Rectangle((0,0),1,1, color=color_map[i], label=model.tokenizer.decode(labels[i])) for i in range(len(labels))])\n"
     ]
    },
    {
     "data": {
      "image/png": "[encoded data removed]",
      "text/plain": [
       "<Figure size 700x700 with 1 Axes>"
      ]
     },
     "metadata": {},
     "output_type": "display_data"
    },
    {
     "data": {
      "text/plain": [
       "({0: {'pred': 81},\n",
       "  1: {'pred': 26},\n",
       "  2: {'pred': 81},\n",
       "  3: {'pred': 81},\n",
       "  4: {'pred': 26},\n",
       "  5: {'pred': 96},\n",
       "  6: {'pred': 81},\n",
       "  7: {'pred': 26},\n",
       "  8: {'pred': 96},\n",
       "  9: {'pred': 81},\n",
       "  10: {'pred': 26},\n",
       "  11: {'pred': 96},\n",
       "  12: {'pred': 81},\n",
       "  13: {'pred': 26},\n",
       "  14: {'pred': 96}},\n",
       " [[81, 81, 81, 81, 81], [26, 26, 26, 26, 26], [81, 96, 96, 96, 96]])"
      ]
     },
     "execution_count": 215,
     "metadata": {},
     "output_type": "execute_result"
    }
   ],
   "source": [
    "\n",
    "import matplotlib.pyplot as plt\n",
    "from matplotlib.colors import ListedColormap\n",
    "\n",
    "# import numpy as np\n",
    "# colours = im.cmap(im.norm(np.unique(pred_results)))\n",
    "# len_colors = len(colours)\n",
    "\n",
    "plt.figure(figsize=(7,7))\n",
    "\n",
    "# make labels\n",
    "flat_results = [x for y in pred_results for x in y]\n",
    "labels = set([model.tokenizer.decode([x]) for x in flat_results])\n",
    "labels = list(set(flat_results))\n",
    "labels.sort()\n",
    "print(labels)\n",
    "\n",
    "\n",
    "# set color map\n",
    "im = plt.imshow(pred_results, norm=\"log\", cmap=\"tab20\")\n",
    "\n",
    "plt.yticks(range(len(pred_results)), [f\"Example {i}\" for i in idx_range])\n",
    "plt.xticks(range(len(layers)), layers)\n",
    "plt.xlabel(\"Patched Layer\")\n",
    "plt.ylabel(\"Src->Dst Example idx\")\n",
    "plt.title(f\"Starcoderbase-1b. Max probability token after patching <fim_middle> from fail to a success\")\n",
    "\n",
    "# make legend\n",
    "\n",
    "# get map of labels to colors from image\n",
    "color_map = im.cmap(im.norm(np.unique(pred_results)))\n",
    "# use map to make legend\n",
    "plt.legend(loc=\"upper left\", bbox_to_anchor=(1,0.5), handles=[plt.Rectangle((0,0),1,1, color=color_map[i], label=model.tokenizer.decode(labels[i])) for i in range(len(labels))])\n",
    "\n",
    "\n",
    "# add grid between examples and layers (halfway!)\n",
    "plt.hlines([i+0.5 for i in range(len(pred_results))], *plt.xlim(), color=\"black\", linewidth=1)\n",
    "plt.vlines([i+0.5 for i in range(len(layers))], *plt.ylim(), color=\"black\", linewidth=1)\n",
    "\n",
    "\n",
    "# build an annotations dict for each square in grid with values from probs_patched_results\n",
    "annotations = {i:{} for i in range(len(layers)*len(pred_results))}\n",
    "\n",
    "for i in range(len(pred_results)):\n",
    "    for j in range(len(layers)):\n",
    "        probs = probs_patched_results[i][j]\n",
    "        \n",
    "# create tuples of positions\n",
    "positions =[(x , y ) for x in range(len(layers)) for y in range(len(pred_results))]\n",
    "\n",
    "for i in range(len(pred_results)):\n",
    "    for j in range(len(layers)):\n",
    "        probs = probs_patched_results[i][j]\n",
    "        annotations[i+len(pred_results)*j] = {\"pred\": pred_results[i][j]}\n",
    "        \n",
    "# add annotations\n",
    "for pos, text in annotations.items():\n",
    "    plt.annotate(model.tokenizer.decode(text[\"pred\"]), xy=positions[pos],color=\"black\", fontsize=8, ha=\"center\", va=\"center\")\n",
    "\n",
    "\n",
    "range_str = '-'.join([str(i) for i in idx_range])\n",
    "# plt.savefig(f\"results/starcoderbase-1b_patch-fail_to_success_idx-{range_str}_layers-{layers[0]}-{layers[-1]}.pdf\", bbox_inches=\"tight\")\n",
    "\n",
    "legend = \"\\n\".join([f\"Example {idx_range[i]}: {model.tokenizer.decode(dirs[i][0])} -> {model.tokenizer.decode(dirs[i][1])}\" for i in range(len(dirs))])\n",
    "\n",
    "## add caption to fig\n",
    "plt.figtext(0.1, - 0.1, legend, wrap=True, horizontalalignment='center', fontsize=10)\n",
    "plt.show()\n",
    "annotations, pred_results"
   ]
  },
  {
   "cell_type": "code",
   "execution_count": null,
   "metadata": {},
   "outputs": [],
   "source": []
  }
 ],
 "metadata": {
  "kernelspec": {
   "display_name": "gpu",
   "language": "python",
   "name": "python3"
  },
  "language_info": {
   "codemirror_mode": {
    "name": "ipython",
    "version": 3
   },
   "file_extension": ".py",
   "mimetype": "text/x-python",
   "name": "python",
   "nbconvert_exporter": "python",
   "pygments_lexer": "ipython3",
   "version": "3.10.12"
  }
 },
 "nbformat": 4,
 "nbformat_minor": 2
}
