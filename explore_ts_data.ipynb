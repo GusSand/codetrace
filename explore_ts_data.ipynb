{
 "cells": [
  {
   "cell_type": "markdown",
   "id": "7930852c-4c26-43e7-aaa8-e9966cd067f4",
   "metadata": {},
   "source": [
    "## Explore existing scraped TS dataset"
   ]
  },
  {
   "cell_type": "code",
   "execution_count": 1,
   "id": "8d422155-62ca-4c25-a7a6-de2a62059cbd",
   "metadata": {},
   "outputs": [
    {
     "name": "stdout",
     "output_type": "stream",
     "text": [
      "The history saving thread hit an unexpected error (OperationalError('unable to open database file')).History will not be written to the database.\n"
     ]
    }
   ],
   "source": [
    "%load_ext autoreload\n",
    "%autoreload 2"
   ]
  },
  {
   "cell_type": "code",
   "execution_count": 2,
   "id": "b18e8c9d-0704-4c96-aac9-f4f035cde648",
   "metadata": {},
   "outputs": [],
   "source": [
    "root = \"/work/arjunguha-research-group/mhyee/datasets/\"\n",
    "data_dir1 = \"stenotype-eval-dataset\"\n",
    "data_dir2 = \"the-stack-ts-parse-typecheck\" #big"
   ]
  },
  {
   "cell_type": "code",
   "execution_count": 3,
   "id": "3ca47085-611b-48d3-8678-bd41bc09eec3",
   "metadata": {},
   "outputs": [],
   "source": [
    "import datasets\n",
    "import json\n",
    "import os"
   ]
  },
  {
   "cell_type": "code",
   "execution_count": 8,
   "id": "14cd24a3-196b-4ba6-b565-93c76e3d74ff",
   "metadata": {},
   "outputs": [],
   "source": [
    "ds = datasets.load_from_disk(root + data_dir1) "
   ]
  },
  {
   "cell_type": "markdown",
   "id": "f3d861f8-af55-4936-b93f-861f54487d1d",
   "metadata": {},
   "source": [
    "## Explore"
   ]
  },
  {
   "cell_type": "code",
   "execution_count": 20,
   "id": "2f5a43a0-b36a-4f65-82fd-a3c33cae430b",
   "metadata": {},
   "outputs": [
    {
     "name": "stdout",
     "output_type": "stream",
     "text": [
      "export type BookTitle = string;\n",
      "\n",
      "const booksToChaptersMap: { [name: string]: number } = {\n",
      "  Genesis: 50,\n",
      "  Exodus: 40,\n",
      "  Leviticus: 27,\n",
      "  Numbers: 36,\n",
      "  Deuteronomy: 34,\n",
      "  Joshua: 24,\n",
      "  Judges: 21,\n",
      "  Ruth: 4,\n",
      "  '1 Samuel': 31,\n",
      "  '2 Samuel': 24,\n",
      "  '1 Kings': 22,\n",
      "  '2 Kings': 25,\n",
      "  '1 Chronicles': 29,\n",
      "  '2 Chronicles': 36,\n",
      "  Ezra: 10,\n",
      "  Nehemiah: 13,\n",
      "  Esther: 10,\n",
      "  Job: 42,\n",
      "  Psalms: 150,\n",
      "  Proverbs: 31,\n",
      "  Ecclesiastes: 12,\n",
      "  'Song of Solomon': 8,\n",
      "  Isaiah: 66,\n",
      "  Jeremiah: 52,\n",
      "  Lamentations: 5,\n",
      "  Ezekial: 48,\n",
      "  Daniel: 12,\n",
      "  Hosea: 14,\n",
      "  Joel: 3,\n",
      "  Amos: 9,\n",
      "  Obadiah: 1,\n",
      "  Jonah: 4,\n",
      "  Micah: 7,\n",
      "  Nahum: 3,\n",
      "  Habakkuk: 3,\n",
      "  Zephaniah: 3,\n",
      "  Haggai: 2,\n",
      "  Zechariah: 14,\n",
      "  Malachi: 4,\n",
      "  Matthew: 28,\n",
      "  Mark: 16,\n",
      "  Luke: 24,\n",
      "  John: 21,\n",
      "  Acts: 28,\n",
      "  Romans: 16,\n",
      "  '1 Corinthians': 16,\n",
      "  '2 Corinthians': 13,\n",
      "  Galatians: 6,\n",
      "  Ephesians: 6,\n",
      "  Philippians: 4,\n",
      "  Colossians: 4,\n",
      "  '1 Thessalonians': 5,\n",
      "  '2 Thessalonians': 3,\n",
      "  '1 Timothy': 6,\n",
      "  '2 Timothy': 4,\n",
      "  Titus: 3,\n",
      "  Philemon: 1,\n",
      "  Hebrews: 13,\n",
      "  James: 5,\n",
      "  '1 Peter': 5,\n",
      "  '2 Peter': 3,\n",
      "  '1 John': 5,\n",
      "  '2 John': 1,\n",
      "  '3 John': 1,\n",
      "  Jude: 1,\n",
      "  Revelation: 22,\n",
      "};\n",
      "\n",
      "const possibleTitles: string[] = Array.from(Object.keys(booksToChaptersMap));\n",
      "\n",
      "let i = 0;\n",
      "export const hebrewScriptures: BookInfo[] = possibleTitles\n",
      "  .slice(0, 39)\n",
      "  .map((x) => {\n",
      "    i++;\n",
      "    return { id: i, title: x, chapters: booksToChaptersMap[x] };\n",
      "  });\n",
      "\n",
      "export const newTestament: BookInfo[] = possibleTitles.slice(39).map((x) => {\n",
      "  i++;\n",
      "  return { id: i, title: x, chapters: booksToChaptersMap[x] };\n",
      "});\n",
      "\n",
      "export const getBookTitleFromSlug = (\n",
      "  bookTitle: BookTitle | unknown,\n",
      "): BookTitle => {\n",
      "  if (typeof bookTitle !== 'string') {\n",
      "    throw new Error(`Booktitle ${bookTitle} is not even string`);\n",
      "  }\n",
      "\n",
      "  const found = possibleTitles.find(\n",
      "    (x) => bookTitle === x.replace(' ', '-').toLowerCase(),\n",
      "  );\n",
      "\n",
      "  if (found === undefined) {\n",
      "    throw new Error('There is not such book title:${bookParam}');\n",
      "  }\n",
      "\n",
      "  return found;\n",
      "};\n",
      "\n",
      "export const getChapterFromSlug = (\n",
      "  chapter: number | unknown,\n",
      "  book: BookTitle,\n",
      "): number => {\n",
      "  if (isNaN(Number(chapter))) {\n",
      "    throw new Error(`Chapter \"${chapter}\" is not a number`);\n",
      "  }\n",
      "  if (!Number.isInteger(Number(chapter))) {\n",
      "    throw new Error(`Chapter \"${chapter}\" is not integer`);\n",
      "  }\n",
      "  if (Number(chapter) > booksToChaptersMap[book]) {\n",
      "    throw new Error(`Chapter \"${chapter}\" is too hight`);\n",
      "  }\n",
      "  if (Number(chapter) < 1) {\n",
      "    throw new Error(`Chapter \"${chapter}\" is too low`);\n",
      "  }\n",
      "  return Number(chapter);\n",
      "};\n",
      "\n",
      "export interface BookInfo {\n",
      "  id: number;\n",
      "  title: string;\n",
      "  chapters: number;\n",
      "}\n",
      "\n"
     ]
    }
   ],
   "source": [
    "i = 3\n",
    "# print(json.dumps(ds[i],indent=4))\n",
    "print(ds[i][\"content\"])"
   ]
  },
  {
   "cell_type": "markdown",
   "id": "f0d690af-7232-49fd-81d8-1afb4f805ab8",
   "metadata": {},
   "source": [
    "### Some extracted programs:\n",
    "\n",
    "Problem: FIM completion must equal to 1 token, across different models... \n",
    "\n",
    "-> don't worry about this now, just set max 1 token completion and assume that we can tell if a model is doing right/wrong by that one token\n",
    "\n",
    "- Date, difficulty easy, idx 200, stenotype-eval-dataset\n",
    "- Bible, difficulty hard/mixed, idx 3, stenotype-eval-dataset"
   ]
  },
  {
   "cell_type": "code",
   "execution_count": 21,
   "id": "f3aa7e52-80db-4531-b316-1acd97c88914",
   "metadata": {},
   "outputs": [],
   "source": [
    "def save_prog(name, ex):\n",
    "    os.makedirs(f\"dataset/{name}\", exist_ok=True)\n",
    "    with open(f\"dataset/{name}/{name}.json\", \"w\") as f:\n",
    "        json.dump( ex, f)\n",
    "    with open(f\"dataset/{name}/{name}_raw.ts\", \"w\") as f:\n",
    "        f.write(str(ex[\"content\"]))"
   ]
  },
  {
   "cell_type": "code",
   "execution_count": 1,
   "id": "2a304e76-d4fb-443f-8175-1b4a4fcc9bef",
   "metadata": {},
   "outputs": [],
   "source": [
    "# ## DATE - easy for LLMs\n",
    "# save_prog(\"date\", ds[200])\n",
    "# save_prog(\"bible\", ds[3])"
   ]
  },
  {
   "cell_type": "code",
   "execution_count": null,
   "id": "4f8b9c16-6cd9-4186-91af-c6daeac7aee9",
   "metadata": {},
   "outputs": [],
   "source": []
  }
 ],
 "metadata": {
  "kernelspec": {
   "display_name": "Python 3 (ipykernel)",
   "language": "python",
   "name": "python3"
  },
  "language_info": {
   "codemirror_mode": {
    "name": "ipython",
    "version": 3
   },
   "file_extension": ".py",
   "mimetype": "text/x-python",
   "name": "python",
   "nbconvert_exporter": "python",
   "pygments_lexer": "ipython3",
   "version": "3.8.18"
  }
 },
 "nbformat": 4,
 "nbformat_minor": 5
}
