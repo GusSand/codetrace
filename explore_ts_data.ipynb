{
 "cells": [
  {
   "cell_type": "markdown",
   "id": "7930852c-4c26-43e7-aaa8-e9966cd067f4",
   "metadata": {},
   "source": [
    "## Explore existing scraped TS dataset"
   ]
  },
  {
   "cell_type": "code",
   "execution_count": 1,
   "id": "8d422155-62ca-4c25-a7a6-de2a62059cbd",
   "metadata": {},
   "outputs": [],
   "source": [
    "%load_ext autoreload\n",
    "%autoreload 2"
   ]
  },
  {
   "cell_type": "code",
   "execution_count": 3,
   "id": "b18e8c9d-0704-4c96-aac9-f4f035cde648",
   "metadata": {},
   "outputs": [],
   "source": [
    "root = \"/work/arjunguha-research-group/mhyee/datasets/\"\n",
    "data_dir1 = \"stenotype-eval-dataset\"\n",
    "data_dir2 = \"the-stack-ts-parse-typecheck\" #superset of dir1"
   ]
  },
  {
   "cell_type": "code",
   "execution_count": 4,
   "id": "3ca47085-611b-48d3-8678-bd41bc09eec3",
   "metadata": {},
   "outputs": [],
   "source": [
    "import datasets\n",
    "import json\n",
    "import os"
   ]
  },
  {
   "cell_type": "code",
   "execution_count": 5,
   "id": "14cd24a3-196b-4ba6-b565-93c76e3d74ff",
   "metadata": {},
   "outputs": [],
   "source": [
    "ds = datasets.load_from_disk(root + data_dir1) "
   ]
  },
  {
   "cell_type": "code",
   "execution_count": 70,
   "id": "4e0fe5c0-4c26-4a4b-9e20-dfb27e2fcb92",
   "metadata": {},
   "outputs": [
    {
     "name": "stdout",
     "output_type": "stream",
     "text": [
      "Traceback (most recent call last):\n",
      "  File \"evaluate.py\", line 108, in <module>\n",
      "    json.dumps(fim_examples, f, indent=4)\n",
      "TypeError: dumps() takes 1 positional argument but 2 positional arguments (and 1 keyword-only argument) were given\n"
     ]
    }
   ],
   "source": [
    "!python evaluate.py"
   ]
  },
  {
   "cell_type": "markdown",
   "id": "f3d861f8-af55-4936-b93f-861f54487d1d",
   "metadata": {},
   "source": [
    "## Explore"
   ]
  },
  {
   "cell_type": "code",
   "execution_count": 50,
   "id": "2f5a43a0-b36a-4f65-82fd-a3c33cae430b",
   "metadata": {},
   "outputs": [
    {
     "name": "stdout",
     "output_type": "stream",
     "text": [
      "src/query-date.ts\n",
      "export interface ValidDateQuery {\n",
      "\tdateType: 'valid'\n",
      "\tdate: number\n",
      "}\n",
      "\n",
      "export interface InvalidDateQuery {\n",
      "\tdateType: 'invalid'\n",
      "\tmessage: string\n",
      "}\n",
      "\n",
      "export interface EmptyDateQuery {\n",
      "\tdateType: 'empty'\n",
      "}\n",
      "\n",
      "export type DateQuery = ValidDateQuery | InvalidDateQuery | EmptyDateQuery\n",
      "\n",
      "export function toReadableDate(date: number | undefined): string {\n",
      "\tif (date==null) return ''\n",
      "\tconst pad=(n: number): string => ('0'+n).slice(-2)\n",
      "\tconst dateObject=new Date(date*1000)\n",
      "\tconst dateString=\n",
      "\t\tdateObject.getUTCFullYear()+\n",
      "\t\t'-'+\n",
      "\t\tpad(dateObject.getUTCMonth()+1)+\n",
      "\t\t'-'+\n",
      "\t\tpad(dateObject.getUTCDate())+\n",
      "\t\t' '+\n",
      "\t\tpad(dateObject.getUTCHours())+\n",
      "\t\t':'+\n",
      "\t\tpad(dateObject.getUTCMinutes())+\n",
      "\t\t':'+\n",
      "\t\tpad(dateObject.getUTCSeconds())\n",
      "\treturn dateString\n",
      "}\n",
      "\n",
      "export function toUrlDate(date: number): string {\n",
      "\tconst pad=(n: number): string => ('0'+n).slice(-2)\n",
      "\tconst dateObject=new Date(date*1000)\n",
      "\tconst dateString=\n",
      "\t\tdateObject.getUTCFullYear()+\n",
      "\t\tpad(dateObject.getUTCMonth()+1)+\n",
      "\t\tpad(dateObject.getUTCDate())+\n",
      "\t\t'T'+\n",
      "\t\tpad(dateObject.getUTCHours())+\n",
      "\t\tpad(dateObject.getUTCMinutes())+\n",
      "\t\tpad(dateObject.getUTCSeconds())+\n",
      "\t\t'Z'\n",
      "\treturn dateString\n",
      "}\n",
      "\n",
      "export function toDateQuery(readableDate: string): DateQuery {\n",
      "\tlet s=readableDate.trim()\n",
      "\tlet m=''\n",
      "\tlet r=''\n",
      "\t{\n",
      "\t\tif (s=='') return empty()\n",
      "\t\tconst match=s.match(/^((\\d\\d\\d\\d)-?)(.*)/)\n",
      "\t\tif (!match) return invalid()\n",
      "\t\tnext(match)\n",
      "\t}{\n",
      "\t\tif (s=='') return complete()\n",
      "\t\tconst match=s.match(/^((\\d\\d)-?)(.*)/)\n",
      "\t\tif (!match) return invalid()\n",
      "\t\tr+='-'\n",
      "\t\tnext(match)\n",
      "\t}{\n",
      "\t\tif (s=='') return complete()\n",
      "\t\tconst match=s.match(/^((\\d\\d)[T ]?)(.*)/)\n",
      "\t\tif (!match) return invalid()\n",
      "\t\tr+='-'\n",
      "\t\tnext(match)\n",
      "\t}{\n",
      "\t\tif (s=='') return complete()\n",
      "\t\tconst match=s.match(/^((\\d\\d):?)(.*)/)\n",
      "\t\tif (!match) return invalid()\n",
      "\t\tr+=' '\n",
      "\t\tnext(match)\n",
      "\t}{\n",
      "\t\tif (s=='') return complete()\n",
      "\t\tconst match=s.match(/^((\\d\\d):?)(.*)/)\n",
      "\t\tif (!match) return invalid()\n",
      "\t\tr+=':'\n",
      "\t\tnext(match)\n",
      "\t}{\n",
      "\t\tif (s=='') return complete()\n",
      "\t\tconst match=s.match(/^((\\d\\d)Z?)$/)\n",
      "\t\tif (!match) return invalid()\n",
      "\t\tr+=':'\n",
      "\t\tnext(match)\n",
      "\t}\n",
      "\treturn complete()\n",
      "\tfunction next(match: RegExpMatchArray): void {\n",
      "\t\tm+=match[1]\n",
      "\t\tr+=match[2]\n",
      "\t\ts=match[3]\n",
      "\t}\n",
      "\tfunction empty(): EmptyDateQuery {\n",
      "\t\treturn {\n",
      "\t\t\tdateType: 'empty'\n",
      "\t\t}\n",
      "\t}\n",
      "\tfunction invalid(): InvalidDateQuery {\n",
      "\t\tlet message=`invalid date string`\n",
      "\t\tif (m!='') message+=` after ${m}`\n",
      "\t\treturn {\n",
      "\t\t\tdateType: 'invalid',\n",
      "\t\t\tmessage\n",
      "\t\t}\n",
      "\t}\n",
      "\tfunction complete(): ValidDateQuery {\n",
      "\t\tconst completionTemplate='2000-01-01 00:00:00Z'\n",
      "\t\tconst completedReadableDate=r+completionTemplate.slice(r.length)\n",
      "\t\treturn {\n",
      "\t\t\tdateType: 'valid',\n",
      "\t\t\tdate: Date.parse(completedReadableDate)/1000\n",
      "\t\t}\n",
      "\t}\n",
      "}\n",
      "\n"
     ]
    }
   ],
   "source": [
    "i = 200\n",
    "# print(json.dumps(ds[i],indent=4))\n",
    "print(ds[i][\"max_stars_repo_path\"])\n",
    "print(ds[i][\"content\"])"
   ]
  },
  {
   "cell_type": "markdown",
   "id": "b1cf2516-a62e-4c5b-992d-52a9d5bfae96",
   "metadata": {},
   "source": [
    "### Ideas\n",
    "\n",
    "Things that may trip up LLMs:\n",
    "- function types (HOF)\n",
    "- self-referential types\n",
    "\n",
    "For tricking LLMs most important thing is not being a copy-and paste type (<FILL> isn't mentioned anywhere else, in var names or similar)\n",
    "\n",
    "Make the LLM \"work out\" the logic in the prefix/suffix context\n",
    "\n",
    "TODO: \n",
    "- pause ds scrape for a bit and try to handwrite an adversary example, can look at fundies HW for inspo"
   ]
  },
  {
   "cell_type": "markdown",
   "id": "f0d690af-7232-49fd-81d8-1afb4f805ab8",
   "metadata": {},
   "source": [
    "### Some extracted programs:\n",
    "\n",
    "Problem: FIM completion must equal to 1 token, across different models... \n",
    "\n",
    "-> don't worry about this now, just set max 1 token completion and assume that we can tell if a model is doing right/wrong by that one token\n",
    "\n",
    "- Date, difficulty easy, idx 200, stenotype-eval-dataset\n",
    "- Bible, difficulty hard/mixed, idx 3, stenotype-eval-dataset"
   ]
  },
  {
   "cell_type": "code",
   "execution_count": 7,
   "id": "f3aa7e52-80db-4531-b316-1acd97c88914",
   "metadata": {},
   "outputs": [],
   "source": [
    "def save_prog(name, ex):\n",
    "    os.makedirs(f\"dataset/{name}\", exist_ok=True)\n",
    "    with open(f\"dataset/{name}/{name}.json\", \"w\") as f:\n",
    "        json.dump( ex, f)\n",
    "    with open(f\"dataset/{name}/{name}_raw.ts\", \"w\") as f:\n",
    "        f.write(str(ex[\"content\"]))"
   ]
  },
  {
   "cell_type": "code",
   "execution_count": 40,
   "id": "2a304e76-d4fb-443f-8175-1b4a4fcc9bef",
   "metadata": {},
   "outputs": [],
   "source": [
    "# ## DATE - easy for LLMs\n",
    "# save_prog(\"date\", ds[200])\n",
    "# save_prog(\"bible\", ds[3])\n",
    "# save_prog(\"bookmark\", ds[4])\n",
    "# save_prog(\"magic\", ds[8])\n",
    "# save_prog(\"transaction\", ds[9])\n",
    "# save_prog(\"grype\", ds[11])\n",
    "# save_prog(\"election\", ds[14])\n",
    "# save_prog(\"tree\", ds[15])\n",
    "save_prog(\"svm\", ds[25])"
   ]
  },
  {
   "cell_type": "code",
   "execution_count": null,
   "id": "4f8b9c16-6cd9-4186-91af-c6daeac7aee9",
   "metadata": {},
   "outputs": [],
   "source": []
  }
 ],
 "metadata": {
  "kernelspec": {
   "display_name": "Python 3 (ipykernel)",
   "language": "python",
   "name": "python3"
  },
  "language_info": {
   "codemirror_mode": {
    "name": "ipython",
    "version": 3
   },
   "file_extension": ".py",
   "mimetype": "text/x-python",
   "name": "python",
   "nbconvert_exporter": "python",
   "pygments_lexer": "ipython3",
   "version": "3.8.18"
  }
 },
 "nbformat": 4,
 "nbformat_minor": 5
}
