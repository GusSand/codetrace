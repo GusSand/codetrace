{
 "cells": [
  {
   "cell_type": "code",
   "execution_count": 1,
   "metadata": {},
   "outputs": [],
   "source": [
    "%load_ext autoreload\n",
    "%autoreload 2"
   ]
  },
  {
   "cell_type": "code",
   "execution_count": 2,
   "metadata": {},
   "outputs": [],
   "source": [
    "import datasets\n",
    "from build_dataset import *\n",
    "import json"
   ]
  },
  {
   "cell_type": "code",
   "execution_count": 3,
   "metadata": {},
   "outputs": [],
   "source": [
    "ds = datasets.load_dataset(\"franlucc/stenotype-eval-dataset\", split=\"train\")"
   ]
  },
  {
   "cell_type": "code",
   "execution_count": 4,
   "metadata": {},
   "outputs": [
    {
     "data": {
      "text/plain": [
       "Dataset({\n",
       "    features: ['hexsha', 'size', 'ext', 'lang', 'max_stars_repo_path', 'max_stars_repo_name', 'max_stars_repo_head_hexsha', 'max_stars_repo_licenses', 'max_stars_count', 'max_stars_repo_stars_event_min_datetime', 'max_stars_repo_stars_event_max_datetime', 'max_issues_repo_path', 'max_issues_repo_name', 'max_issues_repo_head_hexsha', 'max_issues_repo_licenses', 'max_issues_count', 'max_issues_repo_issues_event_min_datetime', 'max_issues_repo_issues_event_max_datetime', 'max_forks_repo_path', 'max_forks_repo_name', 'max_forks_repo_head_hexsha', 'max_forks_repo_licenses', 'max_forks_count', 'max_forks_repo_forks_event_min_datetime', 'max_forks_repo_forks_event_max_datetime', 'content', 'avg_line_length', 'max_line_length', 'alphanum_fraction', 'annotation_sites', 'type_definitions', 'loc', 'functions', 'loc_per_function', 'estimated_tokens', 'content_type_removed', 'type_map'],\n",
       "    num_rows: 338\n",
       "})"
      ]
     },
     "execution_count": 4,
     "metadata": {},
     "output_type": "execute_result"
    }
   ],
   "source": [
    "f_ds = filter_types_with_idx(ds, QUERY_FUNC_TYPES)\n",
    "f_ds"
   ]
  },
  {
   "cell_type": "code",
   "execution_count": 5,
   "metadata": {},
   "outputs": [
    {
     "data": {
      "application/vnd.jupyter.widget-view+json": {
       "model_id": "ecd3dc324fa54494b0cc93c4a374c0d1",
       "version_major": 2,
       "version_minor": 0
      },
      "text/plain": [
       "Filter:   0%|          | 0/338 [00:00<?, ? examples/s]"
      ]
     },
     "metadata": {},
     "output_type": "display_data"
    },
    {
     "data": {
      "text/plain": [
       "Dataset({\n",
       "    features: ['hexsha', 'size', 'ext', 'lang', 'max_stars_repo_path', 'max_stars_repo_name', 'max_stars_repo_head_hexsha', 'max_stars_repo_licenses', 'max_stars_count', 'max_stars_repo_stars_event_min_datetime', 'max_stars_repo_stars_event_max_datetime', 'max_issues_repo_path', 'max_issues_repo_name', 'max_issues_repo_head_hexsha', 'max_issues_repo_licenses', 'max_issues_count', 'max_issues_repo_issues_event_min_datetime', 'max_issues_repo_issues_event_max_datetime', 'max_forks_repo_path', 'max_forks_repo_name', 'max_forks_repo_head_hexsha', 'max_forks_repo_licenses', 'max_forks_count', 'max_forks_repo_forks_event_min_datetime', 'max_forks_repo_forks_event_max_datetime', 'content', 'avg_line_length', 'max_line_length', 'alphanum_fraction', 'annotation_sites', 'type_definitions', 'loc', 'functions', 'loc_per_function', 'estimated_tokens', 'content_type_removed', 'type_map'],\n",
       "    num_rows: 336\n",
       "})"
      ]
     },
     "execution_count": 5,
     "metadata": {},
     "output_type": "execute_result"
    }
   ],
   "source": [
    "f_ds = f_ds.filter(lambda x: x[\"type_map\"] != \"{}\")\n",
    "f_ds"
   ]
  },
  {
   "cell_type": "code",
   "execution_count": 6,
   "metadata": {},
   "outputs": [
    {
     "name": "stdout",
     "output_type": "stream",
     "text": [
      "/*\n",
      " * @Author: your name\n",
      " * @Date: 2022-04-24 10:11:23\n",
      " * @LastEditTime: 2022-04-24 16:14:52\n",
      " * @LastEditors: Please set LastEditors\n",
      " * @Description: 打开koroFileHeader查看配置 进行设置: https://github.com/OBKoro1/koro1FileHeader/wiki/%E9%85%8D%E7%BD%AE\n",
      " * @FilePath: /tinkerbell-ui-react/src/packages/DaysPicker/date/interface.ts\n",
      " */\n",
      "//  props 天\n",
      "export interface dayProps {\n",
      "    year: number;\n",
      "    month: number;\n",
      "    active: number;\n",
      "    change: Function;\n",
      "    visible: boolean;\n",
      "    monthRef: any;\n",
      "    show: boolean;\n",
      "    limit: boolean;\n",
      "}\n",
      "//  props 月\n",
      "export interface monthProps {\n",
      "    visible: boolean;\n",
      "    active: number;\n",
      "    change: Function;\n",
      "    year: number;\n",
      "    plateChange: Function;\n",
      "    limit: boolean;\n",
      "}\n",
      "//  props 年\n",
      "export interface yearProps {\n",
      "    visible: boolean;\n",
      "    active: number;\n",
      "    change: Function;\n",
      "    plateChange: Function;\n",
      "    limit: boolean;\n",
      "}\n",
      "\n",
      "// pageday-item type\n",
      "export type dayItem = {\n",
      "    label: string;\n",
      "    value: number;\n",
      "    disabled: boolean; //禁用\n",
      "    prev: boolean; // 是否属于上一月份\n",
      "    next: boolean; // 是否属于上一月份\n",
      "    week: number; // 星期下标\n",
      "    weekLabel: string; // 星期明文\n",
      "};\n",
      "\n",
      "// pageMonth-item type\n",
      "export type monthItem = {\n",
      "    value: number;\n",
      "    label: string;\n",
      "    disabled: boolean;\n",
      "};\n",
      "\n",
      "// 年份\n",
      "export function getYearList(year: number, limit: boolean) {\n",
      "    let list: Array<monthItem> = [];\n",
      "\n",
      "    let newYear = new Date().getFullYear();\n",
      "    let maxYear = year + 9;\n",
      "    for (let i = year - 3; i < maxYear; i++) {\n",
      "        list.push({\n",
      "            value: i,\n",
      "            label: `${i}`,\n",
      "            disabled: i < newYear && limit,\n",
      "        });\n",
      "    }\n",
      "    return list;\n",
      "}\n",
      "\n",
      "// 月份\n",
      "export function getMonthList(year: number, limit: boolean) {\n",
      "    let list: Array<monthItem> = [];\n",
      "    for (let i = 1; i < 13; i++) {\n",
      "        list.push({\n",
      "            value: i,\n",
      "            label: `${i}月`,\n",
      "            disabled: checkDisabledMonth(year, i) && limit,\n",
      "        });\n",
      "    }\n",
      "    return list;\n",
      "}\n",
      "// 月-禁用判定\n",
      "function checkDisabledMonth(prevYear: number, prevMonth: number) {\n",
      "    const prevTime = new Date(`${prevYear}/${prevMonth}/01`).getTime();\n",
      "    const newDate = new Date();\n",
      "    const year: number = newDate.getFullYear();\n",
      "    let month: number = newDate.getMonth() + 1;\n",
      "    const newTime = new Date(`${year}/${month}/01`).getTime();\n",
      "    return prevTime < newTime;\n",
      "}\n",
      "\n",
      "// 日期对照月份表\n",
      "const monthAsDay = [31, 28, 31, 30, 31, 30, 31, 31, 30, 31, 30, 31]; //月份\n",
      "\n",
      "// 星期列表\n",
      "export const weekList = [\"一\", \"二\", \"三\", \"四\", \"五\", \"六\", \"日\"];\n",
      "\n",
      "// 日-数据列表生成type:0当前月份，1上一月，2下一月\n",
      "export function getDayList(\n",
      "    year: number,\n",
      "    month: number,\n",
      "    type: number,\n",
      "    limit: boolean\n",
      ") {\n",
      "    let list: Array<dayItem> = [];\n",
      "    let max: number = year % 4 === 0 && month === 2 ? 1 : 0; // 闰年判定\n",
      "    max = monthAsDay[month - 1] + max; // 定位月份\n",
      "\n",
      "    for (let i = 0; i < max; i++) {\n",
      "        let value = i + 1;\n",
      "        let weekParam = checkWeek(year, month, value);\n",
      "        list.push({\n",
      "            label: value.toString(),\n",
      "            value: value,\n",
      "            disabled: checkDisabled(year, month, value) && limit,\n",
      "            prev: type === 1,\n",
      "            next: type === 2,\n",
      "            week: weekParam.value,\n",
      "            weekLabel: weekParam.label,\n",
      "        });\n",
      "    }\n",
      "    if (type !== 0) {\n",
      "        return list;\n",
      "    } else {\n",
      "        return dayListSupply(list, year, month, limit);\n",
      "    }\n",
      "}\n",
      "// 日-数据按周补充\n",
      "function dayListSupply(\n",
      "    arr: Array<dayItem>,\n",
      "    year: number,\n",
      "    month: number,\n",
      "    limit: boolean\n",
      ") {\n",
      "    let prevList = getDayList(\n",
      "        month === 1 ? year - 1 : year,\n",
      "        month === 1 ? 12 : month - 1,\n",
      "        1,\n",
      "        limit\n",
      "    );\n",
      "    let nextList = getDayList(\n",
      "        month === 12 ? year + 1 : year,\n",
      "        month === 12 ? 1 : month + 1,\n",
      "        2,\n",
      "        limit\n",
      "    );\n",
      "    // 上月\n",
      "    for (let i = prevList.length - 1; i > 0; i--) {\n",
      "        if (prevList[i].week === 7) {\n",
      "            break;\n",
      "        }\n",
      "        arr.unshift(prevList[i]);\n",
      "    }\n",
      "    // 下月\n",
      "    for (let i = 0; i < nextList.length - 1; i++) {\n",
      "        if (arr.length === 42) {\n",
      "            break;\n",
      "        }\n",
      "        arr.push(nextList[i]);\n",
      "    }\n",
      "    return arr;\n",
      "}\n",
      "\n",
      "// 日-禁用判定\n",
      "export function checkDisabled(\n",
      "    prevYear: number,\n",
      "    prevMonth: number,\n",
      "    prevDay: number\n",
      ") {\n",
      "    const prevTime = new Date(`${prevYear}/${prevMonth}/${prevDay}`).getTime();\n",
      "    const newDate = new Date();\n",
      "    const year: number = newDate.getFullYear();\n",
      "    let month: number = newDate.getMonth() + 1;\n",
      "    let day: number = newDate.getDate();\n",
      "    const newTime = new Date(`${year}/${month}/${day}`).getTime();\n",
      "    return prevTime < newTime;\n",
      "}\n",
      "\n",
      "// 周期-判定星期几\n",
      "function checkWeek(year: number, month: number, day: number) {\n",
      "    let weekday = [\n",
      "        \"星期日\",\n",
      "        \"星期一\",\n",
      "        \"星期二\",\n",
      "        \"星期三\",\n",
      "        \"星期四\",\n",
      "        \"星期五\",\n",
      "        \"星期六\",\n",
      "    ];\n",
      "    let newDate = new Date(`${year}/${month}/${day}`);\n",
      "    let mark = newDate.getDay();\n",
      "\n",
      "    return {\n",
      "        value: mark === 0 ? 7 : mark,\n",
      "        label: weekday[mark],\n",
      "    };\n",
      "}\n",
      "\n"
     ]
    }
   ],
   "source": [
    "print(f_ds[0][\"content\"])"
   ]
  },
  {
   "cell_type": "code",
   "execution_count": 10,
   "metadata": {},
   "outputs": [
    {
     "data": {
      "application/vnd.jupyter.widget-view+json": {
       "model_id": "f01b4d3d6fa340ae97cdbb7c40ee3c3e",
       "version_major": 2,
       "version_minor": 0
      },
      "text/plain": [
       "Pushing dataset shards to the dataset hub:   0%|          | 0/1 [00:00<?, ?it/s]"
      ]
     },
     "metadata": {},
     "output_type": "display_data"
    },
    {
     "data": {
      "application/vnd.jupyter.widget-view+json": {
       "model_id": "2e81533e97b0451994c4d0ae3571c4f2",
       "version_major": 2,
       "version_minor": 0
      },
      "text/plain": [
       "Creating parquet from Arrow format:   0%|          | 0/1 [00:00<?, ?ba/s]"
      ]
     },
     "metadata": {},
     "output_type": "display_data"
    },
    {
     "data": {
      "application/vnd.jupyter.widget-view+json": {
       "model_id": "58b679c9294144629b6237957f70fd75",
       "version_major": 2,
       "version_minor": 0
      },
      "text/plain": [
       "Deleting unused files from dataset repository:   0%|          | 0/1 [00:00<?, ?it/s]"
      ]
     },
     "metadata": {},
     "output_type": "display_data"
    },
    {
     "data": {
      "application/vnd.jupyter.widget-view+json": {
       "model_id": "a0616a8db7ce4a0f8eaf7dea5209bdc9",
       "version_major": 2,
       "version_minor": 0
      },
      "text/plain": [
       "Downloading metadata:   0%|          | 0.00/2.27k [00:00<?, ?B/s]"
      ]
     },
     "metadata": {},
     "output_type": "display_data"
    }
   ],
   "source": [
    "f_ds.push_to_hub(\"franlucc/stenotype-eval-dataset-func-type-stripped-v2\")"
   ]
  },
  {
   "cell_type": "code",
   "execution_count": 8,
   "metadata": {},
   "outputs": [],
   "source": [
    "f_ds_v0 = datasets.load_dataset(\"franlucc/stenotype-eval-func-type-stripped-v1\", split=\"train\")"
   ]
  },
  {
   "cell_type": "code",
   "execution_count": 9,
   "metadata": {},
   "outputs": [
    {
     "data": {
      "text/plain": [
       "0"
      ]
     },
     "execution_count": 9,
     "metadata": {},
     "output_type": "execute_result"
    }
   ],
   "source": [
    "count = 0\n",
    "diffs = []\n",
    "lens = []\n",
    "for i in range(len(f_ds)):\n",
    "    a =f_ds[i][\"content_type_removed\"]\n",
    "    b=f_ds_v0[i][\"content_type_removed\"]\n",
    "    if a != b:\n",
    "        count += 1\n",
    "        diffs.append((i,a, b))\n",
    "        lens.append(len(a) - len(b))\n",
    "        \n",
    "count"
   ]
  },
  {
   "cell_type": "code",
   "execution_count": 10,
   "metadata": {},
   "outputs": [],
   "source": [
    "for (i,a,b) in diffs:\n",
    "    with open(f\"../scratch/{i}_a.txt\", \"w\") as f:\n",
    "        f.write(a)\n",
    "    with open(f\"../scratch/{i}_b.txt\", \"w\") as f:\n",
    "        f.write(b)\n",
    "    with open(f\"../scratch/{i}_gold.txt\", \"w\") as f:\n",
    "        f.write(f_ds[i][\"content\"])"
   ]
  },
  {
   "cell_type": "code",
   "execution_count": null,
   "metadata": {},
   "outputs": [],
   "source": []
  }
 ],
 "metadata": {
  "kernelspec": {
   "display_name": "gpu",
   "language": "python",
   "name": "python3"
  },
  "language_info": {
   "codemirror_mode": {
    "name": "ipython",
    "version": 3
   },
   "file_extension": ".py",
   "mimetype": "text/x-python",
   "name": "python",
   "nbconvert_exporter": "python",
   "pygments_lexer": "ipython3",
   "version": "3.10.12"
  }
 },
 "nbformat": 4,
 "nbformat_minor": 2
}
