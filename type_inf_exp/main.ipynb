{
 "cells": [
  {
   "cell_type": "code",
   "execution_count": 1,
   "metadata": {},
   "outputs": [],
   "source": [
    "%load_ext autoreload\n",
    "%autoreload 2"
   ]
  },
  {
   "cell_type": "code",
   "execution_count": 2,
   "metadata": {},
   "outputs": [],
   "source": [
    "import datasets\n",
    "from build_dataset import *\n",
    "import json"
   ]
  },
  {
   "cell_type": "code",
   "execution_count": 3,
   "metadata": {},
   "outputs": [],
   "source": [
    "ds = datasets.load_dataset(\"franlucc/stenotype-eval-dataset\", split=\"train\")"
   ]
  },
  {
   "cell_type": "code",
   "execution_count": 4,
   "metadata": {},
   "outputs": [
    {
     "data": {
      "text/plain": [
       "Dataset({\n",
       "    features: ['hexsha', 'size', 'ext', 'lang', 'max_stars_repo_path', 'max_stars_repo_name', 'max_stars_repo_head_hexsha', 'max_stars_repo_licenses', 'max_stars_count', 'max_stars_repo_stars_event_min_datetime', 'max_stars_repo_stars_event_max_datetime', 'max_issues_repo_path', 'max_issues_repo_name', 'max_issues_repo_head_hexsha', 'max_issues_repo_licenses', 'max_issues_count', 'max_issues_repo_issues_event_min_datetime', 'max_issues_repo_issues_event_max_datetime', 'max_forks_repo_path', 'max_forks_repo_name', 'max_forks_repo_head_hexsha', 'max_forks_repo_licenses', 'max_forks_count', 'max_forks_repo_forks_event_min_datetime', 'max_forks_repo_forks_event_max_datetime', 'content', 'avg_line_length', 'max_line_length', 'alphanum_fraction', 'annotation_sites', 'type_definitions', 'loc', 'functions', 'loc_per_function', 'estimated_tokens', 'content_type_removed', 'type_map'],\n",
       "    num_rows: 338\n",
       "})"
      ]
     },
     "execution_count": 4,
     "metadata": {},
     "output_type": "execute_result"
    }
   ],
   "source": [
    "f_ds = filter_types_with_idx(ds, QUERY_FUNC_TYPES)\n",
    "f_ds"
   ]
  },
  {
   "cell_type": "code",
   "execution_count": 5,
   "metadata": {},
   "outputs": [
    {
     "data": {
      "application/vnd.jupyter.widget-view+json": {
       "model_id": "0333445213754d8baec53ad3ef6fc9a0",
       "version_major": 2,
       "version_minor": 0
      },
      "text/plain": [
       "Filter:   0%|          | 0/338 [00:00<?, ? examples/s]"
      ]
     },
     "metadata": {},
     "output_type": "display_data"
    },
    {
     "data": {
      "text/plain": [
       "Dataset({\n",
       "    features: ['hexsha', 'size', 'ext', 'lang', 'max_stars_repo_path', 'max_stars_repo_name', 'max_stars_repo_head_hexsha', 'max_stars_repo_licenses', 'max_stars_count', 'max_stars_repo_stars_event_min_datetime', 'max_stars_repo_stars_event_max_datetime', 'max_issues_repo_path', 'max_issues_repo_name', 'max_issues_repo_head_hexsha', 'max_issues_repo_licenses', 'max_issues_count', 'max_issues_repo_issues_event_min_datetime', 'max_issues_repo_issues_event_max_datetime', 'max_forks_repo_path', 'max_forks_repo_name', 'max_forks_repo_head_hexsha', 'max_forks_repo_licenses', 'max_forks_count', 'max_forks_repo_forks_event_min_datetime', 'max_forks_repo_forks_event_max_datetime', 'content', 'avg_line_length', 'max_line_length', 'alphanum_fraction', 'annotation_sites', 'type_definitions', 'loc', 'functions', 'loc_per_function', 'estimated_tokens', 'content_type_removed', 'type_map'],\n",
       "    num_rows: 336\n",
       "})"
      ]
     },
     "execution_count": 5,
     "metadata": {},
     "output_type": "execute_result"
    }
   ],
   "source": [
    "f_ds = f_ds.filter(lambda x: x[\"type_map\"] != \"{}\")\n",
    "f_ds"
   ]
  },
  {
   "cell_type": "code",
   "execution_count": 6,
   "metadata": {},
   "outputs": [
    {
     "name": "stdout",
     "output_type": "stream",
     "text": [
      "/* eslint-disable no-constant-condition */\n",
      "\n",
      "const EOF = '~EOF~'\n",
      "\n",
      "class Parser {\n",
      "  private pos = 0\n",
      "\n",
      "  constructor(private input: string) {}\n",
      "\n",
      "  next(): string {\n",
      "    if (this.pos >= this.input.length) {\n",
      "      return EOF\n",
      "    }\n",
      "    return this.input[this.pos++]\n",
      "  }\n",
      "\n",
      "  backup(): void {\n",
      "    this.pos--\n",
      "  }\n",
      "\n",
      "  parseTemplate(): Binding {\n",
      "    if (this.next() != '/') {\n",
      "      throw new Error('binding URL should start with a slash')\n",
      "    }\n",
      "    \n",
      "    return {\n",
      "      segments: this.parseSegments(),\n",
      "      verb: this.parseVerb(),\n",
      "    }\n",
      "  }\n",
      "\n",
      "  private parseSegments(): Segment[] {\n",
      "    let segments: Segment[] = []\n",
      "    segments.push(this.parseSegment())\n",
      "\n",
      "    while (true) {\n",
      "      let r = this.next()\n",
      "      switch (r) {\n",
      "        case '/':\n",
      "          segments.push(this.parseSegment())\n",
      "          continue\n",
      "\n",
      "        case ':':\n",
      "        case '}':\n",
      "          this.backup()\n",
      "          return segments\n",
      "\n",
      "        case EOF:\n",
      "          return segments\n",
      "\n",
      "        default:\n",
      "          throw new Error(`unexpected ${r} in segments`)\n",
      "      }\n",
      "    }\n",
      "  }\n",
      "\n",
      "  private parseSegment(): Segment {\n",
      "    let content = ''\n",
      "    while (true) {\n",
      "      let r = this.next()\n",
      "      switch (r) {\n",
      "        case EOF:\n",
      "          if (!content.length) {\n",
      "            throw new Error(`unexpected EOF in segment`)\n",
      "          }\n",
      "          return { content }\n",
      "\n",
      "        case '{':\n",
      "          return { content, variable: this.parseVariable() }\n",
      "\n",
      "        case ':':\n",
      "        case '/':\n",
      "        case '}':\n",
      "          this.backup()\n",
      "          if (!content.length) {\n",
      "            throw new Error(`unexpected ${r} in segment`)\n",
      "          }\n",
      "          return { content }\n",
      "\n",
      "        default:\n",
      "          content += r\n",
      "      }\n",
      "    }\n",
      "  }\n",
      "\n",
      "  private parseVariable(): Variable {\n",
      "    let v: Variable = {\n",
      "      name: '',\n",
      "    }\n",
      "    while (true) {\n",
      "      let r = this.next()\n",
      "      switch (r) {\n",
      "        case '}':\n",
      "          if (!v.name.length) {\n",
      "            throw new Error(`empty variable name`)\n",
      "          }\n",
      "          return v\n",
      "\n",
      "        case '=':\n",
      "          v.parts = this.parseSegments().map(segment => {\n",
      "            if (!segment.content.length) {\n",
      "              throw new Error(`unexpected empty segment`)\n",
      "            }\n",
      "            return segment.content\n",
      "          })\n",
      "          break\n",
      "\n",
      "        case EOF:\n",
      "          throw new Error(`unexpected EOF in variable ${v.name}`)\n",
      "\n",
      "        default:\n",
      "          v.name += r\n",
      "      }\n",
      "    }\n",
      "  }\n",
      "\n",
      "  private parseVerb(): string {\n",
      "    let r = this.next()\n",
      "    switch (r) {\n",
      "      case ':':\n",
      "        break\n",
      "\n",
      "      case EOF:\n",
      "        return ''\n",
      "\n",
      "      default:\n",
      "        throw new Error(`unexpected ${r} in verb`)\n",
      "    }\n",
      "\n",
      "    let verb = ''\n",
      "    while (true) {\n",
      "      let r = this.next()\n",
      "      if (r === EOF) {\n",
      "        if (!verb.length) {\n",
      "          throw new Error(`empty verb`)\n",
      "        }\n",
      "        return verb\n",
      "      }\n",
      "      verb += r\n",
      "    }\n",
      "  }\n",
      "}\n",
      "\n",
      "interface Binding {\n",
      "  segments: Segment[]\n",
      "  verb: string\n",
      "}\n",
      "\n",
      "interface Segment {\n",
      "  content: string\n",
      "  variable?: Variable\n",
      "}\n",
      "\n",
      "interface Variable {\n",
      "  name: string\n",
      "  parts?: string[]\n",
      "}\n",
      "\n",
      "export function buildURL(template: string, params: { [key: string]: string }): string {\n",
      "  let parser = new Parser(template)\n",
      "  let binding = parser.parseTemplate()\n",
      "\n",
      "  let parts = binding.segments.map(segment => {\n",
      "    if (segment.variable) {\n",
      "      if (!params[segment.variable.name]) {\n",
      "        throw new Error(`input parameter ${segment.variable.name} is required`)\n",
      "      }\n",
      "\n",
      "      return params[segment.variable.name]\n",
      "    }\n",
      "    return segment.content\n",
      "  })\n",
      "  let verb = binding.verb ? `:${binding.verb}` : ''\n",
      "  return '/' + parts.join('/') + verb\n",
      "}\n",
      "\n"
     ]
    }
   ],
   "source": [
    "print(f_ds[66][\"content\"])"
   ]
  },
  {
   "cell_type": "code",
   "execution_count": 7,
   "metadata": {},
   "outputs": [
    {
     "data": {
      "application/vnd.jupyter.widget-view+json": {
       "model_id": "3ec67d17678e4b208104998141ab794e",
       "version_major": 2,
       "version_minor": 0
      },
      "text/plain": [
       "Pushing dataset shards to the dataset hub:   0%|          | 0/1 [00:00<?, ?it/s]"
      ]
     },
     "metadata": {},
     "output_type": "display_data"
    },
    {
     "data": {
      "application/vnd.jupyter.widget-view+json": {
       "model_id": "d251b580fbd1467c8ccf1fca35723277",
       "version_major": 2,
       "version_minor": 0
      },
      "text/plain": [
       "Downloading metadata:   0%|          | 0.00/2.27k [00:00<?, ?B/s]"
      ]
     },
     "metadata": {},
     "output_type": "display_data"
    }
   ],
   "source": [
    "f_ds.push_to_hub(\"franlucc/stenotype-eval-dataset-func-type-stripped-test\")"
   ]
  },
  {
   "cell_type": "code",
   "execution_count": 8,
   "metadata": {},
   "outputs": [],
   "source": [
    "f_ds_v0 = datasets.load_dataset(\"franlucc/stenotype-eval-func-type-stripped-v1\", split=\"train\")"
   ]
  },
  {
   "cell_type": "code",
   "execution_count": 7,
   "metadata": {},
   "outputs": [
    {
     "data": {
      "text/plain": [
       "0"
      ]
     },
     "execution_count": 7,
     "metadata": {},
     "output_type": "execute_result"
    }
   ],
   "source": [
    "count = 0\n",
    "diffs = []\n",
    "lens = []\n",
    "for i in range(len(f_ds)):\n",
    "    a =f_ds[i][\"content_type_removed\"]\n",
    "    b=f_ds_v0[i][\"content_type_removed\"]\n",
    "    if a != b:\n",
    "        count += 1\n",
    "        diffs.append((i,a, b))\n",
    "        lens.append(len(a) - len(b))\n",
    "        \n",
    "count"
   ]
  },
  {
   "cell_type": "code",
   "execution_count": null,
   "metadata": {},
   "outputs": [],
   "source": []
  }
 ],
 "metadata": {
  "kernelspec": {
   "display_name": "gpu",
   "language": "python",
   "name": "python3"
  },
  "language_info": {
   "codemirror_mode": {
    "name": "ipython",
    "version": 3
   },
   "file_extension": ".py",
   "mimetype": "text/x-python",
   "name": "python",
   "nbconvert_exporter": "python",
   "pygments_lexer": "ipython3",
   "version": "3.10.12"
  }
 },
 "nbformat": 4,
 "nbformat_minor": 2
}
