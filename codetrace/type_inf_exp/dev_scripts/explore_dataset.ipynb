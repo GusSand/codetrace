{
 "cells": [
  {
   "cell_type": "code",
   "execution_count": 2,
   "metadata": {},
   "outputs": [],
   "source": [
    "%load_ext autoreload\n",
    "%autoreload 2"
   ]
  },
  {
   "cell_type": "code",
   "execution_count": 3,
   "metadata": {},
   "outputs": [],
   "source": [
    "import datasets"
   ]
  },
  {
   "cell_type": "code",
   "execution_count": 10,
   "metadata": {},
   "outputs": [
    {
     "data": {
      "application/vnd.jupyter.widget-view+json": {
       "model_id": "74b4862a7ff94beab4027a667cd7b255",
       "version_major": 2,
       "version_minor": 0
      },
      "text/plain": [
       "Downloading readme:   0%|          | 0.00/536 [00:00<?, ?B/s]"
      ]
     },
     "metadata": {},
     "output_type": "display_data"
    },
    {
     "data": {
      "application/vnd.jupyter.widget-view+json": {
       "model_id": "e0b07e65428f40608acea1f9ffee0cf3",
       "version_major": 2,
       "version_minor": 0
      },
      "text/plain": [
       "Downloading data files:   0%|          | 0/1 [00:00<?, ?it/s]"
      ]
     },
     "metadata": {},
     "output_type": "display_data"
    },
    {
     "data": {
      "application/vnd.jupyter.widget-view+json": {
       "model_id": "cd86d1f15fac478ba7badaae513b12bd",
       "version_major": 2,
       "version_minor": 0
      },
      "text/plain": [
       "Downloading data:   0%|          | 0.00/64.7M [00:00<?, ?B/s]"
      ]
     },
     "metadata": {},
     "output_type": "display_data"
    },
    {
     "data": {
      "application/vnd.jupyter.widget-view+json": {
       "model_id": "cdf0af1bb6484063b424d279f2dc1cb7",
       "version_major": 2,
       "version_minor": 0
      },
      "text/plain": [
       "Downloading data:   0%|          | 0.00/66.1M [00:00<?, ?B/s]"
      ]
     },
     "metadata": {},
     "output_type": "display_data"
    },
    {
     "data": {
      "application/vnd.jupyter.widget-view+json": {
       "model_id": "3bb4c05f849b484f801811956b2ac064",
       "version_major": 2,
       "version_minor": 0
      },
      "text/plain": [
       "Downloading data:   0%|          | 0.00/62.9M [00:00<?, ?B/s]"
      ]
     },
     "metadata": {},
     "output_type": "display_data"
    },
    {
     "data": {
      "application/vnd.jupyter.widget-view+json": {
       "model_id": "aaf2c090c49a44129ca10302a1e91836",
       "version_major": 2,
       "version_minor": 0
      },
      "text/plain": [
       "Downloading data:   0%|          | 0.00/62.9M [00:00<?, ?B/s]"
      ]
     },
     "metadata": {},
     "output_type": "display_data"
    },
    {
     "data": {
      "application/vnd.jupyter.widget-view+json": {
       "model_id": "f3d6e0a046b545af9178c999bda4fdab",
       "version_major": 2,
       "version_minor": 0
      },
      "text/plain": [
       "Extracting data files:   0%|          | 0/1 [00:00<?, ?it/s]"
      ]
     },
     "metadata": {},
     "output_type": "display_data"
    },
    {
     "data": {
      "application/vnd.jupyter.widget-view+json": {
       "model_id": "14aba22d96244098a2be11cc5a494aff",
       "version_major": 2,
       "version_minor": 0
      },
      "text/plain": [
       "Generating train split:   0%|          | 0/265879 [00:00<?, ? examples/s]"
      ]
     },
     "metadata": {},
     "output_type": "display_data"
    }
   ],
   "source": [
    "ds = datasets.load_dataset(\"franlucc/py_caa\", split=\"train\")\n",
    "dsc = datasets.load_dataset(\"franlucc/py-caa-completions\", split=\"train\")"
   ]
  },
  {
   "cell_type": "code",
   "execution_count": 5,
   "metadata": {},
   "outputs": [],
   "source": [
    "ds2 = ds.map(lambda x: {**x, \n",
    "                        \"recon2\" : x[\"prefix\"] + x[\"middle\"] + x[\"suffix\"],\n",
    "                        \"recon\": x[\"fim_program\"].replace(\"<FILL>\", x[\"fim_type\"])})"
   ]
  },
  {
   "cell_type": "code",
   "execution_count": 15,
   "metadata": {},
   "outputs": [
    {
     "data": {
      "application/vnd.jupyter.widget-view+json": {
       "model_id": "ea264e45ff774746aa129918e1d4d94f",
       "version_major": 2,
       "version_minor": 0
      },
      "text/plain": [
       "Filter:   0%|          | 0/265879 [00:00<?, ? examples/s]"
      ]
     },
     "metadata": {},
     "output_type": "display_data"
    }
   ],
   "source": [
    "py_caa_v2 = ds.filter(lambda x: len(tokenizer(x[\"fim_type\"])[\"input_ids\"]) == 1)"
   ]
  },
  {
   "cell_type": "code",
   "execution_count": 18,
   "metadata": {},
   "outputs": [
    {
     "data": {
      "application/vnd.jupyter.widget-view+json": {
       "model_id": "1abc7cd117f44584a92fb58bb0a7a915",
       "version_major": 2,
       "version_minor": 0
      },
      "text/plain": [
       "Pushing dataset shards to the dataset hub:   0%|          | 0/2 [00:00<?, ?it/s]"
      ]
     },
     "metadata": {},
     "output_type": "display_data"
    },
    {
     "data": {
      "application/vnd.jupyter.widget-view+json": {
       "model_id": "0c0f69dca1c24f6792be2a483a6f9fbf",
       "version_major": 2,
       "version_minor": 0
      },
      "text/plain": [
       "Creating parquet from Arrow format:   0%|          | 0/71 [00:00<?, ?ba/s]"
      ]
     },
     "metadata": {},
     "output_type": "display_data"
    },
    {
     "data": {
      "application/vnd.jupyter.widget-view+json": {
       "model_id": "a2eafc4b9fbd491c8692f3a62e22c95f",
       "version_major": 2,
       "version_minor": 0
      },
      "text/plain": [
       "Creating parquet from Arrow format:   0%|          | 0/71 [00:00<?, ?ba/s]"
      ]
     },
     "metadata": {},
     "output_type": "display_data"
    }
   ],
   "source": [
    "py_caa_v2.push_to_hub(\"franlucc/py_typeinf_may3-1tok_starcoderbase-1b_completions\", private=True)"
   ]
  },
  {
   "cell_type": "code",
   "execution_count": 7,
   "metadata": {},
   "outputs": [
    {
     "data": {
      "application/vnd.jupyter.widget-view+json": {
       "model_id": "74daf66019c24096b6ef85adeb5ec6ff",
       "version_major": 2,
       "version_minor": 0
      },
      "text/plain": [
       "Map:   0%|          | 0/265879 [00:00<?, ? examples/s]"
      ]
     },
     "metadata": {},
     "output_type": "display_data"
    }
   ],
   "source": [
    "from transformers import AutoTokenizer\n",
    "tokenizer = AutoTokenizer.from_pretrained(\"/mnt/ssd/arjun/models/starcoderbase-1b\")\n",
    "\n",
    "ds2 = ds2.map(lambda x: {**x, \"num_tok\" : len(tokenizer(x[\"fim_type\"])[\"input_ids\"])})"
   ]
  },
  {
   "cell_type": "code",
   "execution_count": 16,
   "metadata": {},
   "outputs": [],
   "source": [
    "ds = datasets.load_from_disk(\"/home/franlucc/projects_data/codetrace/results_v2/starcoderbase-1b/python/all_muts/ood_steering_results_ds\")"
   ]
  },
  {
   "cell_type": "code",
   "execution_count": 14,
   "metadata": {},
   "outputs": [
    {
     "data": {
      "text/plain": [
       "True"
      ]
     },
     "execution_count": 14,
     "metadata": {},
     "output_type": "execute_result"
    }
   ],
   "source": [
    "dsc[\"correct\"] == ds[\"correct\"]"
   ]
  },
  {
   "cell_type": "code",
   "execution_count": 20,
   "metadata": {},
   "outputs": [
    {
     "name": "stdout",
     "output_type": "stream",
     "text": [
      "#!/usr/bin/env python3\n",
      "# Copyright (C) 2021 Checkmk GmbH - License: GNU General Public License v2\n",
      "# This file is part of Checkmk (https://checkmk.com). It is subject to the terms and\n",
      "# conditions defined in the file COPYING, which is part of this source code package.\n",
      "\n",
      "from collections.abc import Sequence\n",
      "\n",
      "import pytest\n",
      "from polyfactory.factories.pydantic_factory import ModelFactory\n",
      "from pytest_mock import MockerFixture\n",
      "\n",
      "from cmk.base.plugins.agent_based.agent_based_api.v1 import Attributes, TableRow\n",
      "from cmk.base.plugins.agent_based.inventory_kube_node import inventory_kube_node\n",
      "\n",
      "from cmk.plugins.lib.kube import (\n",
      "    HealthZ,\n",
      "    IpAddress,\n",
      "    KubeletInfo,\n",
      "    NodeAddress,\n",
      "    NodeInfo,\n",
      "    NodeName,\n",
      "    Timestamp,\n",
      ")\n",
      "\n",
      "from .utils_inventory import sort_inventory_result\n",
      "\n",
      "\n",
      "@pytest.mark.parametrize(\n",
      "    \"section_info, section_kubelet, expected_check_result\",\n",
      "    [\n",
      "        pytest.param(\n",
      "            NodeInfo(\n",
      "                architecture=\"amd64\",\n",
      "                kernel_version=\"5.13.0-27-generic\",\n",
      "                os_image=\"Ubuntu 20.04.2 LTS\",\n",
      "                operating_system=\"linux\",\n",
      "                container_runtime_version=IpAddress(\"docker://20.10.8\"),\n",
      "                name=NodeName(\"minikube\"),\n",
      "                creation_timestamp=Timestamp(1640000000.0),\n",
      "                labels={},\n",
      "                annotations={},\n",
      "                addresses=[\n",
      "                    NodeAddress(type_=\"Hostname\", address=IpAddress(\"k8-21\")),\n",
      "                    NodeAddress(type_=\"ExternalIP\", address=IpAddress(\"10.200.3.21\")),\n",
      "                ],\n",
      "                cluster=\"cluster\",\n",
      "                kubernetes_cluster_hostname=\"host\",\n",
      "            ),\n",
      "            KubeletInfo(\n",
      "                version=\"1.2.3\",\n",
      "                proxy_version=\"1.2.3\",\n",
      "                health=HealthZ(status_code=200, response=\"ok\"),\n",
      "            ),\n",
      "            [\n",
      "                Attributes(\n",
      "                    path=[\"software\", \"applications\", \"kube\", \"metadata\"],\n",
      "                    inventory_attributes={\n",
      "                        \"object\": \"Node\",\n",
      "                        \"name\": \"minikube\",\n",
      "                    },\n",
      "                ),\n",
      "                Attributes(\n",
      "                    path=[\"software\", \"applications\", \"kube\", \"node\"],\n",
      "                    inventory_attributes={\n",
      "                        \"operating_system\": \"linux\",\n",
      "                        \"os_image\": \"Ubuntu 20.04.2 LTS\",\n",
      "                        \"kernel_version\": \"5.13.0-27-generic\",\n",
      "                        \"architecture\": \"amd64\",\n",
      "                        \"container_runtime_version\": \"docker://20.10.8\",\n",
      "                        \"kubelet_version\": \"1.2.3\",\n",
      "                        \"kube_proxy_version\": \"1.2.3\",\n",
      "                    },\n",
      "                    status_attributes={},\n",
      "                ),\n",
      "                TableRow(\n",
      "                    path=[\"networking\", \"kube\"],\n",
      "                    key_columns={\"ip\": \"k8-21\"},\n",
      "                    inventory_columns={\"address_type\": \"Hostname\"},\n",
      "                    status_columns={},\n",
      "                ),\n",
      "                TableRow(\n",
      "                    path=[\"networking\", \"kube\"],\n",
      "                    key_columns={\"ip\": \"10.200.3.21\"},\n",
      "                    inventory_columns={\"address_type\": \"ExternalIP\"},\n",
      "                    status_columns={},\n",
      "                ),\n",
      "            ],\n",
      "            id=\"overall look of node inventory\",\n",
      "        ),\n",
      "    ],\n",
      ")\n",
      "def test_inventory_kube_node(\n",
      "    __tmp1: <FILL>,\n",
      "    __tmp2,\n",
      "    expected_check_result: Sequence[TableRow | Attributes],\n",
      ") -> None:\n",
      "    assert sort_inventory_result(\n",
      "        inventory_kube_node(__tmp1, __tmp2)\n",
      "    ) == sort_inventory_result(expected_check_result)\n",
      "\n",
      "\n",
      "def __tmp0(mocker: MockerFixture) -> None:\n",
      "    \"\"\"Test coverage and uniform look across inventories relies on the inventories calling\n",
      "    labels_to_table.\"\"\"\n",
      "\n",
      "    class __typ0(ModelFactory):\n",
      "        __model__ = NodeInfo\n",
      "\n",
      "    __tmp1 = __typ0.build()\n",
      "\n",
      "    class __typ1(ModelFactory):\n",
      "        __model__ = KubeletInfo\n",
      "\n",
      "    __tmp2 = __typ1.build()\n",
      "\n",
      "    mock = mocker.patch(\"cmk.base.plugins.agent_based.inventory_kube_node.labels_to_table\")\n",
      "    list(inventory_kube_node(__tmp1, __tmp2))\n",
      "    mock.assert_called_once()\n",
      "\n"
     ]
    }
   ],
   "source": [
    "print(ds[2][\"fim_program\"])"
   ]
  },
  {
   "cell_type": "code",
   "execution_count": null,
   "metadata": {},
   "outputs": [],
   "source": []
  }
 ],
 "metadata": {
  "kernelspec": {
   "display_name": "GPU_Codetrace",
   "language": "python",
   "name": "python3"
  },
  "language_info": {
   "codemirror_mode": {
    "name": "ipython",
    "version": 3
   },
   "file_extension": ".py",
   "mimetype": "text/x-python",
   "name": "python",
   "nbconvert_exporter": "python",
   "pygments_lexer": "ipython3",
   "version": "3.10.12"
  }
 },
 "nbformat": 4,
 "nbformat_minor": 2
}
