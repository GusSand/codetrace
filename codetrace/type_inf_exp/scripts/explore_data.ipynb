{
 "cells": [
  {
   "cell_type": "code",
   "execution_count": 1,
   "metadata": {},
   "outputs": [],
   "source": [
    "import datasets\n",
    "datasets.disable_caching()"
   ]
  },
  {
   "cell_type": "code",
   "execution_count": 2,
   "metadata": {},
   "outputs": [],
   "source": [
    "ds = datasets.load_dataset(\"franlucc/py_rename_types_v3_starcoderbase-1b\", split=\"train\")"
   ]
  },
  {
   "cell_type": "code",
   "execution_count": 4,
   "metadata": {},
   "outputs": [
    {
     "data": {
      "text/plain": [
       "Dataset({\n",
       "    features: ['mutated_program', 'mutations', 'key', 'prefix', 'suffix', 'middle', 'correct', 'model', 'fim_type', 'fim_program', 'hexsha', 'mutated_generated_text'],\n",
       "    num_rows: 1421\n",
       "})"
      ]
     },
     "execution_count": 4,
     "metadata": {},
     "output_type": "execute_result"
    }
   ],
   "source": [
    "ds"
   ]
  },
  {
   "cell_type": "code",
   "execution_count": 6,
   "metadata": {},
   "outputs": [],
   "source": [
    "ds0 = datasets.load_dataset(\"franlucc/py_rename_types_v3_seed0_starcoderbase-1b\", split=\"train\")"
   ]
  },
  {
   "cell_type": "code",
   "execution_count": 7,
   "metadata": {},
   "outputs": [
    {
     "data": {
      "text/plain": [
       "Dataset({\n",
       "    features: ['mutated_program', 'mutations', 'key', 'prefix', 'suffix', 'middle', 'correct', 'model', 'fim_type', 'fim_program', 'hexsha', 'mutated_generated_text'],\n",
       "    num_rows: 1494\n",
       "})"
      ]
     },
     "execution_count": 7,
     "metadata": {},
     "output_type": "execute_result"
    }
   ],
   "source": [
    "ds0"
   ]
  },
  {
   "cell_type": "code",
   "execution_count": 8,
   "metadata": {},
   "outputs": [],
   "source": [
    "ds_concat = datasets.concatenate_datasets([ds, ds0])"
   ]
  },
  {
   "cell_type": "code",
   "execution_count": 19,
   "metadata": {},
   "outputs": [],
   "source": [
    "def filter_dupes(ds):\n",
    "    seen = set()\n",
    "    ds_dedup = []\n",
    "    for example in ds:\n",
    "        if example[\"mutated_program\"] not in seen:\n",
    "            seen.add(example[\"mutated_program\"])\n",
    "            ds_dedup.append(example)\n",
    "    return datasets.Dataset.from_pandas(pd.DataFrame(ds_dedup))\n",
    "\n",
    "ds_dedup = filter_dupes(ds_concat)"
   ]
  },
  {
   "cell_type": "code",
   "execution_count": 21,
   "metadata": {},
   "outputs": [
    {
     "data": {
      "text/plain": [
       "Dataset({\n",
       "    features: ['mutated_program', 'mutations', 'key', 'prefix', 'suffix', 'middle', 'correct', 'model', 'fim_type', 'fim_program', 'hexsha', 'mutated_generated_text'],\n",
       "    num_rows: 2280\n",
       "})"
      ]
     },
     "execution_count": 21,
     "metadata": {},
     "output_type": "execute_result"
    }
   ],
   "source": [
    "ds_dedup\n"
   ]
  },
  {
   "cell_type": "code",
   "execution_count": 22,
   "metadata": {},
   "outputs": [
    {
     "data": {
      "text/plain": [
       "{'mutated_program': 'from abc import ABCMeta, abstractmethod\\nfrom typing import Generic, TypeVar, Any, List\\n__typ0 = Any\\n\\n\\n\\n__typ2 = TypeVar(\\'N\\')\\nE = TypeVar(\\'E\\')\\n\\n\\nclass __typ1(Generic[__typ2, E], metaclass=ABCMeta):\\n    @abstractmethod\\n    def save(self, node: __typ2) -> None:\\n        \"\"\" ads a node to the graph\\n                Args:\\n                    node (N): The node entity\\n                Returns:\\n                    None\\n        \"\"\"\\n        pass\\n\\n    @abstractmethod\\n    def find_all_nodes(self) -> List[__typ2]:\\n        \"\"\" returns a list of nodes\\n                Returns:\\n                    List[N] list of nodes\\n        \"\"\"\\n        pass\\n\\n    @abstractmethod\\n    def add_edge(self, edge: <FILL>) -> None:\\n        \"\"\" ads an edge\\n                Args:\\n                    source: source node\\n                    destination: destination node\\n                    cost: cost of distance\\n                Returns:\\n                    None\\n                \"\"\"\\n        pass\\n\\n    @abstractmethod\\n    def find_by_id(self, id: str) -> __typ2:\\n        \"\"\" finds a node by id\\n                Args:\\n                    id: Node id\\n                Returns:\\n                    N\\n                Raises:\\n                    EntityNotFoundException\\n        \"\"\"\\n        pass\\n\\n    @abstractmethod\\n    def find_shortest_path(self, source: __typ2, destination: __typ2) -> __typ0:\\n        \"\"\" finds the shortest path\\n                Args:\\n                    source: Source node\\n                    destination: Destination node\\n                Returns:\\n                    Any should be shortest path object\\n        \"\"\"\\n',\n",
       " 'mutations': ['mutation_rename_type'],\n",
       " 'key': 'archives/0mars_graphx.zip/packages/graphx/src/graphx/core/data_providers/data_provider.py',\n",
       " 'prefix': 'from abc import ABCMeta, abstractmethod\\nfrom typing import Generic, TypeVar, Any, List\\n\\nN = TypeVar(\\'N\\')\\nE = TypeVar(\\'E\\')\\n\\n\\nclass DataProvider(Generic[N, E], metaclass=ABCMeta):\\n    @abstractmethod\\n    def save(self, node: N) -> None:\\n        \"\"\" ads a node to the graph\\n                Args:\\n                    node (N): The node entity\\n                Returns:\\n                    None\\n        \"\"\"\\n        pass\\n\\n    @abstractmethod\\n    def find_all_nodes(self) -> List[N]:\\n        \"\"\" returns a list of nodes\\n                Returns:\\n                    List[N] list of nodes\\n        \"\"\"\\n        pass\\n\\n    @abstractmethod\\n    def add_edge(self, edge: ',\n",
       " 'suffix': ') -> None:\\n        \"\"\" ads an edge\\n                Args:\\n                    source: source node\\n                    destination: destination node\\n                    cost: cost of distance\\n                Returns:\\n                    None\\n                \"\"\"\\n        pass\\n\\n    @abstractmethod\\n    def find_by_id(self, id: str) -> N:\\n        \"\"\" finds a node by id\\n                Args:\\n                    id: Node id\\n                Returns:\\n                    N\\n                Raises:\\n                    EntityNotFoundException\\n        \"\"\"\\n        pass\\n\\n    @abstractmethod\\n    def find_shortest_path(self, source: N, destination: N) -> Any:\\n        \"\"\" finds the shortest path\\n                Args:\\n                    source: Source node\\n                    destination: Destination node\\n                Returns:\\n                    Any should be shortest path object\\n        \"\"\"\\n',\n",
       " 'middle': 'E',\n",
       " 'correct': True,\n",
       " 'model': '/work/arjunguha-research-group/arjun/models/starcoderbase-1b',\n",
       " 'fim_type': 'E',\n",
       " 'fim_program': 'from abc import ABCMeta, abstractmethod\\nfrom typing import Generic, TypeVar, Any, List\\n\\nN = TypeVar(\\'N\\')\\nE = TypeVar(\\'E\\')\\n\\n\\nclass DataProvider(Generic[N, E], metaclass=ABCMeta):\\n    @abstractmethod\\n    def save(self, node: N) -> None:\\n        \"\"\" ads a node to the graph\\n                Args:\\n                    node (N): The node entity\\n                Returns:\\n                    None\\n        \"\"\"\\n        pass\\n\\n    @abstractmethod\\n    def find_all_nodes(self) -> List[N]:\\n        \"\"\" returns a list of nodes\\n                Returns:\\n                    List[N] list of nodes\\n        \"\"\"\\n        pass\\n\\n    @abstractmethod\\n    def add_edge(self, edge: <FILL>) -> None:\\n        \"\"\" ads an edge\\n                Args:\\n                    source: source node\\n                    destination: destination node\\n                    cost: cost of distance\\n                Returns:\\n                    None\\n                \"\"\"\\n        pass\\n\\n    @abstractmethod\\n    def find_by_id(self, id: str) -> N:\\n        \"\"\" finds a node by id\\n                Args:\\n                    id: Node id\\n                Returns:\\n                    N\\n                Raises:\\n                    EntityNotFoundException\\n        \"\"\"\\n        pass\\n\\n    @abstractmethod\\n    def find_shortest_path(self, source: N, destination: N) -> Any:\\n        \"\"\" finds the shortest path\\n                Args:\\n                    source: Source node\\n                    destination: Destination node\\n                Returns:\\n                    Any should be shortest path object\\n        \"\"\"\\n',\n",
       " 'hexsha': 'archives/0mars_graphx.zip/packages/graphx/src/graphx/core/data_providers/data_provider.py',\n",
       " 'mutated_generated_text': '__'}"
      ]
     },
     "execution_count": 22,
     "metadata": {},
     "output_type": "execute_result"
    }
   ],
   "source": [
    "ds_dedup[0]"
   ]
  },
  {
   "cell_type": "code",
   "execution_count": null,
   "metadata": {},
   "outputs": [],
   "source": []
  }
 ],
 "metadata": {
  "kernelspec": {
   "display_name": "GPU_Codetrace",
   "language": "python",
   "name": "python3"
  },
  "language_info": {
   "codemirror_mode": {
    "name": "ipython",
    "version": 3
   },
   "file_extension": ".py",
   "mimetype": "text/x-python",
   "name": "python",
   "nbconvert_exporter": "python",
   "pygments_lexer": "ipython3",
   "version": "3.10.12"
  }
 },
 "nbformat": 4,
 "nbformat_minor": 2
}
