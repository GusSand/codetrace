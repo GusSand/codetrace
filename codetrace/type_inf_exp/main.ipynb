{
 "cells": [
  {
   "cell_type": "code",
   "execution_count": 1,
   "metadata": {},
   "outputs": [],
   "source": [
    "%load_ext autoreload\n",
    "%autoreload 2"
   ]
  },
  {
   "cell_type": "code",
   "execution_count": 2,
   "metadata": {},
   "outputs": [],
   "source": [
    "import datasets\n",
    "from codetrace.type_inf_exp.build_dataset import *\n",
    "import json"
   ]
  },
  {
   "cell_type": "code",
   "execution_count": 20,
   "metadata": {},
   "outputs": [
    {
     "data": {
      "text/plain": [
       "['variation', 'a']"
      ]
     },
     "execution_count": 20,
     "metadata": {},
     "output_type": "execute_result"
    }
   ],
   "source": [
    "from transformers import AutoTokenizer\n",
    "\n",
    "tokenizer = AutoTokenizer.from_pretrained(\"/home/arjun/models/starcoderbase-1b\")"
   ]
  },
  {
   "cell_type": "code",
   "execution_count": 5,
   "metadata": {},
   "outputs": [],
   "source": [
    "comp_ds = datasets.load_dataset(\"franlucc/ts_bench_starcoder1b_funcfim_incorrect_uniq_v1\", split=\"train\")"
   ]
  },
  {
   "cell_type": "code",
   "execution_count": 6,
   "metadata": {},
   "outputs": [
    {
     "data": {
      "text/plain": [
       "{'generated_text': '0',\n",
       " 'fim_sol': '1',\n",
       " 'success': False,\n",
       " 'prompt': '<fim_prefix>declare var require: any;\\nconst assert = require(\"node:assert\");\\ntype _uniq_0 = { kind: \"Ctor2\" } | { kind: \"Ctor3\" };\\ntype _uniq_1 =\\n  | { kind: \"Ctor4\"; f0: _uniq_0 }\\n  | { kind: \"Ctor5\"; f0: _uniq_1 }\\n  | { kind: \"Ctor6\"; f0: _uniq_1; f1: _uniq_1 }\\n  | { kind: \"Ctor7\"; f0: _uniq_1; f1: _uniq_1 }\\n  | { kind: \"Ctor8\"; f0: _uniq_1; f1: _uniq_1 };\\n\\nfunction _uniq_9(_uniq_13: _uniq_0): _uniq_0 {\\n  switch (_uniq_13.kind) {\\n    case \"Ctor2\": {\\n      return { kind: \"Ctor3\" };\\n    }\\n    case \"Ctor3\": {\\n      return { kind: \"Ctor2\" };\\n    }\\n  }\\n}\\nfunction _uniq_10(_uniq_14: _uniq_0): (_uniq_15: _uniq_0) => _uniq_0 {\\n  return function (_uniq_15: _uniq_0) {\\n    switch (_uniq_15.kind) {\\n      case \"Ctor2\": {\\n        return _uniq_14;\\n      }\\n      case \"Ctor3\": {\\n        return { kind: \"Ctor3\" };\\n      }\\n    }\\n  };\\n}\\nfunction _uniq_11(_uniq_16: _uniq_0): (_uniq_17: _uniq_0) => _uniq_0 {\\n  return function (_uniq_17: _uniq_0) {\\n    switch (_uniq_16.kind) {\\n      case \"Ctor2\": {\\n        return { kind: \"Ctor2\" };\\n      }\\n      case \"Ctor3\": {\\n        return _uniq_17;\\n      }\\n    }\\n  };\\n}\\n\\nfunction _uniq_12(_uniq_18: _uniq_<fim_suffix>): _uniq_0 {\\n  switch (_uniq_18.kind) {\\n    case \"Ctor4\": {\\n      let _uniq_19 = _uniq_18.f0;\\n      return _uniq_19;\\n    }\\n    case \"Ctor5\": {\\n      let _uniq_20 = _uniq_18.f0;\\n      return _uniq_9(_uniq_12(_uniq_20));\\n    }\\n    case \"Ctor6\": {\\n      let _uniq_22 = _uniq_18.f1;\\n      let _uniq_21 = _uniq_18.f0;\\n      return _uniq_10(_uniq_12(_uniq_21))(_uniq_12(_uniq_22));\\n    }\\n    case \"Ctor7\": {\\n      let _uniq_24 = _uniq_18.f1;\\n      let _uniq_23 = _uniq_18.f0;\\n      return _uniq_11(_uniq_12(_uniq_23))(_uniq_12(_uniq_24));\\n    }\\n    case \"Ctor8\": {\\n      let _uniq_26 = _uniq_18.f1;\\n      let _uniq_25 = _uniq_18.f0;\\n      return _uniq_11(_uniq_9(_uniq_12(_uniq_25)))(_uniq_12(_uniq_26));\\n    }\\n  }\\n}\\n\\nfunction assertions() {\\n  assert.deepEqual(_uniq_12({ kind: \"Ctor4\", f0: { kind: \"Ctor2\" } }), {\\n    kind: \"Ctor2\",\\n  });\\n  assert.deepEqual(_uniq_12({ kind: \"Ctor4\", f0: { kind: \"Ctor3\" } }), {\\n    kind: \"Ctor3\",\\n  });\\n  assert.deepEqual(\\n    _uniq_12({ kind: \"Ctor5\", f0: { kind: \"Ctor4\", f0: { kind: \"Ctor2\" } } }),\\n    { kind: \"Ctor3\" }\\n  );\\n  assert.deepEqual(\\n    _uniq_12({ kind: \"Ctor5\", f0: { kind: \"Ctor4\", f0: { kind: \"Ctor3\" } } }),\\n    { kind: \"Ctor2\" }\\n  );\\n  assert.deepEqual(\\n    _uniq_12({\\n      kind: \"Ctor6\",\\n      f0: { kind: \"Ctor4\", f0: { kind: \"Ctor2\" } },\\n      f1: { kind: \"Ctor4\", f0: { kind: \"Ctor3\" } },\\n    }),\\n    { kind: \"Ctor3\" }\\n  );\\n  assert.deepEqual(\\n    _uniq_12({\\n      kind: \"Ctor6\",\\n      f0: { kind: \"Ctor4\", f0: { kind: \"Ctor2\" } },\\n      f1: { kind: \"Ctor4\", f0: { kind: \"Ctor2\" } },\\n    }),\\n    { kind: \"Ctor2\" }\\n  );\\n  assert.deepEqual(\\n    _uniq_12({\\n      kind: \"Ctor6\",\\n      f0: { kind: \"Ctor4\", f0: { kind: \"Ctor3\" } },\\n      f1: { kind: \"Ctor4\", f0: { kind: \"Ctor2\" } },\\n    }),\\n    { kind: \"Ctor3\" }\\n  );\\n  assert.deepEqual(\\n    _uniq_12({\\n      kind: \"Ctor7\",\\n      f0: { kind: \"Ctor4\", f0: { kind: \"Ctor2\" } },\\n      f1: { kind: \"Ctor4\", f0: { kind: \"Ctor3\" } },\\n    }),\\n    { kind: \"Ctor2\" }\\n  );\\n  assert.deepEqual(\\n    _uniq_12({\\n      kind: \"Ctor7\",\\n      f0: { kind: \"Ctor4\", f0: { kind: \"Ctor3\" } },\\n      f1: { kind: \"Ctor4\", f0: { kind: \"Ctor3\" } },\\n    }),\\n    { kind: \"Ctor3\" }\\n  );\\n  assert.deepEqual(\\n    _uniq_12({\\n      kind: \"Ctor7\",\\n      f0: { kind: \"Ctor4\", f0: { kind: \"Ctor3\" } },\\n      f1: { kind: \"Ctor4\", f0: { kind: \"Ctor2\" } },\\n    }),\\n    { kind: \"Ctor2\" }\\n  );\\n  assert.deepEqual(\\n    _uniq_12({\\n      kind: \"Ctor8\",\\n      f0: { kind: \"Ctor4\", f0: { kind: \"Ctor2\" } },\\n      f1: { kind: \"Ctor4\", f0: { kind: \"Ctor3\" } },\\n    }),\\n    { kind: \"Ctor3\" }\\n  );\\n  assert.deepEqual(\\n    _uniq_12({\\n      kind: \"Ctor8\",\\n      f0: { kind: \"Ctor4\", f0: { kind: \"Ctor3\" } },\\n      f1: { kind: \"Ctor4\", f0: { kind: \"Ctor3\" } },\\n    }),\\n    { kind: \"Ctor2\" }\\n  );\\n  assert.deepEqual(\\n    _uniq_12({\\n      kind: \"Ctor8\",\\n      f0: { kind: \"Ctor4\", f0: { kind: \"Ctor3\" } },\\n      f1: { kind: \"Ctor4\", f0: { kind: \"Ctor2\" } },\\n    }),\\n    { kind: \"Ctor2\" }\\n  );\\n  assert.deepEqual(\\n    _uniq_12({\\n      kind: \"Ctor8\",\\n      f0: { kind: \"Ctor4\", f0: { kind: \"Ctor2\" } },\\n      f1: { kind: \"Ctor4\", f0: { kind: \"Ctor2\" } },\\n    }),\\n    { kind: \"Ctor2\" }\\n  );\\n}\\nassertions();\\n\\nfunction validations() {\\n  assert.deepEqual(\\n    _uniq_12({\\n      kind: \"Ctor8\",\\n      f0: { kind: \"Ctor4\", f0: { kind: \"Ctor2\" } },\\n      f1: {\\n        kind: \"Ctor6\",\\n        f0: { kind: \"Ctor4\", f0: { kind: \"Ctor2\" } },\\n        f1: { kind: \"Ctor4\", f0: { kind: \"Ctor3\" } },\\n      },\\n    }),\\n    { kind: \"Ctor3\" }\\n  );\\n  assert.deepEqual(\\n    _uniq_12({\\n      kind: \"Ctor8\",\\n      f0: {\\n        kind: \"Ctor7\",\\n        f0: { kind: \"Ctor4\", f0: { kind: \"Ctor2\" } },\\n        f1: { kind: \"Ctor4\", f0: { kind: \"Ctor3\" } },\\n      },\\n      f1: { kind: \"Ctor4\", f0: { kind: \"Ctor2\" } },\\n    }),\\n    { kind: \"Ctor2\" }\\n  );\\n  assert.deepEqual(\\n    _uniq_12({\\n      kind: \"Ctor8\",\\n      f0: {\\n        kind: \"Ctor7\",\\n        f0: { kind: \"Ctor4\", f0: { kind: \"Ctor2\" } },\\n        f1: { kind: \"Ctor4\", f0: { kind: \"Ctor3\" } },\\n      },\\n      f1: {\\n        kind: \"Ctor7\",\\n        f0: { kind: \"Ctor4\", f0: { kind: \"Ctor2\" } },\\n        f1: { kind: \"Ctor4\", f0: { kind: \"Ctor3\" } },\\n      },\\n    }),\\n    { kind: \"Ctor2\" }\\n  );\\n}\\nvalidations();\\n<fim_middle>',\n",
       " 'fim_prog': 'declare var require: any;\\nconst assert = require(\"node:assert\");\\ntype _uniq_0 = { kind: \"Ctor2\" } | { kind: \"Ctor3\" };\\ntype _uniq_1 =\\n  | { kind: \"Ctor4\"; f0: _uniq_0 }\\n  | { kind: \"Ctor5\"; f0: _uniq_1 }\\n  | { kind: \"Ctor6\"; f0: _uniq_1; f1: _uniq_1 }\\n  | { kind: \"Ctor7\"; f0: _uniq_1; f1: _uniq_1 }\\n  | { kind: \"Ctor8\"; f0: _uniq_1; f1: _uniq_1 };\\n\\nfunction _uniq_9(_uniq_13: _uniq_0): _uniq_0 {\\n  switch (_uniq_13.kind) {\\n    case \"Ctor2\": {\\n      return { kind: \"Ctor3\" };\\n    }\\n    case \"Ctor3\": {\\n      return { kind: \"Ctor2\" };\\n    }\\n  }\\n}\\nfunction _uniq_10(_uniq_14: _uniq_0): (_uniq_15: _uniq_0) => _uniq_0 {\\n  return function (_uniq_15: _uniq_0) {\\n    switch (_uniq_15.kind) {\\n      case \"Ctor2\": {\\n        return _uniq_14;\\n      }\\n      case \"Ctor3\": {\\n        return { kind: \"Ctor3\" };\\n      }\\n    }\\n  };\\n}\\nfunction _uniq_11(_uniq_16: _uniq_0): (_uniq_17: _uniq_0) => _uniq_0 {\\n  return function (_uniq_17: _uniq_0) {\\n    switch (_uniq_16.kind) {\\n      case \"Ctor2\": {\\n        return { kind: \"Ctor2\" };\\n      }\\n      case \"Ctor3\": {\\n        return _uniq_17;\\n      }\\n    }\\n  };\\n}\\n\\nfunction _uniq_12(_uniq_18: _uniq_<FILL>): _uniq_0 {\\n  switch (_uniq_18.kind) {\\n    case \"Ctor4\": {\\n      let _uniq_19 = _uniq_18.f0;\\n      return _uniq_19;\\n    }\\n    case \"Ctor5\": {\\n      let _uniq_20 = _uniq_18.f0;\\n      return _uniq_9(_uniq_12(_uniq_20));\\n    }\\n    case \"Ctor6\": {\\n      let _uniq_22 = _uniq_18.f1;\\n      let _uniq_21 = _uniq_18.f0;\\n      return _uniq_10(_uniq_12(_uniq_21))(_uniq_12(_uniq_22));\\n    }\\n    case \"Ctor7\": {\\n      let _uniq_24 = _uniq_18.f1;\\n      let _uniq_23 = _uniq_18.f0;\\n      return _uniq_11(_uniq_12(_uniq_23))(_uniq_12(_uniq_24));\\n    }\\n    case \"Ctor8\": {\\n      let _uniq_26 = _uniq_18.f1;\\n      let _uniq_25 = _uniq_18.f0;\\n      return _uniq_11(_uniq_9(_uniq_12(_uniq_25)))(_uniq_12(_uniq_26));\\n    }\\n  }\\n}\\n\\nfunction assertions() {\\n  assert.deepEqual(_uniq_12({ kind: \"Ctor4\", f0: { kind: \"Ctor2\" } }), {\\n    kind: \"Ctor2\",\\n  });\\n  assert.deepEqual(_uniq_12({ kind: \"Ctor4\", f0: { kind: \"Ctor3\" } }), {\\n    kind: \"Ctor3\",\\n  });\\n  assert.deepEqual(\\n    _uniq_12({ kind: \"Ctor5\", f0: { kind: \"Ctor4\", f0: { kind: \"Ctor2\" } } }),\\n    { kind: \"Ctor3\" }\\n  );\\n  assert.deepEqual(\\n    _uniq_12({ kind: \"Ctor5\", f0: { kind: \"Ctor4\", f0: { kind: \"Ctor3\" } } }),\\n    { kind: \"Ctor2\" }\\n  );\\n  assert.deepEqual(\\n    _uniq_12({\\n      kind: \"Ctor6\",\\n      f0: { kind: \"Ctor4\", f0: { kind: \"Ctor2\" } },\\n      f1: { kind: \"Ctor4\", f0: { kind: \"Ctor3\" } },\\n    }),\\n    { kind: \"Ctor3\" }\\n  );\\n  assert.deepEqual(\\n    _uniq_12({\\n      kind: \"Ctor6\",\\n      f0: { kind: \"Ctor4\", f0: { kind: \"Ctor2\" } },\\n      f1: { kind: \"Ctor4\", f0: { kind: \"Ctor2\" } },\\n    }),\\n    { kind: \"Ctor2\" }\\n  );\\n  assert.deepEqual(\\n    _uniq_12({\\n      kind: \"Ctor6\",\\n      f0: { kind: \"Ctor4\", f0: { kind: \"Ctor3\" } },\\n      f1: { kind: \"Ctor4\", f0: { kind: \"Ctor2\" } },\\n    }),\\n    { kind: \"Ctor3\" }\\n  );\\n  assert.deepEqual(\\n    _uniq_12({\\n      kind: \"Ctor7\",\\n      f0: { kind: \"Ctor4\", f0: { kind: \"Ctor2\" } },\\n      f1: { kind: \"Ctor4\", f0: { kind: \"Ctor3\" } },\\n    }),\\n    { kind: \"Ctor2\" }\\n  );\\n  assert.deepEqual(\\n    _uniq_12({\\n      kind: \"Ctor7\",\\n      f0: { kind: \"Ctor4\", f0: { kind: \"Ctor3\" } },\\n      f1: { kind: \"Ctor4\", f0: { kind: \"Ctor3\" } },\\n    }),\\n    { kind: \"Ctor3\" }\\n  );\\n  assert.deepEqual(\\n    _uniq_12({\\n      kind: \"Ctor7\",\\n      f0: { kind: \"Ctor4\", f0: { kind: \"Ctor3\" } },\\n      f1: { kind: \"Ctor4\", f0: { kind: \"Ctor2\" } },\\n    }),\\n    { kind: \"Ctor2\" }\\n  );\\n  assert.deepEqual(\\n    _uniq_12({\\n      kind: \"Ctor8\",\\n      f0: { kind: \"Ctor4\", f0: { kind: \"Ctor2\" } },\\n      f1: { kind: \"Ctor4\", f0: { kind: \"Ctor3\" } },\\n    }),\\n    { kind: \"Ctor3\" }\\n  );\\n  assert.deepEqual(\\n    _uniq_12({\\n      kind: \"Ctor8\",\\n      f0: { kind: \"Ctor4\", f0: { kind: \"Ctor3\" } },\\n      f1: { kind: \"Ctor4\", f0: { kind: \"Ctor3\" } },\\n    }),\\n    { kind: \"Ctor2\" }\\n  );\\n  assert.deepEqual(\\n    _uniq_12({\\n      kind: \"Ctor8\",\\n      f0: { kind: \"Ctor4\", f0: { kind: \"Ctor3\" } },\\n      f1: { kind: \"Ctor4\", f0: { kind: \"Ctor2\" } },\\n    }),\\n    { kind: \"Ctor2\" }\\n  );\\n  assert.deepEqual(\\n    _uniq_12({\\n      kind: \"Ctor8\",\\n      f0: { kind: \"Ctor4\", f0: { kind: \"Ctor2\" } },\\n      f1: { kind: \"Ctor4\", f0: { kind: \"Ctor2\" } },\\n    }),\\n    { kind: \"Ctor2\" }\\n  );\\n}\\nassertions();\\n\\nfunction validations() {\\n  assert.deepEqual(\\n    _uniq_12({\\n      kind: \"Ctor8\",\\n      f0: { kind: \"Ctor4\", f0: { kind: \"Ctor2\" } },\\n      f1: {\\n        kind: \"Ctor6\",\\n        f0: { kind: \"Ctor4\", f0: { kind: \"Ctor2\" } },\\n        f1: { kind: \"Ctor4\", f0: { kind: \"Ctor3\" } },\\n      },\\n    }),\\n    { kind: \"Ctor3\" }\\n  );\\n  assert.deepEqual(\\n    _uniq_12({\\n      kind: \"Ctor8\",\\n      f0: {\\n        kind: \"Ctor7\",\\n        f0: { kind: \"Ctor4\", f0: { kind: \"Ctor2\" } },\\n        f1: { kind: \"Ctor4\", f0: { kind: \"Ctor3\" } },\\n      },\\n      f1: { kind: \"Ctor4\", f0: { kind: \"Ctor2\" } },\\n    }),\\n    { kind: \"Ctor2\" }\\n  );\\n  assert.deepEqual(\\n    _uniq_12({\\n      kind: \"Ctor8\",\\n      f0: {\\n        kind: \"Ctor7\",\\n        f0: { kind: \"Ctor4\", f0: { kind: \"Ctor2\" } },\\n        f1: { kind: \"Ctor4\", f0: { kind: \"Ctor3\" } },\\n      },\\n      f1: {\\n        kind: \"Ctor7\",\\n        f0: { kind: \"Ctor4\", f0: { kind: \"Ctor2\" } },\\n        f1: { kind: \"Ctor4\", f0: { kind: \"Ctor3\" } },\\n      },\\n    }),\\n    { kind: \"Ctor2\" }\\n  );\\n}\\nvalidations();\\n',\n",
       " 'progname': 'ts-benchmark/curried_renamed/expr_boolean_eval.ts',\n",
       " 'fim_var': 10,\n",
       " 'max_tokens_out': 16,\n",
       " 'model': 'starcoderbase-1b',\n",
       " 'progdir': 'ts-benchmark/curried_renamed'}"
      ]
     },
     "execution_count": 6,
     "metadata": {},
     "output_type": "execute_result"
    }
   ],
   "source": [
    "comp_ds[0]"
   ]
  },
  {
   "cell_type": "code",
   "execution_count": 6,
   "metadata": {},
   "outputs": [],
   "source": [
    "programs = []\n",
    "for ex in comp_ds:\n",
    "    prompt = ex[\"prompt\"]\n",
    "    placeholder_prompt = std_to_placeholder_fmt(prompt, STARCODER_FIM)\n",
    "    prog = placeholder_prompt.replace(\"<FILL>\", ex[\"generated\"].strip())\n",
    "    programs.append(prog)"
   ]
  },
  {
   "cell_type": "code",
   "execution_count": 10,
   "metadata": {},
   "outputs": [],
   "source": [
    "for i,p in enumerate(programs):\n",
    "    with open(f\"exp_data/programs/program_{i}.ts\", \"w\") as f:\n",
    "        f.write(p)"
   ]
  },
  {
   "cell_type": "code",
   "execution_count": 4,
   "metadata": {},
   "outputs": [],
   "source": [
    "incorrect = comp_ds.filter(lambda x: x[\"correctness\"] == \"incorrect\")\n",
    "correct = comp_ds.filter(lambda x: x[\"correctness\"] == \"correct\")\n",
    "correct_number = correct.filter(lambda x: x[\"solution\"] == \"number\")"
   ]
  },
  {
   "cell_type": "code",
   "execution_count": 5,
   "metadata": {},
   "outputs": [
    {
     "data": {
      "text/plain": [
       "(Dataset({\n",
       "     features: ['generated', 'solution', 'hexsha', 'prompt', 'correctness', 'id'],\n",
       "     num_rows: 1220\n",
       " }),\n",
       " Dataset({\n",
       "     features: ['generated', 'solution', 'hexsha', 'prompt', 'correctness', 'id'],\n",
       "     num_rows: 3311\n",
       " }),\n",
       " Dataset({\n",
       "     features: ['generated', 'solution', 'hexsha', 'prompt', 'correctness', 'id'],\n",
       "     num_rows: 697\n",
       " }))"
      ]
     },
     "execution_count": 5,
     "metadata": {},
     "output_type": "execute_result"
    }
   ],
   "source": [
    "incorrect, correct, correct_number"
   ]
  },
  {
   "cell_type": "code",
   "execution_count": 6,
   "metadata": {},
   "outputs": [
    {
     "data": {
      "text/plain": [
       "GPTBigCodeForCausalLM(\n",
       "  (transformer): GPTBigCodeModel(\n",
       "    (wte): Embedding(49152, 2816)\n",
       "    (wpe): Embedding(8192, 2816)\n",
       "    (drop): Dropout(p=0.1, inplace=False)\n",
       "    (h): ModuleList(\n",
       "      (0-35): 36 x GPTBigCodeBlock(\n",
       "        (ln_1): LayerNorm((2816,), eps=1e-05, elementwise_affine=True)\n",
       "        (attn): GPTBigCodeSdpaAttention(\n",
       "          (c_attn): Linear(in_features=2816, out_features=3072, bias=True)\n",
       "          (c_proj): Linear(in_features=2816, out_features=2816, bias=True)\n",
       "          (attn_dropout): Dropout(p=0.1, inplace=False)\n",
       "          (resid_dropout): Dropout(p=0.1, inplace=False)\n",
       "        )\n",
       "        (ln_2): LayerNorm((2816,), eps=1e-05, elementwise_affine=True)\n",
       "        (mlp): GPTBigCodeMLP(\n",
       "          (c_fc): Linear(in_features=2816, out_features=11264, bias=True)\n",
       "          (c_proj): Linear(in_features=11264, out_features=2816, bias=True)\n",
       "          (act): PytorchGELUTanh()\n",
       "          (dropout): Dropout(p=0.1, inplace=False)\n",
       "        )\n",
       "      )\n",
       "    )\n",
       "    (ln_f): LayerNorm((2816,), eps=1e-05, elementwise_affine=True)\n",
       "  )\n",
       "  (lm_head): Linear(in_features=2816, out_features=49152, bias=False)\n",
       ")"
      ]
     },
     "execution_count": 6,
     "metadata": {},
     "output_type": "execute_result"
    }
   ],
   "source": [
    "model = \"/home/arjun/models/starcoderbase-3b\"\n",
    "model = LanguageModel(model, device_map=\"cuda:3\")\n",
    "model"
   ]
  },
  {
   "cell_type": "markdown",
   "metadata": {},
   "source": [
    "## patching on type inf data"
   ]
  },
  {
   "cell_type": "code",
   "execution_count": 8,
   "metadata": {},
   "outputs": [
    {
     "name": "stderr",
     "output_type": "stream",
     "text": [
      "  0%|          | 0/4 [00:00<?, ?it/s]"
     ]
    },
    {
     "name": "stderr",
     "output_type": "stream",
     "text": [
      "100%|██████████| 4/4 [00:15<00:00,  3.86s/it]\n"
     ]
    },
    {
     "data": {
      "image/png": "[encoded data removed]",
      "text/plain": [
       "<Figure size 1000x1000 with 2 Axes>"
      ]
     },
     "metadata": {},
     "output_type": "display_data"
    }
   ],
   "source": [
    "k = range(3)\n",
    "cleans = [correct_number[i][\"prompt\"] for i in k]\n",
    "corrs = [incorrect[i][\"prompt\"] for i in k]\n",
    "incorrect_solns = [incorrect[i][\"solution\"] for i in k]\n",
    "correct_solns = [correct_number[i][\"solution\"] for i in k]\n",
    "annotations = list(zip(correct_solns, incorrect_solns))\n",
    "\n",
    "patch_l = [17,18,20,22]\n",
    "trace_results = []\n",
    "for l in tqdm(patch_l):\n",
    "    trace_res = patch_clean_to_corrupt(model, cleans, corrs, l)\n",
    "    trace_results.append(trace_res)\n",
    "\n",
    "patched_heatmap_prediction(model, cleans,corrs, trace_results, patch_l, \n",
    "                           figtitle=\"Top token prediction after patching\", \n",
    "                           bbox_to_anchor=(1,-0.2), \n",
    "                           annotations=annotations, \n",
    "                           outfile = f\"patched_3b_pred_k{'-'.join([str(a) for a in k])}_l{'-'.join([str(p) for p in patch_l])}.pdf\"\n",
    "                           )"
   ]
  },
  {
   "cell_type": "code",
   "execution_count": 51,
   "metadata": {},
   "outputs": [
    {
     "name": "stderr",
     "output_type": "stream",
     "text": [
      "100%|██████████| 2296/2296 [03:48<00:00, 10.04it/s]\n"
     ]
    }
   ],
   "source": [
    "# make a list of correct-incorrect where correct[\"solution\"]==incorrect[\"solution\"]\n",
    "correct_incorrect = []\n",
    "for c in tqdm(correct):\n",
    "    for i in incorrect:\n",
    "        if c[\"solution\"] == i[\"solution\"]:\n",
    "            correct_incorrect.append((c,i))\n",
    "\n",
    "# with open(\"../data/correct_incorrect.json\", \"w\") as f:\n",
    "#     json.dump(correct_incorrect, f)"
   ]
  },
  {
   "cell_type": "code",
   "execution_count": 8,
   "metadata": {},
   "outputs": [],
   "source": [
    "with open(\"../data/results/correct_incorrect.json\", \"r\") as f:\n",
    "    correct_incorrect = json.load(f)"
   ]
  },
  {
   "cell_type": "code",
   "execution_count": 9,
   "metadata": {},
   "outputs": [
    {
     "name": "stderr",
     "output_type": "stream",
     "text": [
      "  0%|          | 0/3 [00:00<?, ?it/s]"
     ]
    },
    {
     "data": {
      "application/vnd.jupyter.widget-view+json": {
       "model_id": "c0fc2d28243a4d7190d93e02470f81c8",
       "version_major": 2,
       "version_minor": 0
      },
      "text/plain": [
       "Loading checkpoint shards:   0%|          | 0/4 [00:00<?, ?it/s]"
      ]
     },
     "metadata": {},
     "output_type": "display_data"
    },
    {
     "name": "stderr",
     "output_type": "stream",
     "text": [
      "/home/franlucc/venvs/gpu/lib/python3.10/site-packages/torch/_utils.py:831: UserWarning: TypedStorage is deprecated. It will be removed in the future and UntypedStorage will be the only storage class. This should only matter to you if you are using storages directly.  To access UntypedStorage directly, use tensor.untyped_storage() instead of tensor.storage()\n",
      "  return self.fget.__get__(instance, owner)()\n",
      "You're using a GPT2TokenizerFast tokenizer. Please note that with a fast tokenizer, using the `__call__` method is faster than using a method to encode the text followed by a call to the `pad` method to get a padded encoding.\n",
      "100%|██████████| 3/3 [00:37<00:00, 12.47s/it]\n"
     ]
    },
    {
     "data": {
      "image/png": "[encoded data removed]",
      "text/plain": [
       "<Figure size 1000x1000 with 2 Axes>"
      ]
     },
     "metadata": {},
     "output_type": "display_data"
    }
   ],
   "source": [
    "# import random\n",
    "# seed=0\n",
    "# random.seed(seed)\n",
    "# # shuffle\n",
    "# random.shuffle(correct_incorrect)\n",
    "\n",
    "k = range(51,52)\n",
    "cleans = [correct_incorrect[i][0][\"prompt\"] for i in k]\n",
    "corrs = [correct_incorrect[i][1][\"prompt\"] for i in k]\n",
    "correct_solns = [correct_incorrect[i][0][\"solution\"] for i in k]\n",
    "incorrect_gen = [correct_incorrect[i][1][\"generated\"] for i in k]\n",
    "annotations = list(zip(correct_solns, incorrect_gen))\n",
    "\n",
    "patch_l = [22,23,24]\n",
    "trace_results = []\n",
    "for l in tqdm(patch_l):\n",
    "    trace_res = patch_clean_to_corrupt(model, cleans, corrs, l)\n",
    "    trace_results.append(trace_res)\n",
    "\n",
    "patched_heatmap_prediction(model, cleans,corrs, trace_results, patch_l, \n",
    "                           figtitle=\"Top token prediction after patching\", \n",
    "                           bbox_to_anchor=(1,-0.2), \n",
    "                           annotations=annotations, \n",
    "                           outfile=f\"match_patch_3b_{k[0]}_{k[-1]}_layers-{'-'.join(map(str, patch_l))}.pdf\"\n",
    "                           )"
   ]
  },
  {
   "cell_type": "markdown",
   "metadata": {},
   "source": [
    "## Request patching"
   ]
  },
  {
   "cell_type": "code",
   "execution_count": 7,
   "metadata": {},
   "outputs": [
    {
     "name": "stderr",
     "output_type": "stream",
     "text": [
      "Batch:   0%|          | 0/20 [00:00<?, ?it/s]"
     ]
    },
    {
     "data": {
      "application/vnd.jupyter.widget-view+json": {
       "model_id": "22b968747913488a83b033d44bc1f6a1",
       "version_major": 2,
       "version_minor": 0
      },
      "text/plain": [
       "Loading checkpoint shards:   0%|          | 0/2 [00:00<?, ?it/s]"
      ]
     },
     "metadata": {},
     "output_type": "display_data"
    },
    {
     "name": "stderr",
     "output_type": "stream",
     "text": [
      "/home/franlucc/venvs/gpu/lib/python3.10/site-packages/torch/_utils.py:831: UserWarning: TypedStorage is deprecated. It will be removed in the future and UntypedStorage will be the only storage class. This should only matter to you if you are using storages directly.  To access UntypedStorage directly, use tensor.untyped_storage() instead of tensor.storage()\n",
      "  return self.fget.__get__(instance, owner)()\n",
      "You're using a GPT2TokenizerFast tokenizer. Please note that with a fast tokenizer, using the `__call__` method is faster than using a method to encode the text followed by a call to the `pad` method to get a padded encoding.\n",
      "Batch:   0%|          | 0/20 [00:13<?, ?it/s]\n"
     ]
    },
    {
     "ename": "KeyboardInterrupt",
     "evalue": "",
     "output_type": "error",
     "traceback": [
      "\u001b[0;31m---------------------------------------------------------------------------\u001b[0m",
      "\u001b[0;31mKeyboardInterrupt\u001b[0m                         Traceback (most recent call last)",
      "Cell \u001b[0;32mIn[7], line 6\u001b[0m\n\u001b[1;32m      4\u001b[0m correct_prompts \u001b[38;5;241m=\u001b[39m [c[\u001b[38;5;124m\"\u001b[39m\u001b[38;5;124mprompt\u001b[39m\u001b[38;5;124m\"\u001b[39m] \u001b[38;5;28;01mfor\u001b[39;00m c \u001b[38;5;129;01min\u001b[39;00m correct]\n\u001b[1;32m      5\u001b[0m random\u001b[38;5;241m.\u001b[39mshuffle(correct_prompts)\n\u001b[0;32m----> 6\u001b[0m avg_tensor \u001b[38;5;241m=\u001b[39m \u001b[43mget_averages\u001b[49m\u001b[43m(\u001b[49m\u001b[43mmodel\u001b[49m\u001b[43m,\u001b[49m\u001b[43m \u001b[49m\u001b[43mcorrect_prompts\u001b[49m\u001b[43m[\u001b[49m\u001b[43m:\u001b[49m\u001b[38;5;241;43m200\u001b[39;49m\u001b[43m]\u001b[49m\u001b[43m,\u001b[49m\u001b[43m \u001b[49m\u001b[43mSTARCODER_FIM\u001b[49m\u001b[38;5;241;43m.\u001b[39;49m\u001b[43mto_list\u001b[49m\u001b[43m(\u001b[49m\u001b[43m)\u001b[49m\u001b[43m[\u001b[49m\u001b[43m:\u001b[49m\u001b[38;5;241;43m-\u001b[39;49m\u001b[38;5;241;43m1\u001b[39;49m\u001b[43m]\u001b[49m\u001b[43m,\u001b[49m\u001b[43m \u001b[49m\u001b[38;5;241;43m10\u001b[39;49m\u001b[43m)\u001b[49m\n\u001b[1;32m      8\u001b[0m avg_tensor\u001b[38;5;241m.\u001b[39mshape\n",
      "File \u001b[0;32m~/projects/codetrace/type_inf_exp/request_patch.py:49\u001b[0m, in \u001b[0;36mget_averages\u001b[0;34m(model, prompts, tokens, batch_Size)\u001b[0m\n\u001b[1;32m     47\u001b[0m hidden_states \u001b[38;5;241m=\u001b[39m []\n\u001b[1;32m     48\u001b[0m \u001b[38;5;28;01mfor\u001b[39;00m batch \u001b[38;5;129;01min\u001b[39;00m tqdm(prompt_batches, desc\u001b[38;5;241m=\u001b[39m\u001b[38;5;124m\"\u001b[39m\u001b[38;5;124mBatch\u001b[39m\u001b[38;5;124m\"\u001b[39m):\n\u001b[0;32m---> 49\u001b[0m     hs \u001b[38;5;241m=\u001b[39m \u001b[43mcollect_hidden_states_at_tokens\u001b[49m\u001b[43m(\u001b[49m\u001b[43mmodel\u001b[49m\u001b[43m,\u001b[49m\u001b[43m \u001b[49m\u001b[43mbatch\u001b[49m\u001b[43m,\u001b[49m\u001b[43m \u001b[49m\u001b[43mtokens\u001b[49m\u001b[43m)\u001b[49m\n\u001b[1;32m     50\u001b[0m     hidden_states\u001b[38;5;241m.\u001b[39mappend(hs\u001b[38;5;241m.\u001b[39mmean(dim\u001b[38;5;241m=\u001b[39m\u001b[38;5;241m1\u001b[39m))\n\u001b[1;32m     52\u001b[0m \u001b[38;5;66;03m# save tensor\u001b[39;00m\n",
      "File \u001b[0;32m~/projects/codetrace/interp_utils.py:146\u001b[0m, in \u001b[0;36mcollect_hidden_states_at_tokens\u001b[0;34m(model, prompts, token_idx, layers, get_logit)\u001b[0m\n\u001b[1;32m    143\u001b[0m \u001b[38;5;28;01mdef\u001b[39;00m \u001b[38;5;21mdecode\u001b[39m(x : torch\u001b[38;5;241m.\u001b[39mTensor) \u001b[38;5;241m-\u001b[39m\u001b[38;5;241m>\u001b[39m torch\u001b[38;5;241m.\u001b[39mTensor:\n\u001b[1;32m    144\u001b[0m     \u001b[38;5;28;01mreturn\u001b[39;00m model\u001b[38;5;241m.\u001b[39mlm_head(model\u001b[38;5;241m.\u001b[39mtransformer\u001b[38;5;241m.\u001b[39mln_f(x))\n\u001b[0;32m--> 146\u001b[0m \u001b[38;5;28;01mwith\u001b[39;00m model\u001b[38;5;241m.\u001b[39mforward() \u001b[38;5;28;01mas\u001b[39;00m runner:\n\u001b[1;32m    147\u001b[0m     \u001b[38;5;28;01mwith\u001b[39;00m runner\u001b[38;5;241m.\u001b[39minvoke(prompts) \u001b[38;5;28;01mas\u001b[39;00m invoker:\n\u001b[1;32m    149\u001b[0m         indices \u001b[38;5;241m=\u001b[39m invoker\u001b[38;5;241m.\u001b[39minput[\u001b[38;5;124m\"\u001b[39m\u001b[38;5;124minput_ids\u001b[39m\u001b[38;5;124m\"\u001b[39m]\u001b[38;5;241m.\u001b[39mnumpy()\n",
      "File \u001b[0;32m~/venvs/gpu/lib/python3.10/site-packages/nnsight/contexts/Runner.py:73\u001b[0m, in \u001b[0;36mRunner.__exit__\u001b[0;34m(self, exc_type, exc_val, exc_tb)\u001b[0m\n\u001b[1;32m     71\u001b[0m     \u001b[38;5;28mself\u001b[39m\u001b[38;5;241m.\u001b[39mrun_server()\n\u001b[1;32m     72\u001b[0m \u001b[38;5;28;01melse\u001b[39;00m:\n\u001b[0;32m---> 73\u001b[0m     \u001b[38;5;28;43mself\u001b[39;49m\u001b[38;5;241;43m.\u001b[39;49m\u001b[43mrun_local\u001b[49m\u001b[43m(\u001b[49m\u001b[43m)\u001b[49m\n",
      "File \u001b[0;32m~/venvs/gpu/lib/python3.10/site-packages/nnsight/contexts/Runner.py:78\u001b[0m, in \u001b[0;36mRunner.run_local\u001b[0;34m(self)\u001b[0m\n\u001b[1;32m     76\u001b[0m \u001b[38;5;250m\u001b[39m\u001b[38;5;124;03m\"\"\"Runs the local_model using it's chosen method.\"\"\"\u001b[39;00m\n\u001b[1;32m     77\u001b[0m \u001b[38;5;66;03m# Run the model and store the output.\u001b[39;00m\n\u001b[0;32m---> 78\u001b[0m \u001b[38;5;28mself\u001b[39m\u001b[38;5;241m.\u001b[39moutput \u001b[38;5;241m=\u001b[39m \u001b[38;5;28;43mself\u001b[39;49m\u001b[38;5;241;43m.\u001b[39;49m\u001b[43mmodel\u001b[49m\u001b[43m(\u001b[49m\n\u001b[1;32m     79\u001b[0m \u001b[43m    \u001b[49m\u001b[38;5;28;43mself\u001b[39;49m\u001b[38;5;241;43m.\u001b[39;49m\u001b[43mmodel\u001b[49m\u001b[38;5;241;43m.\u001b[39;49m\u001b[43m_generation\u001b[49m\u001b[43m \u001b[49m\u001b[38;5;28;43;01mif\u001b[39;49;00m\u001b[43m \u001b[49m\u001b[38;5;28;43mself\u001b[39;49m\u001b[38;5;241;43m.\u001b[39;49m\u001b[43mgeneration\u001b[49m\u001b[43m \u001b[49m\u001b[38;5;28;43;01melse\u001b[39;49;00m\u001b[43m \u001b[49m\u001b[38;5;28;43mself\u001b[39;49m\u001b[38;5;241;43m.\u001b[39;49m\u001b[43mmodel\u001b[49m\u001b[38;5;241;43m.\u001b[39;49m\u001b[43m_forward\u001b[49m\u001b[43m,\u001b[49m\n\u001b[1;32m     80\u001b[0m \u001b[43m    \u001b[49m\u001b[38;5;28;43mself\u001b[39;49m\u001b[38;5;241;43m.\u001b[39;49m\u001b[43mbatched_input\u001b[49m\u001b[43m,\u001b[49m\n\u001b[1;32m     81\u001b[0m \u001b[43m    \u001b[49m\u001b[38;5;28;43mself\u001b[39;49m\u001b[38;5;241;43m.\u001b[39;49m\u001b[43mgraph\u001b[49m\u001b[43m,\u001b[49m\n\u001b[1;32m     82\u001b[0m \u001b[43m    \u001b[49m\u001b[38;5;241;43m*\u001b[39;49m\u001b[38;5;28;43mself\u001b[39;49m\u001b[38;5;241;43m.\u001b[39;49m\u001b[43margs\u001b[49m\u001b[43m,\u001b[49m\n\u001b[1;32m     83\u001b[0m \u001b[43m    \u001b[49m\u001b[38;5;241;43m*\u001b[39;49m\u001b[38;5;241;43m*\u001b[39;49m\u001b[38;5;28;43mself\u001b[39;49m\u001b[38;5;241;43m.\u001b[39;49m\u001b[43mkwargs\u001b[49m\u001b[43m,\u001b[49m\n\u001b[1;32m     84\u001b[0m \u001b[43m\u001b[49m\u001b[43m)\u001b[49m\n",
      "File \u001b[0;32m~/venvs/gpu/lib/python3.10/site-packages/nnsight/models/NNsightModel.py:201\u001b[0m, in \u001b[0;36mNNsightModel.__call__\u001b[0;34m(self, fn, inputs, graph, edits, inference, *args, **kwargs)\u001b[0m\n\u001b[1;32m    198\u001b[0m     logger\u001b[38;5;241m.\u001b[39minfo(\u001b[38;5;124mf\u001b[39m\u001b[38;5;124m\"\u001b[39m\u001b[38;5;124mCompleted `\u001b[39m\u001b[38;5;132;01m{\u001b[39;00m\u001b[38;5;28mself\u001b[39m\u001b[38;5;241m.\u001b[39mrepoid_path_clsname\u001b[38;5;132;01m}\u001b[39;00m\u001b[38;5;124m`\u001b[39m\u001b[38;5;124m\"\u001b[39m)\n\u001b[1;32m    200\u001b[0m     gc\u001b[38;5;241m.\u001b[39mcollect()\n\u001b[0;32m--> 201\u001b[0m     \u001b[43mtorch\u001b[49m\u001b[38;5;241;43m.\u001b[39;49m\u001b[43mcuda\u001b[49m\u001b[38;5;241;43m.\u001b[39;49m\u001b[43mempty_cache\u001b[49m\u001b[43m(\u001b[49m\u001b[43m)\u001b[49m\n\u001b[1;32m    203\u001b[0m \u001b[38;5;28;01mreturn\u001b[39;00m output\n",
      "File \u001b[0;32m~/venvs/gpu/lib/python3.10/site-packages/torch/cuda/memory.py:159\u001b[0m, in \u001b[0;36mempty_cache\u001b[0;34m()\u001b[0m\n\u001b[1;32m    148\u001b[0m \u001b[38;5;250m\u001b[39m\u001b[38;5;124mr\u001b[39m\u001b[38;5;124;03m\"\"\"Releases all unoccupied cached memory currently held by the caching\u001b[39;00m\n\u001b[1;32m    149\u001b[0m \u001b[38;5;124;03mallocator so that those can be used in other GPU application and visible in\u001b[39;00m\n\u001b[1;32m    150\u001b[0m \u001b[38;5;124;03m`nvidia-smi`.\u001b[39;00m\n\u001b[0;32m   (...)\u001b[0m\n\u001b[1;32m    156\u001b[0m \u001b[38;5;124;03m    more details about GPU memory management.\u001b[39;00m\n\u001b[1;32m    157\u001b[0m \u001b[38;5;124;03m\"\"\"\u001b[39;00m\n\u001b[1;32m    158\u001b[0m \u001b[38;5;28;01mif\u001b[39;00m is_initialized():\n\u001b[0;32m--> 159\u001b[0m     \u001b[43mtorch\u001b[49m\u001b[38;5;241;43m.\u001b[39;49m\u001b[43m_C\u001b[49m\u001b[38;5;241;43m.\u001b[39;49m\u001b[43m_cuda_emptyCache\u001b[49m\u001b[43m(\u001b[49m\u001b[43m)\u001b[49m\n",
      "\u001b[0;31mKeyboardInterrupt\u001b[0m: "
     ]
    }
   ],
   "source": [
    "from request_patch import *\n",
    "import random\n",
    "random.seed(0)\n",
    "correct_prompts = [c[\"prompt\"] for c in correct]\n",
    "random.shuffle(correct_prompts)\n",
    "# avg_tensor = get_averages(model, correct_prompts[:200], STARCODER_FIM.to_list()[:-1], 10)\n",
    "\n",
    "avg_tensor.shape"
   ]
  },
  {
   "cell_type": "code",
   "execution_count": 8,
   "metadata": {},
   "outputs": [
    {
     "data": {
      "text/plain": [
       "torch.Size([36, 2816])"
      ]
     },
     "execution_count": 8,
     "metadata": {},
     "output_type": "execute_result"
    }
   ],
   "source": [
    "# torch.save(avg_tensor, \"_test_3b.pt\")\n",
    "avg_tensor = torch.load(\"_test_3b.pt\")\n",
    "avg_tensor.shape"
   ]
  },
  {
   "cell_type": "code",
   "execution_count": 9,
   "metadata": {},
   "outputs": [
    {
     "data": {
      "text/plain": [
       "(330, 52)"
      ]
     },
     "execution_count": 9,
     "metadata": {},
     "output_type": "execute_result"
    }
   ],
   "source": [
    "incorrect_prompts = [i for i in incorrect if len(model.tokenizer.tokenize(i[\"solution\"])) == 1]\n",
    "solns = [i[\"solution\"] for i in incorrect_prompts]\n",
    "\n",
    "len(incorrect_prompts), len(list(set(solns)))"
   ]
  },
  {
   "cell_type": "code",
   "execution_count": 10,
   "metadata": {},
   "outputs": [
    {
     "ename": "NameError",
     "evalue": "name 'files' is not defined",
     "output_type": "error",
     "traceback": [
      "\u001b[0;31m---------------------------------------------------------------------------\u001b[0m",
      "\u001b[0;31mNameError\u001b[0m                                 Traceback (most recent call last)",
      "Cell \u001b[0;32mIn[10], line 1\u001b[0m\n\u001b[0;32m----> 1\u001b[0m unique_files \u001b[38;5;241m=\u001b[39m \u001b[38;5;28mlist\u001b[39m(\u001b[38;5;28mset\u001b[39m(\u001b[43mfiles\u001b[49m))\n\u001b[1;32m      2\u001b[0m unique_types \u001b[38;5;241m=\u001b[39m \u001b[38;5;28mlist\u001b[39m(\u001b[38;5;28mset\u001b[39m([i[\u001b[38;5;124m\"\u001b[39m\u001b[38;5;124msolution\u001b[39m\u001b[38;5;124m\"\u001b[39m] \u001b[38;5;28;01mfor\u001b[39;00m i \u001b[38;5;129;01min\u001b[39;00m incorrect_prompts]))\n\u001b[1;32m      3\u001b[0m \u001b[38;5;28mlen\u001b[39m(unique_files), \u001b[38;5;28mlen\u001b[39m(unique_types)\n",
      "\u001b[0;31mNameError\u001b[0m: name 'files' is not defined"
     ]
    }
   ],
   "source": [
    "unique_files = list(set(files))\n",
    "unique_types = list(set([i[\"solution\"] for i in incorrect_prompts]))\n",
    "len(unique_files), len(unique_types)"
   ]
  },
  {
   "cell_type": "code",
   "execution_count": 11,
   "metadata": {},
   "outputs": [
    {
     "data": {
      "text/plain": [
       "(['Q', 'R', 'R'],\n",
       " ['Arrow<A, B>\\nexport function pipe<A, B, C',\n",
       "  'A\\n\\nexport function pipe<A, B, C, D, E',\n",
       "  'T'])"
      ]
     },
     "execution_count": 11,
     "metadata": {},
     "output_type": "execute_result"
    }
   ],
   "source": [
    "k = [50,52]\n",
    "# 40, 44\n",
    "prompts = [i[\"prompt\"] for i in incorrect_prompts[k[0]:k[-1]]]\n",
    "solns = [i[\"solution\"] for i in incorrect_prompts[k[0]:k[-1]]]\n",
    "gens = [i[\"generated\"] for i in incorrect_prompts[k[0]:k[-1]]]\n",
    "solns, gens"
   ]
  },
  {
   "cell_type": "code",
   "execution_count": 12,
   "metadata": {},
   "outputs": [
    {
     "ename": "OutOfMemoryError",
     "evalue": "CUDA out of memory. Tried to allocate 54.84 GiB. GPU 3 has a total capacty of 79.11 GiB of which 37.80 GiB is free. Including non-PyTorch memory, this process has 41.30 GiB memory in use. Of the allocated memory 40.10 GiB is allocated by PyTorch, and 628.42 MiB is reserved by PyTorch but unallocated. If reserved but unallocated memory is large try setting max_split_size_mb to avoid fragmentation.  See documentation for Memory Management and PYTORCH_CUDA_ALLOC_CONF",
     "output_type": "error",
     "traceback": [
      "\u001b[0;31m---------------------------------------------------------------------------\u001b[0m",
      "\u001b[0;31mOutOfMemoryError\u001b[0m                          Traceback (most recent call last)",
      "Cell \u001b[0;32mIn[12], line 1\u001b[0m\n\u001b[0;32m----> 1\u001b[0m out \u001b[38;5;241m=\u001b[39m \u001b[43minsert_patch\u001b[49m\u001b[43m(\u001b[49m\u001b[43mmodel\u001b[49m\u001b[43m,\u001b[49m\u001b[43m \u001b[49m\u001b[43mprompts\u001b[49m\u001b[43m,\u001b[49m\u001b[43m \u001b[49m\u001b[43mavg_tensor\u001b[49m\u001b[43m,\u001b[49m\u001b[43m \u001b[49m\u001b[38;5;28;43mlist\u001b[39;49m\u001b[43m(\u001b[49m\u001b[38;5;28;43mrange\u001b[39;49m\u001b[43m(\u001b[49m\u001b[38;5;241;43m16\u001b[39;49m\u001b[43m,\u001b[49m\u001b[38;5;241;43m21\u001b[39;49m\u001b[43m)\u001b[49m\u001b[43m)\u001b[49m\u001b[43m,\u001b[49m\u001b[43m \u001b[49m\u001b[43mSTARCODER_FIM\u001b[49m\u001b[38;5;241;43m.\u001b[39;49m\u001b[43mto_list\u001b[49m\u001b[43m(\u001b[49m\u001b[43m)\u001b[49m\u001b[43m[\u001b[49m\u001b[43m:\u001b[49m\u001b[38;5;241;43m-\u001b[39;49m\u001b[38;5;241;43m1\u001b[39;49m\u001b[43m]\u001b[49m\u001b[43m)\u001b[49m\n\u001b[1;32m      2\u001b[0m out\n",
      "File \u001b[0;32m~/projects/codetrace/interp_utils.py:201\u001b[0m, in \u001b[0;36minsert_patch\u001b[0;34m(model, prompts, patch, layers_to_patch, tokens_to_patch, patch_strength)\u001b[0m\n\u001b[1;32m    198\u001b[0m \u001b[38;5;28;01mdef\u001b[39;00m \u001b[38;5;21mdecode\u001b[39m(x : torch\u001b[38;5;241m.\u001b[39mTensor) \u001b[38;5;241m-\u001b[39m\u001b[38;5;241m>\u001b[39m torch\u001b[38;5;241m.\u001b[39mTensor:\n\u001b[1;32m    199\u001b[0m     \u001b[38;5;28;01mreturn\u001b[39;00m model\u001b[38;5;241m.\u001b[39mlm_head(model\u001b[38;5;241m.\u001b[39mtransformer\u001b[38;5;241m.\u001b[39mln_f(x))\n\u001b[0;32m--> 201\u001b[0m \u001b[38;5;28;01mwith\u001b[39;00m model\u001b[38;5;241m.\u001b[39mforward() \u001b[38;5;28;01mas\u001b[39;00m runner:\n\u001b[1;32m    202\u001b[0m     \u001b[38;5;28;01mwith\u001b[39;00m runner\u001b[38;5;241m.\u001b[39minvoke(prompts) \u001b[38;5;28;01mas\u001b[39;00m invoker:\n\u001b[1;32m    204\u001b[0m         indices \u001b[38;5;241m=\u001b[39m invoker\u001b[38;5;241m.\u001b[39minput[\u001b[38;5;124m\"\u001b[39m\u001b[38;5;124minput_ids\u001b[39m\u001b[38;5;124m\"\u001b[39m]\u001b[38;5;241m.\u001b[39mnumpy()\n",
      "File \u001b[0;32m~/venvs/gpu/lib/python3.10/site-packages/nnsight/contexts/Runner.py:73\u001b[0m, in \u001b[0;36mRunner.__exit__\u001b[0;34m(self, exc_type, exc_val, exc_tb)\u001b[0m\n\u001b[1;32m     71\u001b[0m     \u001b[38;5;28mself\u001b[39m\u001b[38;5;241m.\u001b[39mrun_server()\n\u001b[1;32m     72\u001b[0m \u001b[38;5;28;01melse\u001b[39;00m:\n\u001b[0;32m---> 73\u001b[0m     \u001b[38;5;28;43mself\u001b[39;49m\u001b[38;5;241;43m.\u001b[39;49m\u001b[43mrun_local\u001b[49m\u001b[43m(\u001b[49m\u001b[43m)\u001b[49m\n",
      "File \u001b[0;32m~/venvs/gpu/lib/python3.10/site-packages/nnsight/contexts/Runner.py:78\u001b[0m, in \u001b[0;36mRunner.run_local\u001b[0;34m(self)\u001b[0m\n\u001b[1;32m     76\u001b[0m \u001b[38;5;250m\u001b[39m\u001b[38;5;124;03m\"\"\"Runs the local_model using it's chosen method.\"\"\"\u001b[39;00m\n\u001b[1;32m     77\u001b[0m \u001b[38;5;66;03m# Run the model and store the output.\u001b[39;00m\n\u001b[0;32m---> 78\u001b[0m \u001b[38;5;28mself\u001b[39m\u001b[38;5;241m.\u001b[39moutput \u001b[38;5;241m=\u001b[39m \u001b[38;5;28;43mself\u001b[39;49m\u001b[38;5;241;43m.\u001b[39;49m\u001b[43mmodel\u001b[49m\u001b[43m(\u001b[49m\n\u001b[1;32m     79\u001b[0m \u001b[43m    \u001b[49m\u001b[38;5;28;43mself\u001b[39;49m\u001b[38;5;241;43m.\u001b[39;49m\u001b[43mmodel\u001b[49m\u001b[38;5;241;43m.\u001b[39;49m\u001b[43m_generation\u001b[49m\u001b[43m \u001b[49m\u001b[38;5;28;43;01mif\u001b[39;49;00m\u001b[43m \u001b[49m\u001b[38;5;28;43mself\u001b[39;49m\u001b[38;5;241;43m.\u001b[39;49m\u001b[43mgeneration\u001b[49m\u001b[43m \u001b[49m\u001b[38;5;28;43;01melse\u001b[39;49;00m\u001b[43m \u001b[49m\u001b[38;5;28;43mself\u001b[39;49m\u001b[38;5;241;43m.\u001b[39;49m\u001b[43mmodel\u001b[49m\u001b[38;5;241;43m.\u001b[39;49m\u001b[43m_forward\u001b[49m\u001b[43m,\u001b[49m\n\u001b[1;32m     80\u001b[0m \u001b[43m    \u001b[49m\u001b[38;5;28;43mself\u001b[39;49m\u001b[38;5;241;43m.\u001b[39;49m\u001b[43mbatched_input\u001b[49m\u001b[43m,\u001b[49m\n\u001b[1;32m     81\u001b[0m \u001b[43m    \u001b[49m\u001b[38;5;28;43mself\u001b[39;49m\u001b[38;5;241;43m.\u001b[39;49m\u001b[43mgraph\u001b[49m\u001b[43m,\u001b[49m\n\u001b[1;32m     82\u001b[0m \u001b[43m    \u001b[49m\u001b[38;5;241;43m*\u001b[39;49m\u001b[38;5;28;43mself\u001b[39;49m\u001b[38;5;241;43m.\u001b[39;49m\u001b[43margs\u001b[49m\u001b[43m,\u001b[49m\n\u001b[1;32m     83\u001b[0m \u001b[43m    \u001b[49m\u001b[38;5;241;43m*\u001b[39;49m\u001b[38;5;241;43m*\u001b[39;49m\u001b[38;5;28;43mself\u001b[39;49m\u001b[38;5;241;43m.\u001b[39;49m\u001b[43mkwargs\u001b[49m\u001b[43m,\u001b[49m\n\u001b[1;32m     84\u001b[0m \u001b[43m\u001b[49m\u001b[43m)\u001b[49m\n",
      "File \u001b[0;32m~/venvs/gpu/lib/python3.10/site-packages/nnsight/models/NNsightModel.py:194\u001b[0m, in \u001b[0;36mNNsightModel.__call__\u001b[0;34m(self, fn, inputs, graph, edits, inference, *args, **kwargs)\u001b[0m\n\u001b[1;32m    177\u001b[0m \u001b[38;5;28;01mwith\u001b[39;00m torch\u001b[38;5;241m.\u001b[39minference_mode(mode\u001b[38;5;241m=\u001b[39minference):\n\u001b[1;32m    178\u001b[0m     \u001b[38;5;28;01mwith\u001b[39;00m HookModel(\n\u001b[1;32m    179\u001b[0m         \u001b[38;5;28mself\u001b[39m\u001b[38;5;241m.\u001b[39mlocal_model,\n\u001b[1;32m    180\u001b[0m         \u001b[38;5;28mlist\u001b[39m(graph\u001b[38;5;241m.\u001b[39margument_node_names\u001b[38;5;241m.\u001b[39mkeys()),\n\u001b[0;32m   (...)\u001b[0m\n\u001b[1;32m    192\u001b[0m         ),\n\u001b[1;32m    193\u001b[0m     ):\n\u001b[0;32m--> 194\u001b[0m         output \u001b[38;5;241m=\u001b[39m \u001b[43mfn\u001b[49m\u001b[43m(\u001b[49m\u001b[43minputs\u001b[49m\u001b[43m,\u001b[49m\u001b[43m \u001b[49m\u001b[38;5;241;43m*\u001b[39;49m\u001b[43margs\u001b[49m\u001b[43m,\u001b[49m\u001b[43m \u001b[49m\u001b[38;5;241;43m*\u001b[39;49m\u001b[38;5;241;43m*\u001b[39;49m\u001b[43mkwargs\u001b[49m\u001b[43m)\u001b[49m\n\u001b[1;32m    196\u001b[0m increment_hook\u001b[38;5;241m.\u001b[39mremove()\n\u001b[1;32m    198\u001b[0m logger\u001b[38;5;241m.\u001b[39minfo(\u001b[38;5;124mf\u001b[39m\u001b[38;5;124m\"\u001b[39m\u001b[38;5;124mCompleted `\u001b[39m\u001b[38;5;132;01m{\u001b[39;00m\u001b[38;5;28mself\u001b[39m\u001b[38;5;241m.\u001b[39mrepoid_path_clsname\u001b[38;5;132;01m}\u001b[39;00m\u001b[38;5;124m`\u001b[39m\u001b[38;5;124m\"\u001b[39m)\n",
      "File \u001b[0;32m~/venvs/gpu/lib/python3.10/site-packages/nnsight/models/NNsightModel.py:398\u001b[0m, in \u001b[0;36mNNsightModel._forward\u001b[0;34m(self, prepared_inputs, *args, **kwargs)\u001b[0m\n\u001b[1;32m    388\u001b[0m \u001b[38;5;28;01mdef\u001b[39;00m \u001b[38;5;21m_forward\u001b[39m(\u001b[38;5;28mself\u001b[39m, prepared_inputs, \u001b[38;5;241m*\u001b[39margs, \u001b[38;5;241m*\u001b[39m\u001b[38;5;241m*\u001b[39mkwargs) \u001b[38;5;241m-\u001b[39m\u001b[38;5;241m>\u001b[39m Any:\n\u001b[1;32m    389\u001b[0m \u001b[38;5;250m    \u001b[39m\u001b[38;5;124;03m\"\"\"\u001b[39;00m\n\u001b[1;32m    390\u001b[0m \u001b[38;5;124;03m    Abstract method to directly call the local_model. To be implemented by inheritors.\u001b[39;00m\n\u001b[1;32m    391\u001b[0m \n\u001b[0;32m   (...)\u001b[0m\n\u001b[1;32m    396\u001b[0m \u001b[38;5;124;03m        Any: Output.\u001b[39;00m\n\u001b[1;32m    397\u001b[0m \u001b[38;5;124;03m    \"\"\"\u001b[39;00m\n\u001b[0;32m--> 398\u001b[0m     \u001b[38;5;28;01mreturn\u001b[39;00m \u001b[38;5;28;43mself\u001b[39;49m\u001b[38;5;241;43m.\u001b[39;49m\u001b[43mlocal_model\u001b[49m\u001b[43m(\u001b[49m\n\u001b[1;32m    399\u001b[0m \u001b[43m        \u001b[49m\u001b[38;5;241;43m*\u001b[39;49m\u001b[43margs\u001b[49m\u001b[43m,\u001b[49m\u001b[43m \u001b[49m\u001b[38;5;241;43m*\u001b[39;49m\u001b[38;5;241;43m*\u001b[39;49m\u001b[43mprepared_inputs\u001b[49m\u001b[38;5;241;43m.\u001b[39;49m\u001b[43mto\u001b[49m\u001b[43m(\u001b[49m\u001b[38;5;28;43mself\u001b[39;49m\u001b[38;5;241;43m.\u001b[39;49m\u001b[43mlocal_model\u001b[49m\u001b[38;5;241;43m.\u001b[39;49m\u001b[43mdevice\u001b[49m\u001b[43m)\u001b[49m\u001b[43m,\u001b[49m\u001b[43m \u001b[49m\u001b[38;5;241;43m*\u001b[39;49m\u001b[38;5;241;43m*\u001b[39;49m\u001b[43mkwargs\u001b[49m\n\u001b[1;32m    400\u001b[0m \u001b[43m    \u001b[49m\u001b[43m)\u001b[49m\n",
      "File \u001b[0;32m~/venvs/gpu/lib/python3.10/site-packages/torch/nn/modules/module.py:1518\u001b[0m, in \u001b[0;36mModule._wrapped_call_impl\u001b[0;34m(self, *args, **kwargs)\u001b[0m\n\u001b[1;32m   1516\u001b[0m     \u001b[38;5;28;01mreturn\u001b[39;00m \u001b[38;5;28mself\u001b[39m\u001b[38;5;241m.\u001b[39m_compiled_call_impl(\u001b[38;5;241m*\u001b[39margs, \u001b[38;5;241m*\u001b[39m\u001b[38;5;241m*\u001b[39mkwargs)  \u001b[38;5;66;03m# type: ignore[misc]\u001b[39;00m\n\u001b[1;32m   1517\u001b[0m \u001b[38;5;28;01melse\u001b[39;00m:\n\u001b[0;32m-> 1518\u001b[0m     \u001b[38;5;28;01mreturn\u001b[39;00m \u001b[38;5;28;43mself\u001b[39;49m\u001b[38;5;241;43m.\u001b[39;49m\u001b[43m_call_impl\u001b[49m\u001b[43m(\u001b[49m\u001b[38;5;241;43m*\u001b[39;49m\u001b[43margs\u001b[49m\u001b[43m,\u001b[49m\u001b[43m \u001b[49m\u001b[38;5;241;43m*\u001b[39;49m\u001b[38;5;241;43m*\u001b[39;49m\u001b[43mkwargs\u001b[49m\u001b[43m)\u001b[49m\n",
      "File \u001b[0;32m~/venvs/gpu/lib/python3.10/site-packages/torch/nn/modules/module.py:1568\u001b[0m, in \u001b[0;36mModule._call_impl\u001b[0;34m(self, *args, **kwargs)\u001b[0m\n\u001b[1;32m   1565\u001b[0m     bw_hook \u001b[38;5;241m=\u001b[39m hooks\u001b[38;5;241m.\u001b[39mBackwardHook(\u001b[38;5;28mself\u001b[39m, full_backward_hooks, backward_pre_hooks)\n\u001b[1;32m   1566\u001b[0m     args \u001b[38;5;241m=\u001b[39m bw_hook\u001b[38;5;241m.\u001b[39msetup_input_hook(args)\n\u001b[0;32m-> 1568\u001b[0m result \u001b[38;5;241m=\u001b[39m \u001b[43mforward_call\u001b[49m\u001b[43m(\u001b[49m\u001b[38;5;241;43m*\u001b[39;49m\u001b[43margs\u001b[49m\u001b[43m,\u001b[49m\u001b[43m \u001b[49m\u001b[38;5;241;43m*\u001b[39;49m\u001b[38;5;241;43m*\u001b[39;49m\u001b[43mkwargs\u001b[49m\u001b[43m)\u001b[49m\n\u001b[1;32m   1569\u001b[0m \u001b[38;5;28;01mif\u001b[39;00m _global_forward_hooks \u001b[38;5;129;01mor\u001b[39;00m \u001b[38;5;28mself\u001b[39m\u001b[38;5;241m.\u001b[39m_forward_hooks:\n\u001b[1;32m   1570\u001b[0m     \u001b[38;5;28;01mfor\u001b[39;00m hook_id, hook \u001b[38;5;129;01min\u001b[39;00m (\n\u001b[1;32m   1571\u001b[0m         \u001b[38;5;241m*\u001b[39m_global_forward_hooks\u001b[38;5;241m.\u001b[39mitems(),\n\u001b[1;32m   1572\u001b[0m         \u001b[38;5;241m*\u001b[39m\u001b[38;5;28mself\u001b[39m\u001b[38;5;241m.\u001b[39m_forward_hooks\u001b[38;5;241m.\u001b[39mitems(),\n\u001b[1;32m   1573\u001b[0m     ):\n\u001b[1;32m   1574\u001b[0m         \u001b[38;5;66;03m# mark that always called hook is run\u001b[39;00m\n",
      "File \u001b[0;32m~/venvs/gpu/lib/python3.10/site-packages/transformers/models/gpt_bigcode/modeling_gpt_bigcode.py:1268\u001b[0m, in \u001b[0;36mGPTBigCodeForCausalLM.forward\u001b[0;34m(self, input_ids, past_key_values, attention_mask, token_type_ids, position_ids, head_mask, inputs_embeds, encoder_hidden_states, encoder_attention_mask, labels, use_cache, output_attentions, output_hidden_states, return_dict)\u001b[0m\n\u001b[1;32m   1260\u001b[0m \u001b[38;5;250m\u001b[39m\u001b[38;5;124mr\u001b[39m\u001b[38;5;124;03m\"\"\"\u001b[39;00m\n\u001b[1;32m   1261\u001b[0m \u001b[38;5;124;03mlabels (`torch.Tensor` of shape `(batch_size, sequence_length)`, *optional*):\u001b[39;00m\n\u001b[1;32m   1262\u001b[0m \u001b[38;5;124;03m    Labels for language modeling. Note that the labels **are shifted** inside the model, i.e. you can set\u001b[39;00m\n\u001b[1;32m   1263\u001b[0m \u001b[38;5;124;03m    `labels = input_ids` Indices are selected in `[-100, 0, ..., config.vocab_size]` All labels set to `-100`\u001b[39;00m\n\u001b[1;32m   1264\u001b[0m \u001b[38;5;124;03m    are ignored (masked), the loss is only computed for labels in `[0, ..., config.vocab_size]`\u001b[39;00m\n\u001b[1;32m   1265\u001b[0m \u001b[38;5;124;03m\"\"\"\u001b[39;00m\n\u001b[1;32m   1266\u001b[0m return_dict \u001b[38;5;241m=\u001b[39m return_dict \u001b[38;5;28;01mif\u001b[39;00m return_dict \u001b[38;5;129;01mis\u001b[39;00m \u001b[38;5;129;01mnot\u001b[39;00m \u001b[38;5;28;01mNone\u001b[39;00m \u001b[38;5;28;01melse\u001b[39;00m \u001b[38;5;28mself\u001b[39m\u001b[38;5;241m.\u001b[39mconfig\u001b[38;5;241m.\u001b[39muse_return_dict\n\u001b[0;32m-> 1268\u001b[0m transformer_outputs \u001b[38;5;241m=\u001b[39m \u001b[38;5;28;43mself\u001b[39;49m\u001b[38;5;241;43m.\u001b[39;49m\u001b[43mtransformer\u001b[49m\u001b[43m(\u001b[49m\n\u001b[1;32m   1269\u001b[0m \u001b[43m    \u001b[49m\u001b[43minput_ids\u001b[49m\u001b[43m,\u001b[49m\n\u001b[1;32m   1270\u001b[0m \u001b[43m    \u001b[49m\u001b[43mpast_key_values\u001b[49m\u001b[38;5;241;43m=\u001b[39;49m\u001b[43mpast_key_values\u001b[49m\u001b[43m,\u001b[49m\n\u001b[1;32m   1271\u001b[0m \u001b[43m    \u001b[49m\u001b[43mattention_mask\u001b[49m\u001b[38;5;241;43m=\u001b[39;49m\u001b[43mattention_mask\u001b[49m\u001b[43m,\u001b[49m\n\u001b[1;32m   1272\u001b[0m \u001b[43m    \u001b[49m\u001b[43mtoken_type_ids\u001b[49m\u001b[38;5;241;43m=\u001b[39;49m\u001b[43mtoken_type_ids\u001b[49m\u001b[43m,\u001b[49m\n\u001b[1;32m   1273\u001b[0m \u001b[43m    \u001b[49m\u001b[43mposition_ids\u001b[49m\u001b[38;5;241;43m=\u001b[39;49m\u001b[43mposition_ids\u001b[49m\u001b[43m,\u001b[49m\n\u001b[1;32m   1274\u001b[0m \u001b[43m    \u001b[49m\u001b[43mhead_mask\u001b[49m\u001b[38;5;241;43m=\u001b[39;49m\u001b[43mhead_mask\u001b[49m\u001b[43m,\u001b[49m\n\u001b[1;32m   1275\u001b[0m \u001b[43m    \u001b[49m\u001b[43minputs_embeds\u001b[49m\u001b[38;5;241;43m=\u001b[39;49m\u001b[43minputs_embeds\u001b[49m\u001b[43m,\u001b[49m\n\u001b[1;32m   1276\u001b[0m \u001b[43m    \u001b[49m\u001b[43mencoder_hidden_states\u001b[49m\u001b[38;5;241;43m=\u001b[39;49m\u001b[43mencoder_hidden_states\u001b[49m\u001b[43m,\u001b[49m\n\u001b[1;32m   1277\u001b[0m \u001b[43m    \u001b[49m\u001b[43mencoder_attention_mask\u001b[49m\u001b[38;5;241;43m=\u001b[39;49m\u001b[43mencoder_attention_mask\u001b[49m\u001b[43m,\u001b[49m\n\u001b[1;32m   1278\u001b[0m \u001b[43m    \u001b[49m\u001b[43muse_cache\u001b[49m\u001b[38;5;241;43m=\u001b[39;49m\u001b[43muse_cache\u001b[49m\u001b[43m,\u001b[49m\n\u001b[1;32m   1279\u001b[0m \u001b[43m    \u001b[49m\u001b[43moutput_attentions\u001b[49m\u001b[38;5;241;43m=\u001b[39;49m\u001b[43moutput_attentions\u001b[49m\u001b[43m,\u001b[49m\n\u001b[1;32m   1280\u001b[0m \u001b[43m    \u001b[49m\u001b[43moutput_hidden_states\u001b[49m\u001b[38;5;241;43m=\u001b[39;49m\u001b[43moutput_hidden_states\u001b[49m\u001b[43m,\u001b[49m\n\u001b[1;32m   1281\u001b[0m \u001b[43m    \u001b[49m\u001b[43mreturn_dict\u001b[49m\u001b[38;5;241;43m=\u001b[39;49m\u001b[43mreturn_dict\u001b[49m\u001b[43m,\u001b[49m\n\u001b[1;32m   1282\u001b[0m \u001b[43m\u001b[49m\u001b[43m)\u001b[49m\n\u001b[1;32m   1283\u001b[0m hidden_states \u001b[38;5;241m=\u001b[39m transformer_outputs[\u001b[38;5;241m0\u001b[39m]\n\u001b[1;32m   1285\u001b[0m lm_logits \u001b[38;5;241m=\u001b[39m \u001b[38;5;28mself\u001b[39m\u001b[38;5;241m.\u001b[39mlm_head(hidden_states)\n",
      "File \u001b[0;32m~/venvs/gpu/lib/python3.10/site-packages/torch/nn/modules/module.py:1518\u001b[0m, in \u001b[0;36mModule._wrapped_call_impl\u001b[0;34m(self, *args, **kwargs)\u001b[0m\n\u001b[1;32m   1516\u001b[0m     \u001b[38;5;28;01mreturn\u001b[39;00m \u001b[38;5;28mself\u001b[39m\u001b[38;5;241m.\u001b[39m_compiled_call_impl(\u001b[38;5;241m*\u001b[39margs, \u001b[38;5;241m*\u001b[39m\u001b[38;5;241m*\u001b[39mkwargs)  \u001b[38;5;66;03m# type: ignore[misc]\u001b[39;00m\n\u001b[1;32m   1517\u001b[0m \u001b[38;5;28;01melse\u001b[39;00m:\n\u001b[0;32m-> 1518\u001b[0m     \u001b[38;5;28;01mreturn\u001b[39;00m \u001b[38;5;28;43mself\u001b[39;49m\u001b[38;5;241;43m.\u001b[39;49m\u001b[43m_call_impl\u001b[49m\u001b[43m(\u001b[49m\u001b[38;5;241;43m*\u001b[39;49m\u001b[43margs\u001b[49m\u001b[43m,\u001b[49m\u001b[43m \u001b[49m\u001b[38;5;241;43m*\u001b[39;49m\u001b[38;5;241;43m*\u001b[39;49m\u001b[43mkwargs\u001b[49m\u001b[43m)\u001b[49m\n",
      "File \u001b[0;32m~/venvs/gpu/lib/python3.10/site-packages/torch/nn/modules/module.py:1527\u001b[0m, in \u001b[0;36mModule._call_impl\u001b[0;34m(self, *args, **kwargs)\u001b[0m\n\u001b[1;32m   1522\u001b[0m \u001b[38;5;66;03m# If we don't have any hooks, we want to skip the rest of the logic in\u001b[39;00m\n\u001b[1;32m   1523\u001b[0m \u001b[38;5;66;03m# this function, and just call forward.\u001b[39;00m\n\u001b[1;32m   1524\u001b[0m \u001b[38;5;28;01mif\u001b[39;00m \u001b[38;5;129;01mnot\u001b[39;00m (\u001b[38;5;28mself\u001b[39m\u001b[38;5;241m.\u001b[39m_backward_hooks \u001b[38;5;129;01mor\u001b[39;00m \u001b[38;5;28mself\u001b[39m\u001b[38;5;241m.\u001b[39m_backward_pre_hooks \u001b[38;5;129;01mor\u001b[39;00m \u001b[38;5;28mself\u001b[39m\u001b[38;5;241m.\u001b[39m_forward_hooks \u001b[38;5;129;01mor\u001b[39;00m \u001b[38;5;28mself\u001b[39m\u001b[38;5;241m.\u001b[39m_forward_pre_hooks\n\u001b[1;32m   1525\u001b[0m         \u001b[38;5;129;01mor\u001b[39;00m _global_backward_pre_hooks \u001b[38;5;129;01mor\u001b[39;00m _global_backward_hooks\n\u001b[1;32m   1526\u001b[0m         \u001b[38;5;129;01mor\u001b[39;00m _global_forward_hooks \u001b[38;5;129;01mor\u001b[39;00m _global_forward_pre_hooks):\n\u001b[0;32m-> 1527\u001b[0m     \u001b[38;5;28;01mreturn\u001b[39;00m \u001b[43mforward_call\u001b[49m\u001b[43m(\u001b[49m\u001b[38;5;241;43m*\u001b[39;49m\u001b[43margs\u001b[49m\u001b[43m,\u001b[49m\u001b[43m \u001b[49m\u001b[38;5;241;43m*\u001b[39;49m\u001b[38;5;241;43m*\u001b[39;49m\u001b[43mkwargs\u001b[49m\u001b[43m)\u001b[49m\n\u001b[1;32m   1529\u001b[0m \u001b[38;5;28;01mtry\u001b[39;00m:\n\u001b[1;32m   1530\u001b[0m     result \u001b[38;5;241m=\u001b[39m \u001b[38;5;28;01mNone\u001b[39;00m\n",
      "File \u001b[0;32m~/venvs/gpu/lib/python3.10/site-packages/transformers/models/gpt_bigcode/modeling_gpt_bigcode.py:1121\u001b[0m, in \u001b[0;36mGPTBigCodeModel.forward\u001b[0;34m(self, input_ids, past_key_values, attention_mask, token_type_ids, position_ids, head_mask, inputs_embeds, encoder_hidden_states, encoder_attention_mask, use_cache, output_attentions, output_hidden_states, return_dict)\u001b[0m\n\u001b[1;32m   1109\u001b[0m     outputs \u001b[38;5;241m=\u001b[39m \u001b[38;5;28mself\u001b[39m\u001b[38;5;241m.\u001b[39m_gradient_checkpointing_func(\n\u001b[1;32m   1110\u001b[0m         block\u001b[38;5;241m.\u001b[39m\u001b[38;5;21m__call__\u001b[39m,\n\u001b[1;32m   1111\u001b[0m         hidden_states,\n\u001b[0;32m   (...)\u001b[0m\n\u001b[1;32m   1118\u001b[0m         output_attentions,\n\u001b[1;32m   1119\u001b[0m     )\n\u001b[1;32m   1120\u001b[0m \u001b[38;5;28;01melse\u001b[39;00m:\n\u001b[0;32m-> 1121\u001b[0m     outputs \u001b[38;5;241m=\u001b[39m \u001b[43mblock\u001b[49m\u001b[43m(\u001b[49m\n\u001b[1;32m   1122\u001b[0m \u001b[43m        \u001b[49m\u001b[43mhidden_states\u001b[49m\u001b[43m,\u001b[49m\n\u001b[1;32m   1123\u001b[0m \u001b[43m        \u001b[49m\u001b[43mlayer_past\u001b[49m\u001b[38;5;241;43m=\u001b[39;49m\u001b[43mlayer_past\u001b[49m\u001b[43m,\u001b[49m\n\u001b[1;32m   1124\u001b[0m \u001b[43m        \u001b[49m\u001b[43mattention_mask\u001b[49m\u001b[38;5;241;43m=\u001b[39;49m\u001b[43mattention_mask\u001b[49m\u001b[43m,\u001b[49m\n\u001b[1;32m   1125\u001b[0m \u001b[43m        \u001b[49m\u001b[43mhead_mask\u001b[49m\u001b[38;5;241;43m=\u001b[39;49m\u001b[43mhead_mask\u001b[49m\u001b[43m[\u001b[49m\u001b[43mi\u001b[49m\u001b[43m]\u001b[49m\u001b[43m,\u001b[49m\n\u001b[1;32m   1126\u001b[0m \u001b[43m        \u001b[49m\u001b[43mencoder_hidden_states\u001b[49m\u001b[38;5;241;43m=\u001b[39;49m\u001b[43mencoder_hidden_states\u001b[49m\u001b[43m,\u001b[49m\n\u001b[1;32m   1127\u001b[0m \u001b[43m        \u001b[49m\u001b[43mencoder_attention_mask\u001b[49m\u001b[38;5;241;43m=\u001b[39;49m\u001b[43mencoder_attention_mask\u001b[49m\u001b[43m,\u001b[49m\n\u001b[1;32m   1128\u001b[0m \u001b[43m        \u001b[49m\u001b[43muse_cache\u001b[49m\u001b[38;5;241;43m=\u001b[39;49m\u001b[43muse_cache\u001b[49m\u001b[43m,\u001b[49m\n\u001b[1;32m   1129\u001b[0m \u001b[43m        \u001b[49m\u001b[43moutput_attentions\u001b[49m\u001b[38;5;241;43m=\u001b[39;49m\u001b[43moutput_attentions\u001b[49m\u001b[43m,\u001b[49m\n\u001b[1;32m   1130\u001b[0m \u001b[43m    \u001b[49m\u001b[43m)\u001b[49m\n\u001b[1;32m   1132\u001b[0m hidden_states \u001b[38;5;241m=\u001b[39m outputs[\u001b[38;5;241m0\u001b[39m]\n\u001b[1;32m   1133\u001b[0m \u001b[38;5;28;01mif\u001b[39;00m use_cache:\n",
      "File \u001b[0;32m~/venvs/gpu/lib/python3.10/site-packages/torch/nn/modules/module.py:1518\u001b[0m, in \u001b[0;36mModule._wrapped_call_impl\u001b[0;34m(self, *args, **kwargs)\u001b[0m\n\u001b[1;32m   1516\u001b[0m     \u001b[38;5;28;01mreturn\u001b[39;00m \u001b[38;5;28mself\u001b[39m\u001b[38;5;241m.\u001b[39m_compiled_call_impl(\u001b[38;5;241m*\u001b[39margs, \u001b[38;5;241m*\u001b[39m\u001b[38;5;241m*\u001b[39mkwargs)  \u001b[38;5;66;03m# type: ignore[misc]\u001b[39;00m\n\u001b[1;32m   1517\u001b[0m \u001b[38;5;28;01melse\u001b[39;00m:\n\u001b[0;32m-> 1518\u001b[0m     \u001b[38;5;28;01mreturn\u001b[39;00m \u001b[38;5;28;43mself\u001b[39;49m\u001b[38;5;241;43m.\u001b[39;49m\u001b[43m_call_impl\u001b[49m\u001b[43m(\u001b[49m\u001b[38;5;241;43m*\u001b[39;49m\u001b[43margs\u001b[49m\u001b[43m,\u001b[49m\u001b[43m \u001b[49m\u001b[38;5;241;43m*\u001b[39;49m\u001b[38;5;241;43m*\u001b[39;49m\u001b[43mkwargs\u001b[49m\u001b[43m)\u001b[49m\n",
      "File \u001b[0;32m~/venvs/gpu/lib/python3.10/site-packages/torch/nn/modules/module.py:1581\u001b[0m, in \u001b[0;36mModule._call_impl\u001b[0;34m(self, *args, **kwargs)\u001b[0m\n\u001b[1;32m   1579\u001b[0m     hook_result \u001b[38;5;241m=\u001b[39m hook(\u001b[38;5;28mself\u001b[39m, args, kwargs, result)\n\u001b[1;32m   1580\u001b[0m \u001b[38;5;28;01melse\u001b[39;00m:\n\u001b[0;32m-> 1581\u001b[0m     hook_result \u001b[38;5;241m=\u001b[39m \u001b[43mhook\u001b[49m\u001b[43m(\u001b[49m\u001b[38;5;28;43mself\u001b[39;49m\u001b[43m,\u001b[49m\u001b[43m \u001b[49m\u001b[43margs\u001b[49m\u001b[43m,\u001b[49m\u001b[43m \u001b[49m\u001b[43mresult\u001b[49m\u001b[43m)\u001b[49m\n\u001b[1;32m   1583\u001b[0m \u001b[38;5;28;01mif\u001b[39;00m hook_result \u001b[38;5;129;01mis\u001b[39;00m \u001b[38;5;129;01mnot\u001b[39;00m \u001b[38;5;28;01mNone\u001b[39;00m:\n\u001b[1;32m   1584\u001b[0m     result \u001b[38;5;241m=\u001b[39m hook_result\n",
      "File \u001b[0;32m~/venvs/gpu/lib/python3.10/site-packages/nnsight/intervention.py:321\u001b[0m, in \u001b[0;36mHookModel.__enter__.<locals>.output_hook\u001b[0;34m(module, input, output, module_path)\u001b[0m\n\u001b[1;32m    320\u001b[0m \u001b[38;5;28;01mdef\u001b[39;00m \u001b[38;5;21moutput_hook\u001b[39m(module, \u001b[38;5;28minput\u001b[39m, output, module_path\u001b[38;5;241m=\u001b[39mmodule_path):\n\u001b[0;32m--> 321\u001b[0m     \u001b[38;5;28;01mreturn\u001b[39;00m \u001b[38;5;28;43mself\u001b[39;49m\u001b[38;5;241;43m.\u001b[39;49m\u001b[43moutput_hook\u001b[49m\u001b[43m(\u001b[49m\u001b[43moutput\u001b[49m\u001b[43m,\u001b[49m\u001b[43m \u001b[49m\u001b[43mmodule_path\u001b[49m\u001b[43m)\u001b[49m\n",
      "File \u001b[0;32m~/venvs/gpu/lib/python3.10/site-packages/nnsight/models/NNsightModel.py:184\u001b[0m, in \u001b[0;36mNNsightModel.__call__.<locals>.<lambda>\u001b[0;34m(activations, module_path)\u001b[0m\n\u001b[1;32m    175\u001b[0m inputs \u001b[38;5;241m=\u001b[39m \u001b[38;5;28mself\u001b[39m\u001b[38;5;241m.\u001b[39m_prepare_inputs(inputs)\n\u001b[1;32m    177\u001b[0m \u001b[38;5;28;01mwith\u001b[39;00m torch\u001b[38;5;241m.\u001b[39minference_mode(mode\u001b[38;5;241m=\u001b[39minference):\n\u001b[1;32m    178\u001b[0m     \u001b[38;5;28;01mwith\u001b[39;00m HookModel(\n\u001b[1;32m    179\u001b[0m         \u001b[38;5;28mself\u001b[39m\u001b[38;5;241m.\u001b[39mlocal_model,\n\u001b[1;32m    180\u001b[0m         \u001b[38;5;28mlist\u001b[39m(graph\u001b[38;5;241m.\u001b[39margument_node_names\u001b[38;5;241m.\u001b[39mkeys()),\n\u001b[1;32m    181\u001b[0m         input_hook\u001b[38;5;241m=\u001b[39m\u001b[38;5;28;01mlambda\u001b[39;00m activations, module_path: intervene(\n\u001b[1;32m    182\u001b[0m             activations, module_path, graph, \u001b[38;5;124m\"\u001b[39m\u001b[38;5;124minput\u001b[39m\u001b[38;5;124m\"\u001b[39m\n\u001b[1;32m    183\u001b[0m         ),\n\u001b[0;32m--> 184\u001b[0m         output_hook\u001b[38;5;241m=\u001b[39m\u001b[38;5;28;01mlambda\u001b[39;00m activations, module_path: \u001b[43mintervene\u001b[49m\u001b[43m(\u001b[49m\n\u001b[1;32m    185\u001b[0m \u001b[43m            \u001b[49m\u001b[43mactivations\u001b[49m\u001b[43m,\u001b[49m\u001b[43m \u001b[49m\u001b[43mmodule_path\u001b[49m\u001b[43m,\u001b[49m\u001b[43m \u001b[49m\u001b[43mgraph\u001b[49m\u001b[43m,\u001b[49m\u001b[43m \u001b[49m\u001b[38;5;124;43m\"\u001b[39;49m\u001b[38;5;124;43moutput\u001b[39;49m\u001b[38;5;124;43m\"\u001b[39;49m\n\u001b[1;32m    186\u001b[0m \u001b[43m        \u001b[49m\u001b[43m)\u001b[49m,\n\u001b[1;32m    187\u001b[0m         backward_input_hook\u001b[38;5;241m=\u001b[39m\u001b[38;5;28;01mlambda\u001b[39;00m activations, module_path: intervene(\n\u001b[1;32m    188\u001b[0m             activations, module_path, graph, \u001b[38;5;124m\"\u001b[39m\u001b[38;5;124mbackward_input\u001b[39m\u001b[38;5;124m\"\u001b[39m\n\u001b[1;32m    189\u001b[0m         ),\n\u001b[1;32m    190\u001b[0m         backward_output_hook\u001b[38;5;241m=\u001b[39m\u001b[38;5;28;01mlambda\u001b[39;00m activations, module_path: intervene(\n\u001b[1;32m    191\u001b[0m             activations, module_path, graph, \u001b[38;5;124m\"\u001b[39m\u001b[38;5;124mbackward_output\u001b[39m\u001b[38;5;124m\"\u001b[39m\n\u001b[1;32m    192\u001b[0m         ),\n\u001b[1;32m    193\u001b[0m     ):\n\u001b[1;32m    194\u001b[0m         output \u001b[38;5;241m=\u001b[39m fn(inputs, \u001b[38;5;241m*\u001b[39margs, \u001b[38;5;241m*\u001b[39m\u001b[38;5;241m*\u001b[39mkwargs)\n\u001b[1;32m    196\u001b[0m increment_hook\u001b[38;5;241m.\u001b[39mremove()\n",
      "File \u001b[0;32m~/venvs/gpu/lib/python3.10/site-packages/nnsight/intervention.py:251\u001b[0m, in \u001b[0;36mintervene\u001b[0;34m(activations, module_path, graph, key)\u001b[0m\n\u001b[1;32m    243\u001b[0m \u001b[38;5;66;03m# We set its result to the activations, indexed by only the relevant batch idxs.\u001b[39;00m\n\u001b[1;32m    245\u001b[0m value \u001b[38;5;241m=\u001b[39m util\u001b[38;5;241m.\u001b[39mapply(\n\u001b[1;32m    246\u001b[0m     activations,\n\u001b[1;32m    247\u001b[0m     \u001b[38;5;28;01mlambda\u001b[39;00m x: x\u001b[38;5;241m.\u001b[39mnarrow(\u001b[38;5;241m0\u001b[39m, batch_start, batch_size),\n\u001b[1;32m    248\u001b[0m     torch\u001b[38;5;241m.\u001b[39mTensor,\n\u001b[1;32m    249\u001b[0m )\n\u001b[0;32m--> 251\u001b[0m \u001b[43mnode\u001b[49m\u001b[38;5;241;43m.\u001b[39;49m\u001b[43mset_value\u001b[49m\u001b[43m(\u001b[49m\u001b[43mvalue\u001b[49m\u001b[43m)\u001b[49m\n\u001b[1;32m    253\u001b[0m \u001b[38;5;66;03m# Check if through the previous value injection, there was a 'swp' intervention.\u001b[39;00m\n\u001b[1;32m    254\u001b[0m \u001b[38;5;66;03m# This would mean we want to replace activations for this batch with some other ones.\u001b[39;00m\n\u001b[1;32m    255\u001b[0m value \u001b[38;5;241m=\u001b[39m graph\u001b[38;5;241m.\u001b[39mget_swap(value)\n",
      "File \u001b[0;32m~/venvs/gpu/lib/python3.10/site-packages/nnsight/tracing/Node.py:279\u001b[0m, in \u001b[0;36mNode.set_value\u001b[0;34m(self, value)\u001b[0m\n\u001b[1;32m    276\u001b[0m     listener\u001b[38;5;241m.\u001b[39mremaining_dependencies \u001b[38;5;241m-\u001b[39m\u001b[38;5;241m=\u001b[39m \u001b[38;5;241m1\u001b[39m\n\u001b[1;32m    278\u001b[0m     \u001b[38;5;28;01mif\u001b[39;00m listener\u001b[38;5;241m.\u001b[39mfulfilled():\n\u001b[0;32m--> 279\u001b[0m         \u001b[43mlistener\u001b[49m\u001b[38;5;241;43m.\u001b[39;49m\u001b[43mexecute\u001b[49m\u001b[43m(\u001b[49m\u001b[43m)\u001b[49m\n\u001b[1;32m    281\u001b[0m \u001b[38;5;28;01mfor\u001b[39;00m dependency \u001b[38;5;129;01min\u001b[39;00m \u001b[38;5;28mself\u001b[39m\u001b[38;5;241m.\u001b[39mdependencies:\n\u001b[1;32m    282\u001b[0m     dependency\u001b[38;5;241m.\u001b[39mremaining_listeners \u001b[38;5;241m-\u001b[39m\u001b[38;5;241m=\u001b[39m \u001b[38;5;241m1\u001b[39m\n",
      "File \u001b[0;32m~/venvs/gpu/lib/python3.10/site-packages/nnsight/tracing/Node.py:261\u001b[0m, in \u001b[0;36mNode.execute\u001b[0;34m(self)\u001b[0m\n\u001b[1;32m    258\u001b[0m \u001b[38;5;66;03m# Call the target to get value.\u001b[39;00m\n\u001b[1;32m    259\u001b[0m output \u001b[38;5;241m=\u001b[39m \u001b[38;5;28mself\u001b[39m\u001b[38;5;241m.\u001b[39mtarget(\u001b[38;5;241m*\u001b[39margs, \u001b[38;5;241m*\u001b[39m\u001b[38;5;241m*\u001b[39mkwargs)\n\u001b[0;32m--> 261\u001b[0m \u001b[38;5;28;43mself\u001b[39;49m\u001b[38;5;241;43m.\u001b[39;49m\u001b[43mset_value\u001b[49m\u001b[43m(\u001b[49m\u001b[43moutput\u001b[49m\u001b[43m)\u001b[49m\n",
      "File \u001b[0;32m~/venvs/gpu/lib/python3.10/site-packages/nnsight/tracing/Node.py:279\u001b[0m, in \u001b[0;36mNode.set_value\u001b[0;34m(self, value)\u001b[0m\n\u001b[1;32m    276\u001b[0m     listener\u001b[38;5;241m.\u001b[39mremaining_dependencies \u001b[38;5;241m-\u001b[39m\u001b[38;5;241m=\u001b[39m \u001b[38;5;241m1\u001b[39m\n\u001b[1;32m    278\u001b[0m     \u001b[38;5;28;01mif\u001b[39;00m listener\u001b[38;5;241m.\u001b[39mfulfilled():\n\u001b[0;32m--> 279\u001b[0m         \u001b[43mlistener\u001b[49m\u001b[38;5;241;43m.\u001b[39;49m\u001b[43mexecute\u001b[49m\u001b[43m(\u001b[49m\u001b[43m)\u001b[49m\n\u001b[1;32m    281\u001b[0m \u001b[38;5;28;01mfor\u001b[39;00m dependency \u001b[38;5;129;01min\u001b[39;00m \u001b[38;5;28mself\u001b[39m\u001b[38;5;241m.\u001b[39mdependencies:\n\u001b[1;32m    282\u001b[0m     dependency\u001b[38;5;241m.\u001b[39mremaining_listeners \u001b[38;5;241m-\u001b[39m\u001b[38;5;241m=\u001b[39m \u001b[38;5;241m1\u001b[39m\n",
      "File \u001b[0;32m~/venvs/gpu/lib/python3.10/site-packages/nnsight/tracing/Node.py:261\u001b[0m, in \u001b[0;36mNode.execute\u001b[0;34m(self)\u001b[0m\n\u001b[1;32m    258\u001b[0m \u001b[38;5;66;03m# Call the target to get value.\u001b[39;00m\n\u001b[1;32m    259\u001b[0m output \u001b[38;5;241m=\u001b[39m \u001b[38;5;28mself\u001b[39m\u001b[38;5;241m.\u001b[39mtarget(\u001b[38;5;241m*\u001b[39margs, \u001b[38;5;241m*\u001b[39m\u001b[38;5;241m*\u001b[39mkwargs)\n\u001b[0;32m--> 261\u001b[0m \u001b[38;5;28;43mself\u001b[39;49m\u001b[38;5;241;43m.\u001b[39;49m\u001b[43mset_value\u001b[49m\u001b[43m(\u001b[49m\u001b[43moutput\u001b[49m\u001b[43m)\u001b[49m\n",
      "File \u001b[0;32m~/venvs/gpu/lib/python3.10/site-packages/nnsight/tracing/Node.py:279\u001b[0m, in \u001b[0;36mNode.set_value\u001b[0;34m(self, value)\u001b[0m\n\u001b[1;32m    276\u001b[0m     listener\u001b[38;5;241m.\u001b[39mremaining_dependencies \u001b[38;5;241m-\u001b[39m\u001b[38;5;241m=\u001b[39m \u001b[38;5;241m1\u001b[39m\n\u001b[1;32m    278\u001b[0m     \u001b[38;5;28;01mif\u001b[39;00m listener\u001b[38;5;241m.\u001b[39mfulfilled():\n\u001b[0;32m--> 279\u001b[0m         \u001b[43mlistener\u001b[49m\u001b[38;5;241;43m.\u001b[39;49m\u001b[43mexecute\u001b[49m\u001b[43m(\u001b[49m\u001b[43m)\u001b[49m\n\u001b[1;32m    281\u001b[0m \u001b[38;5;28;01mfor\u001b[39;00m dependency \u001b[38;5;129;01min\u001b[39;00m \u001b[38;5;28mself\u001b[39m\u001b[38;5;241m.\u001b[39mdependencies:\n\u001b[1;32m    282\u001b[0m     dependency\u001b[38;5;241m.\u001b[39mremaining_listeners \u001b[38;5;241m-\u001b[39m\u001b[38;5;241m=\u001b[39m \u001b[38;5;241m1\u001b[39m\n",
      "File \u001b[0;32m~/venvs/gpu/lib/python3.10/site-packages/nnsight/tracing/Node.py:261\u001b[0m, in \u001b[0;36mNode.execute\u001b[0;34m(self)\u001b[0m\n\u001b[1;32m    258\u001b[0m \u001b[38;5;66;03m# Call the target to get value.\u001b[39;00m\n\u001b[1;32m    259\u001b[0m output \u001b[38;5;241m=\u001b[39m \u001b[38;5;28mself\u001b[39m\u001b[38;5;241m.\u001b[39mtarget(\u001b[38;5;241m*\u001b[39margs, \u001b[38;5;241m*\u001b[39m\u001b[38;5;241m*\u001b[39mkwargs)\n\u001b[0;32m--> 261\u001b[0m \u001b[38;5;28;43mself\u001b[39;49m\u001b[38;5;241;43m.\u001b[39;49m\u001b[43mset_value\u001b[49m\u001b[43m(\u001b[49m\u001b[43moutput\u001b[49m\u001b[43m)\u001b[49m\n",
      "File \u001b[0;32m~/venvs/gpu/lib/python3.10/site-packages/nnsight/tracing/Node.py:279\u001b[0m, in \u001b[0;36mNode.set_value\u001b[0;34m(self, value)\u001b[0m\n\u001b[1;32m    276\u001b[0m     listener\u001b[38;5;241m.\u001b[39mremaining_dependencies \u001b[38;5;241m-\u001b[39m\u001b[38;5;241m=\u001b[39m \u001b[38;5;241m1\u001b[39m\n\u001b[1;32m    278\u001b[0m     \u001b[38;5;28;01mif\u001b[39;00m listener\u001b[38;5;241m.\u001b[39mfulfilled():\n\u001b[0;32m--> 279\u001b[0m         \u001b[43mlistener\u001b[49m\u001b[38;5;241;43m.\u001b[39;49m\u001b[43mexecute\u001b[49m\u001b[43m(\u001b[49m\u001b[43m)\u001b[49m\n\u001b[1;32m    281\u001b[0m \u001b[38;5;28;01mfor\u001b[39;00m dependency \u001b[38;5;129;01min\u001b[39;00m \u001b[38;5;28mself\u001b[39m\u001b[38;5;241m.\u001b[39mdependencies:\n\u001b[1;32m    282\u001b[0m     dependency\u001b[38;5;241m.\u001b[39mremaining_listeners \u001b[38;5;241m-\u001b[39m\u001b[38;5;241m=\u001b[39m \u001b[38;5;241m1\u001b[39m\n",
      "File \u001b[0;32m~/venvs/gpu/lib/python3.10/site-packages/nnsight/tracing/Node.py:259\u001b[0m, in \u001b[0;36mNode.execute\u001b[0;34m(self)\u001b[0m\n\u001b[1;32m    256\u001b[0m     \u001b[38;5;28;01mreturn\u001b[39;00m\n\u001b[1;32m    258\u001b[0m \u001b[38;5;66;03m# Call the target to get value.\u001b[39;00m\n\u001b[0;32m--> 259\u001b[0m output \u001b[38;5;241m=\u001b[39m \u001b[38;5;28;43mself\u001b[39;49m\u001b[38;5;241;43m.\u001b[39;49m\u001b[43mtarget\u001b[49m\u001b[43m(\u001b[49m\u001b[38;5;241;43m*\u001b[39;49m\u001b[43margs\u001b[49m\u001b[43m,\u001b[49m\u001b[43m \u001b[49m\u001b[38;5;241;43m*\u001b[39;49m\u001b[38;5;241;43m*\u001b[39;49m\u001b[43mkwargs\u001b[49m\u001b[43m)\u001b[49m\n\u001b[1;32m    261\u001b[0m \u001b[38;5;28mself\u001b[39m\u001b[38;5;241m.\u001b[39mset_value(output)\n",
      "File \u001b[0;32m~/venvs/gpu/lib/python3.10/site-packages/nnsight/tracing/Proxy.py:25\u001b[0m, in \u001b[0;36mProxy.proxy_call\u001b[0;34m(callable, *args, **kwargs)\u001b[0m\n\u001b[1;32m     23\u001b[0m \u001b[38;5;129m@staticmethod\u001b[39m\n\u001b[1;32m     24\u001b[0m \u001b[38;5;28;01mdef\u001b[39;00m \u001b[38;5;21mproxy_call\u001b[39m(\u001b[38;5;28mcallable\u001b[39m: Callable, \u001b[38;5;241m*\u001b[39margs, \u001b[38;5;241m*\u001b[39m\u001b[38;5;241m*\u001b[39mkwargs) \u001b[38;5;241m-\u001b[39m\u001b[38;5;241m>\u001b[39m \u001b[38;5;28;01mNone\u001b[39;00m:\n\u001b[0;32m---> 25\u001b[0m     \u001b[38;5;28;01mreturn\u001b[39;00m \u001b[38;5;28;43mcallable\u001b[39;49m\u001b[43m(\u001b[49m\u001b[38;5;241;43m*\u001b[39;49m\u001b[43margs\u001b[49m\u001b[43m,\u001b[49m\u001b[43m \u001b[49m\u001b[38;5;241;43m*\u001b[39;49m\u001b[38;5;241;43m*\u001b[39;49m\u001b[43mkwargs\u001b[49m\u001b[43m)\u001b[49m\n",
      "File \u001b[0;32m~/venvs/gpu/lib/python3.10/site-packages/torch/nn/modules/linear.py:114\u001b[0m, in \u001b[0;36mLinear.forward\u001b[0;34m(self, input)\u001b[0m\n\u001b[1;32m    113\u001b[0m \u001b[38;5;28;01mdef\u001b[39;00m \u001b[38;5;21mforward\u001b[39m(\u001b[38;5;28mself\u001b[39m, \u001b[38;5;28minput\u001b[39m: Tensor) \u001b[38;5;241m-\u001b[39m\u001b[38;5;241m>\u001b[39m Tensor:\n\u001b[0;32m--> 114\u001b[0m     \u001b[38;5;28;01mreturn\u001b[39;00m \u001b[43mF\u001b[49m\u001b[38;5;241;43m.\u001b[39;49m\u001b[43mlinear\u001b[49m\u001b[43m(\u001b[49m\u001b[38;5;28;43minput\u001b[39;49m\u001b[43m,\u001b[49m\u001b[43m \u001b[49m\u001b[38;5;28;43mself\u001b[39;49m\u001b[38;5;241;43m.\u001b[39;49m\u001b[43mweight\u001b[49m\u001b[43m,\u001b[49m\u001b[43m \u001b[49m\u001b[38;5;28;43mself\u001b[39;49m\u001b[38;5;241;43m.\u001b[39;49m\u001b[43mbias\u001b[49m\u001b[43m)\u001b[49m\n",
      "\u001b[0;31mOutOfMemoryError\u001b[0m: CUDA out of memory. Tried to allocate 54.84 GiB. GPU 3 has a total capacty of 79.11 GiB of which 37.80 GiB is free. Including non-PyTorch memory, this process has 41.30 GiB memory in use. Of the allocated memory 40.10 GiB is allocated by PyTorch, and 628.42 MiB is reserved by PyTorch but unallocated. If reserved but unallocated memory is large try setting max_split_size_mb to avoid fragmentation.  See documentation for Memory Management and PYTORCH_CUDA_ALLOC_CONF"
     ]
    }
   ],
   "source": [
    "out = insert_patch(model, prompts, avg_tensor, list(range(16,21)), STARCODER_FIM.to_list()[:-1])\n",
    "out"
   ]
  },
  {
   "cell_type": "code",
   "execution_count": 11,
   "metadata": {},
   "outputs": [
    {
     "name": "stdout",
     "output_type": "stream",
     "text": [
      "[\n",
      "  {\n",
      "    \"solution\": \"Arrow\",\n",
      "    \"patched\": \"any\",\n",
      "    \"old\": \"any,\\n  ij?: any,\\n  jk?: any,\\n  kl?:\"\n",
      "  },\n",
      "  {\n",
      "    \"solution\": \"Arrow\",\n",
      "    \"patched\": \"any\",\n",
      "    \"old\": \"any,\\n  hi?: any\\n) {\\n  return pipe_(a, ab\"\n",
      "  },\n",
      "  {\n",
      "    \"solution\": \"Arrow\",\n",
      "    \"patched\": \".\",\n",
      "    \"old\": \"any,\\n  fg?: any,\\n  gh?: any,\\n  hi?: any\"\n",
      "  },\n",
      "  {\n",
      "    \"solution\": \"Arrow\",\n",
      "    \"patched\": \".\",\n",
      "    \"old\": \"any,\\n  ef?: any,\\n  fg?: any,\\n  gh?: any\"\n",
      "  }\n",
      "]\n"
     ]
    }
   ],
   "source": [
    "logits : LogitResult = out.decode_logits(prompt_idx=list(range(len(prompts))))\n",
    "comparison = []\n",
    "for i,ex in enumerate(incorrect_prompts[k[0]:k[-1]]):\n",
    "    soln = ex[\"solution\"]\n",
    "    out_p = logits[-1][i].tokens(model.tokenizer)\n",
    "    assert len(out_p) == 1\n",
    "    comparison.append({\"solution\":soln, \"patched\":out_p[0], \"old\":ex[\"generated\"]})\n",
    "    \n",
    "print(json.dumps(comparison, indent=2))"
   ]
  },
  {
   "cell_type": "code",
   "execution_count": 21,
   "metadata": {},
   "outputs": [
    {
     "ename": "IndexError",
     "evalue": "list index out of range",
     "output_type": "error",
     "traceback": [
      "\u001b[0;31m---------------------------------------------------------------------------\u001b[0m",
      "\u001b[0;31mIndexError\u001b[0m                                Traceback (most recent call last)",
      "Cell \u001b[0;32mIn[21], line 16\u001b[0m\n\u001b[1;32m     14\u001b[0m \u001b[38;5;28;01mfor\u001b[39;00m ex \u001b[38;5;129;01min\u001b[39;00m res:\n\u001b[1;32m     15\u001b[0m     i \u001b[38;5;241m=\u001b[39m \u001b[38;5;28mint\u001b[39m(ex[\u001b[38;5;124m\"\u001b[39m\u001b[38;5;124mi\u001b[39m\u001b[38;5;124m\"\u001b[39m])\n\u001b[0;32m---> 16\u001b[0m     p \u001b[38;5;241m=\u001b[39m \u001b[43mincorrect_prompts\u001b[49m\u001b[43m[\u001b[49m\u001b[43mi\u001b[49m\u001b[43m]\u001b[49m[\u001b[38;5;124m\"\u001b[39m\u001b[38;5;124mprompt\u001b[39m\u001b[38;5;124m\"\u001b[39m]\n\u001b[1;32m     17\u001b[0m     \u001b[38;5;28;01mif\u001b[39;00m ex[\u001b[38;5;124m\"\u001b[39m\u001b[38;5;124mpatched\u001b[39m\u001b[38;5;124m\"\u001b[39m] \u001b[38;5;241m==\u001b[39m ex[\u001b[38;5;124m\"\u001b[39m\u001b[38;5;124msolution\u001b[39m\u001b[38;5;124m\"\u001b[39m]:\n\u001b[1;32m     18\u001b[0m         correct\u001b[38;5;241m.\u001b[39mappend((p,ex))\n",
      "\u001b[0;31mIndexError\u001b[0m: list index out of range"
     ]
    }
   ],
   "source": [
    "import glob\n",
    "\n",
    "res = []\n",
    "for f in glob.glob(\"../data/results/avg_patching_exp/*.json\"):\n",
    "    with open(f, \"r\") as f:\n",
    "        j = json.load(f)\n",
    "    res += j\n",
    "    \n",
    "# assert len(res) == 438, len(res)\n",
    "# find correct\n",
    "correct = []\n",
    "partial_credit = []\n",
    "anyies = []\n",
    "for ex in res:\n",
    "    i = int(ex[\"i\"])\n",
    "    p = incorrect_prompts[i][\"prompt\"]\n",
    "    if ex[\"patched\"] == ex[\"solution\"]:\n",
    "        correct.append((p,ex))\n",
    "    elif ex[\"patched\"].lower() == ex[\"solution\"].lower() and ex[\"solution\"].lower() != ex[\"old\"].lower():\n",
    "        partial_credit.append((p,ex))\n",
    "    elif ex[\"solution\"] == \"any\":\n",
    "        anyies.append((p,ex))\n",
    "      \n",
    "ptyp = [j for j in anyies if j[1][\"patched\"] == \"type\"]\n",
    "typ = len(ptyp)\n",
    "# print(json.dumps(ptyp, indent=2))\n",
    "print(typ, len(anyies), typ/len(anyies))\n",
    "print(json.dumps(correct, indent=2))\n",
    "print(json.dumps(partial_credit, indent=2))\n",
    "print(json.dumps(anyies, indent=2))\n",
    "len(correct), len(partial_credit), len(res), len(correct)/len(res), len(partial_credit)/len(res)"
   ]
  },
  {
   "cell_type": "code",
   "execution_count": 16,
   "metadata": {},
   "outputs": [
    {
     "ename": "KeyboardInterrupt",
     "evalue": "",
     "output_type": "error",
     "traceback": [
      "\u001b[0;31m---------------------------------------------------------------------------\u001b[0m",
      "\u001b[0;31mKeyboardInterrupt\u001b[0m                         Traceback (most recent call last)",
      "Cell \u001b[0;32mIn[16], line 11\u001b[0m\n\u001b[1;32m      9\u001b[0m solns \u001b[38;5;241m=\u001b[39m [i[\u001b[38;5;124m\"\u001b[39m\u001b[38;5;124msolution\u001b[39m\u001b[38;5;124m\"\u001b[39m] \u001b[38;5;28;01mfor\u001b[39;00m i \u001b[38;5;129;01min\u001b[39;00m incorrect_prompts[tk[\u001b[38;5;241m0\u001b[39m]:tk[\u001b[38;5;241m-\u001b[39m\u001b[38;5;241m1\u001b[39m]]]\n\u001b[1;32m     10\u001b[0m gens \u001b[38;5;241m=\u001b[39m [i[\u001b[38;5;124m\"\u001b[39m\u001b[38;5;124mgenerated\u001b[39m\u001b[38;5;124m\"\u001b[39m] \u001b[38;5;28;01mfor\u001b[39;00m i \u001b[38;5;129;01min\u001b[39;00m incorrect_prompts[tk[\u001b[38;5;241m0\u001b[39m]:tk[\u001b[38;5;241m-\u001b[39m\u001b[38;5;241m1\u001b[39m]]]\n\u001b[0;32m---> 11\u001b[0m out \u001b[38;5;241m=\u001b[39m \u001b[43minsert_patch\u001b[49m\u001b[43m(\u001b[49m\u001b[43mmodel\u001b[49m\u001b[43m,\u001b[49m\u001b[43m \u001b[49m\u001b[43mprompts\u001b[49m\u001b[43m,\u001b[49m\u001b[43m \u001b[49m\u001b[43mavg_tensor\u001b[49m\u001b[43m,\u001b[49m\u001b[43m \u001b[49m\u001b[38;5;28;43mlist\u001b[39;49m\u001b[43m(\u001b[49m\u001b[38;5;28;43mrange\u001b[39;49m\u001b[43m(\u001b[49m\u001b[38;5;241;43m16\u001b[39;49m\u001b[43m,\u001b[49m\u001b[38;5;241;43m23\u001b[39;49m\u001b[43m)\u001b[49m\u001b[43m)\u001b[49m\u001b[43m,\u001b[49m\u001b[43m \u001b[49m\u001b[43mSTARCODER_FIM\u001b[49m\u001b[38;5;241;43m.\u001b[39;49m\u001b[43mto_list\u001b[49m\u001b[43m(\u001b[49m\u001b[43m)\u001b[49m\u001b[43m[\u001b[49m\u001b[43m:\u001b[49m\u001b[38;5;241;43m-\u001b[39;49m\u001b[38;5;241;43m1\u001b[39;49m\u001b[43m]\u001b[49m\u001b[43m)\u001b[49m\n\u001b[1;32m     12\u001b[0m logits : LogitResult \u001b[38;5;241m=\u001b[39m out\u001b[38;5;241m.\u001b[39mdecode_logits(prompt_idx\u001b[38;5;241m=\u001b[39m\u001b[38;5;28mlist\u001b[39m(\u001b[38;5;28mrange\u001b[39m(\u001b[38;5;28mlen\u001b[39m(prompts))))\n\u001b[1;32m     14\u001b[0m \u001b[38;5;28;01mfor\u001b[39;00m i,ex \u001b[38;5;129;01min\u001b[39;00m \u001b[38;5;28menumerate\u001b[39m(incorrect_prompts[tk[\u001b[38;5;241m0\u001b[39m]:tk[\u001b[38;5;241m-\u001b[39m\u001b[38;5;241m1\u001b[39m]]):\n",
      "File \u001b[0;32m~/projects/codetrace/interp_utils.py:228\u001b[0m, in \u001b[0;36minsert_patch\u001b[0;34m(model, prompts, patch, layers_to_patch, tokens_to_patch, patch_strength)\u001b[0m\n\u001b[1;32m    225\u001b[0m hidden_states \u001b[38;5;241m=\u001b[39m util\u001b[38;5;241m.\u001b[39mapply(hidden_states, \u001b[38;5;28;01mlambda\u001b[39;00m x: x\u001b[38;5;241m.\u001b[39mvalue, Proxy)\n\u001b[1;32m    226\u001b[0m logits \u001b[38;5;241m=\u001b[39m util\u001b[38;5;241m.\u001b[39mapply(logits, \u001b[38;5;28;01mlambda\u001b[39;00m x: x\u001b[38;5;241m.\u001b[39mvalue, Proxy)\n\u001b[0;32m--> 228\u001b[0m \u001b[38;5;28;01mreturn\u001b[39;00m \u001b[43mTraceResult\u001b[49m\u001b[43m(\u001b[49m\u001b[43mlogits\u001b[49m\u001b[43m,\u001b[49m\u001b[43m \u001b[49m\u001b[38;5;28;43mlist\u001b[39;49m\u001b[43m(\u001b[49m\u001b[38;5;28;43mrange\u001b[39;49m\u001b[43m(\u001b[49m\u001b[38;5;28;43mlen\u001b[39;49m\u001b[43m(\u001b[49m\u001b[43mmodel\u001b[49m\u001b[38;5;241;43m.\u001b[39;49m\u001b[43mtransformer\u001b[49m\u001b[38;5;241;43m.\u001b[39;49m\u001b[43mh\u001b[49m\u001b[43m)\u001b[49m\u001b[43m)\u001b[49m\u001b[43m)\u001b[49m\u001b[43m,\u001b[49m\u001b[43m \u001b[49m\u001b[43mhidden_states\u001b[49m\u001b[43m)\u001b[49m\n",
      "File \u001b[0;32m~/projects/codetrace/interp_utils.py:73\u001b[0m, in \u001b[0;36mTraceResult.__init__\u001b[0;34m(self, logits, layer_idxs, hidden_states)\u001b[0m\n\u001b[1;32m     69\u001b[0m \u001b[38;5;28;01mdef\u001b[39;00m \u001b[38;5;21m__init__\u001b[39m(\u001b[38;5;28mself\u001b[39m, \n\u001b[1;32m     70\u001b[0m              logits : torch\u001b[38;5;241m.\u001b[39mTensor, \n\u001b[1;32m     71\u001b[0m              layer_idxs : List[\u001b[38;5;28mint\u001b[39m] \u001b[38;5;241m|\u001b[39m \u001b[38;5;28mint\u001b[39m,\n\u001b[1;32m     72\u001b[0m              hidden_states : torch\u001b[38;5;241m.\u001b[39mTensor \u001b[38;5;241m=\u001b[39m \u001b[38;5;28;01mNone\u001b[39;00m):\n\u001b[0;32m---> 73\u001b[0m     \u001b[38;5;28mself\u001b[39m\u001b[38;5;241m.\u001b[39m_logits \u001b[38;5;241m=\u001b[39m \u001b[43mlogits\u001b[49m\u001b[38;5;241;43m.\u001b[39;49m\u001b[43mdetach\u001b[49m\u001b[43m(\u001b[49m\u001b[43m)\u001b[49m\u001b[38;5;241;43m.\u001b[39;49m\u001b[43mcpu\u001b[49m\u001b[43m(\u001b[49m\u001b[43m)\u001b[49m\n\u001b[1;32m     74\u001b[0m     \u001b[38;5;28;01mif\u001b[39;00m hidden_states \u001b[38;5;241m!=\u001b[39m \u001b[38;5;28;01mNone\u001b[39;00m:\n\u001b[1;32m     75\u001b[0m         hidden_states \u001b[38;5;241m=\u001b[39m hidden_states\u001b[38;5;241m.\u001b[39mdetach()\u001b[38;5;241m.\u001b[39mcpu()\n",
      "File \u001b[0;32m~/venvs/gpu/lib/python3.10/site-packages/nnsight/__init__.py:83\u001b[0m, in \u001b[0;36mnoop_wrapper.<locals>.noop\u001b[0;34m(input, *args, **kwargs)\u001b[0m\n\u001b[1;32m     80\u001b[0m     \u001b[38;5;28;01mreturn\u001b[39;00m \u001b[38;5;28minput\u001b[39m\n\u001b[1;32m     82\u001b[0m \u001b[38;5;28;01melse\u001b[39;00m:\n\u001b[0;32m---> 83\u001b[0m     \u001b[38;5;28;01mreturn\u001b[39;00m \u001b[43mfn\u001b[49m\u001b[43m(\u001b[49m\u001b[38;5;28;43minput\u001b[39;49m\u001b[43m,\u001b[49m\u001b[43m \u001b[49m\u001b[38;5;241;43m*\u001b[39;49m\u001b[43margs\u001b[49m\u001b[43m,\u001b[49m\u001b[43m \u001b[49m\u001b[38;5;241;43m*\u001b[39;49m\u001b[38;5;241;43m*\u001b[39;49m\u001b[43mkwargs\u001b[49m\u001b[43m)\u001b[49m\n",
      "\u001b[0;31mKeyboardInterrupt\u001b[0m: "
     ]
    }
   ],
   "source": [
    "comparison = []\n",
    "delta = 1\n",
    "k = 0\n",
    "while k+delta < len(incorrect_prompts):\n",
    "    # do giant loop\n",
    "    tk = [k, k+delta]\n",
    "    # 40, 44\n",
    "    prompts = [i[\"prompt\"] for i in incorrect_prompts[tk[0]:tk[-1]]]\n",
    "    solns = [i[\"solution\"] for i in incorrect_prompts[tk[0]:tk[-1]]]\n",
    "    gens = [i[\"generated\"] for i in incorrect_prompts[tk[0]:tk[-1]]]\n",
    "    out = insert_patch(model, prompts, avg_tensor, list(range(16,23)), STARCODER_FIM.to_list()[:-1])\n",
    "    logits : LogitResult = out.decode_logits(prompt_idx=list(range(len(prompts))))\n",
    "\n",
    "    for i,ex in enumerate(incorrect_prompts[tk[0]:tk[-1]]):\n",
    "        soln = ex[\"solution\"]\n",
    "        out_p = logits[-1][i].tokens(model.tokenizer)\n",
    "        assert len(out_p) == 1\n",
    "        comparison.append({\"i\":tk[0]+i,\"solution\":soln, \"patched\":out_p[0], \"old\":ex[\"generated\"]})\n",
    "        \n",
    "    k += delta\n",
    "    del(out)\n",
    "    del(logits)\n",
    "    \n",
    "    with open(\"patched_comparison.json\", \"w\") as f:\n",
    "        json.dump(comparison, f, indent=4)"
   ]
  },
  {
   "cell_type": "markdown",
   "metadata": {},
   "source": [
    "## dataset building"
   ]
  },
  {
   "cell_type": "code",
   "execution_count": 3,
   "metadata": {},
   "outputs": [],
   "source": [
    "ds = datasets.load_dataset(\"franlucc/stenotype-eval-dataset\", split=\"train\")"
   ]
  },
  {
   "cell_type": "code",
   "execution_count": 4,
   "metadata": {},
   "outputs": [
    {
     "data": {
      "text/plain": [
       "Dataset({\n",
       "    features: ['hexsha', 'size', 'ext', 'lang', 'max_stars_repo_path', 'max_stars_repo_name', 'max_stars_repo_head_hexsha', 'max_stars_repo_licenses', 'max_stars_count', 'max_stars_repo_stars_event_min_datetime', 'max_stars_repo_stars_event_max_datetime', 'max_issues_repo_path', 'max_issues_repo_name', 'max_issues_repo_head_hexsha', 'max_issues_repo_licenses', 'max_issues_count', 'max_issues_repo_issues_event_min_datetime', 'max_issues_repo_issues_event_max_datetime', 'max_forks_repo_path', 'max_forks_repo_name', 'max_forks_repo_head_hexsha', 'max_forks_repo_licenses', 'max_forks_count', 'max_forks_repo_forks_event_min_datetime', 'max_forks_repo_forks_event_max_datetime', 'content', 'avg_line_length', 'max_line_length', 'alphanum_fraction', 'annotation_sites', 'type_definitions', 'loc', 'functions', 'loc_per_function', 'estimated_tokens', 'fim_program', 'fim_type'],\n",
       "    num_rows: 5370\n",
       "})"
      ]
     },
     "execution_count": 4,
     "metadata": {},
     "output_type": "execute_result"
    }
   ],
   "source": [
    "f_ds = filter_types_with_idx(ds, QUERY_FUNC_TYPES)\n",
    "f_ds"
   ]
  },
  {
   "cell_type": "code",
   "execution_count": 5,
   "metadata": {},
   "outputs": [
    {
     "name": "stdout",
     "output_type": "stream",
     "text": [
      "/*\n",
      " * @Author: your name\n",
      " * @Date: 2022-04-24 10:11:23\n",
      " * @LastEditTime: 2022-04-24 16:14:52\n",
      " * @LastEditors: Please set LastEditors\n",
      " * @Description: 打开koroFileHeader查看配置 进行设置: https://github.com/OBKoro1/koro1FileHeader/wiki/%E9%85%8D%E7%BD%AE\n",
      " * @FilePath: /tinkerbell-ui-react/src/packages/DaysPicker/date/interface.ts\n",
      " */\n",
      "//  props 天\n",
      "export interface dayProps {\n",
      "    year: number;\n",
      "    month: number;\n",
      "    active: number;\n",
      "    change: Function;\n",
      "    visible: boolean;\n",
      "    monthRef: any;\n",
      "    show: boolean;\n",
      "    limit: boolean;\n",
      "}\n",
      "//  props 月\n",
      "export interface monthProps {\n",
      "    visible: boolean;\n",
      "    active: number;\n",
      "    change: Function;\n",
      "    year: number;\n",
      "    plateChange: Function;\n",
      "    limit: boolean;\n",
      "}\n",
      "//  props 年\n",
      "export interface yearProps {\n",
      "    visible: boolean;\n",
      "    active: number;\n",
      "    change: Function;\n",
      "    plateChange: Function;\n",
      "    limit: boolean;\n",
      "}\n",
      "\n",
      "// pageday-item type\n",
      "export type dayItem = {\n",
      "    label: string;\n",
      "    value: number;\n",
      "    disabled: boolean; //禁用\n",
      "    prev: boolean; // 是否属于上一月份\n",
      "    next: boolean; // 是否属于上一月份\n",
      "    week: number; // 星期下标\n",
      "    weekLabel: string; // 星期明文\n",
      "};\n",
      "\n",
      "// pageMonth-item type\n",
      "export type monthItem = {\n",
      "    value: number;\n",
      "    label: string;\n",
      "    disabled: boolean;\n",
      "};\n",
      "\n",
      "// 年份\n",
      "export function getYearList(year, limit) {\n",
      "    let list: Array<monthItem> = [];\n",
      "\n",
      "    let newYear = new Date().getFullYear();\n",
      "    let maxYear = year + 9;\n",
      "    for (let i = year - 3; i < maxYear; i++) {\n",
      "        list.push({\n",
      "            value: i,\n",
      "            label: `${i}`,\n",
      "            disabled: i < newYear && limit,\n",
      "        });\n",
      "    }\n",
      "    return list;\n",
      "}\n",
      "\n",
      "// 月份\n",
      "export function getMonthList(year, limit) {\n",
      "    let list: Array<monthItem> = [];\n",
      "    for (let i = 1; i < 13; i++) {\n",
      "        list.push({\n",
      "            value: i,\n",
      "            label: `${i}月`,\n",
      "            disabled: checkDisabledMonth(year, i) && limit,\n",
      "        });\n",
      "    }\n",
      "    return list;\n",
      "}\n",
      "// 月-禁用判定\n",
      "function checkDisabledMonth(prevYear, prevMonth) {\n",
      "    const prevTime = new Date(`${prevYear}/${prevMonth}/01`).getTime();\n",
      "    const newDate = new Date();\n",
      "    const year: number = newDate.getFullYear();\n",
      "    let month: number = newDate.getMonth() + 1;\n",
      "    const newTime = new Date(`${year}/${month}/01`).getTime();\n",
      "    return prevTime < newTime;\n",
      "}\n",
      "\n",
      "// 日期对照月份表\n",
      "const monthAsDay = [31, 28, 31, 30, 31, 30, 31, 31, 30, 31, 30, 31]; //月份\n",
      "\n",
      "// 星期列表\n",
      "export const weekList = [\"一\", \"二\", \"三\", \"四\", \"五\", \"六\", \"日\"];\n",
      "\n",
      "// 日-数据列表生成type:0当前月份，1上一月，2下一月\n",
      "export function getDayList(\n",
      "    year,\n",
      "    month,\n",
      "    type,\n",
      "    limit\n",
      ") {\n",
      "    let list: Array<dayItem> = [];\n",
      "    let max: number = year % 4 === 0 && month === 2 ? 1 : 0; // 闰年判定\n",
      "    max = monthAsDay[month - 1] + max; // 定位月份\n",
      "\n",
      "    for (let i = 0; i < max; i++) {\n",
      "        let value = i + 1;\n",
      "        let weekParam = checkWeek(year, month, value);\n",
      "        list.push({\n",
      "            label: value.toString(),\n",
      "            value: value,\n",
      "            disabled: checkDisabled(year, month, value) && limit,\n",
      "            prev: type === 1,\n",
      "            next: type === 2,\n",
      "            week: weekParam.value,\n",
      "            weekLabel: weekParam.label,\n",
      "        });\n",
      "    }\n",
      "    if (type !== 0) {\n",
      "        return list;\n",
      "    } else {\n",
      "        return dayListSupply(list, year, month, limit);\n",
      "    }\n",
      "}\n",
      "// 日-数据按周补充\n",
      "function dayListSupply(\n",
      "    arr,\n",
      "    year,\n",
      "    month,\n",
      "    limit\n",
      ") {\n",
      "    let prevList = getDayList(\n",
      "        month === 1 ? year - 1 : year,\n",
      "        month === 1 ? 12 : month - 1,\n",
      "        1,\n",
      "        limit\n",
      "    );\n",
      "    let nextList = getDayList(\n",
      "        month === 12 ? year + 1 : year,\n",
      "        month === 12 ? 1 : month + 1,\n",
      "        2,\n",
      "        limit\n",
      "    );\n",
      "    // 上月\n",
      "    for (let i = prevList.length - 1; i > 0; i--) {\n",
      "        if (prevList[i].week === 7) {\n",
      "            break;\n",
      "        }\n",
      "        arr.unshift(prevList[i]);\n",
      "    }\n",
      "    // 下月\n",
      "    for (let i = 0; i < nextList.length - 1; i++) {\n",
      "        if (arr.length === 42) {\n",
      "            break;\n",
      "        }\n",
      "        arr.push(nextList[i]);\n",
      "    }\n",
      "    return arr;\n",
      "}\n",
      "\n",
      "// 日-禁用判定\n",
      "export function checkDisabled(\n",
      "    prevYear,\n",
      "    prevMonth,\n",
      "    prevDay\n",
      ") {\n",
      "    const prevTime = new Date(`${prevYear}/${prevMonth}/${prevDay}`).getTime();\n",
      "    const newDate = new Date();\n",
      "    const year: number = newDate.getFullYear();\n",
      "    let month: number = newDate.getMonth() + 1;\n",
      "    let day: number = newDate.getDate();\n",
      "    const newTime = new Date(`${year}/${month}/${day}`).getTime();\n",
      "    return prevTime < newTime;\n",
      "}\n",
      "\n",
      "// 周期-判定星期几\n",
      "function checkWeek(year, month, day: <FILL>) {\n",
      "    let weekday = [\n",
      "        \"星期日\",\n",
      "        \"星期一\",\n",
      "        \"星期二\",\n",
      "        \"星期三\",\n",
      "        \"星期四\",\n",
      "        \"星期五\",\n",
      "        \"星期六\",\n",
      "    ];\n",
      "    let newDate = new Date(`${year}/${month}/${day}`);\n",
      "    let mark = newDate.getDay();\n",
      "\n",
      "    return {\n",
      "        value: mark === 0 ? 7 : mark,\n",
      "        label: weekday[mark],\n",
      "    };\n",
      "}\n",
      "\n",
      "\"number\"\n"
     ]
    }
   ],
   "source": [
    "i = 0\n",
    "print(f_ds[i][\"fim_program\"])\n",
    "print(f_ds[i][\"fim_type\"])"
   ]
  },
  {
   "cell_type": "code",
   "execution_count": 7,
   "metadata": {},
   "outputs": [
    {
     "data": {
      "application/vnd.jupyter.widget-view+json": {
       "model_id": "205f60846abd40fd9a39f37d35c2b427",
       "version_major": 2,
       "version_minor": 0
      },
      "text/plain": [
       "Pushing dataset shards to the dataset hub:   0%|          | 0/1 [00:00<?, ?it/s]"
      ]
     },
     "metadata": {},
     "output_type": "display_data"
    },
    {
     "data": {
      "application/vnd.jupyter.widget-view+json": {
       "model_id": "0b7aa708f57f47639ea3d8e5b27d3c5c",
       "version_major": 2,
       "version_minor": 0
      },
      "text/plain": [
       "Creating parquet from Arrow format:   0%|          | 0/6 [00:00<?, ?ba/s]"
      ]
     },
     "metadata": {},
     "output_type": "display_data"
    },
    {
     "data": {
      "application/vnd.jupyter.widget-view+json": {
       "model_id": "d77254b8e00c4091977035bd7fbf1b82",
       "version_major": 2,
       "version_minor": 0
      },
      "text/plain": [
       "Deleting unused files from dataset repository:   0%|          | 0/1 [00:00<?, ?it/s]"
      ]
     },
     "metadata": {},
     "output_type": "display_data"
    },
    {
     "data": {
      "application/vnd.jupyter.widget-view+json": {
       "model_id": "4adfbaf51cb84043a979a24b1ec8e31b",
       "version_major": 2,
       "version_minor": 0
      },
      "text/plain": [
       "Downloading metadata:   0%|          | 0.00/2.26k [00:00<?, ?B/s]"
      ]
     },
     "metadata": {},
     "output_type": "display_data"
    }
   ],
   "source": [
    "f_ds.push_to_hub(\"franlucc/stenotype-eval-dataset-func-type-stripped-v3\")"
   ]
  },
  {
   "cell_type": "code",
   "execution_count": 8,
   "metadata": {},
   "outputs": [
    {
     "data": {
      "application/vnd.jupyter.widget-view+json": {
       "model_id": "5eaf548a60c943659a267fb8c8d62e0b",
       "version_major": 2,
       "version_minor": 0
      },
      "text/plain": [
       "Downloading data files:   0%|          | 0/1 [00:00<?, ?it/s]"
      ]
     },
     "metadata": {},
     "output_type": "display_data"
    },
    {
     "data": {
      "application/vnd.jupyter.widget-view+json": {
       "model_id": "852cc7f94e234ab1becb33ffbf3fdd65",
       "version_major": 2,
       "version_minor": 0
      },
      "text/plain": [
       "Extracting data files:   0%|          | 0/1 [00:00<?, ?it/s]"
      ]
     },
     "metadata": {},
     "output_type": "display_data"
    },
    {
     "data": {
      "application/vnd.jupyter.widget-view+json": {
       "model_id": "c84f72e5bc7e4f5b9012391e54a5ed5b",
       "version_major": 2,
       "version_minor": 0
      },
      "text/plain": [
       "Generating train split:   0%|          | 0/336 [00:00<?, ? examples/s]"
      ]
     },
     "metadata": {},
     "output_type": "display_data"
    }
   ],
   "source": [
    "f_ds_v0 = datasets.load_dataset(\"franlucc/stenotype-eval-func-type-stripped-v1\", split=\"train\")"
   ]
  },
  {
   "cell_type": "code",
   "execution_count": 9,
   "metadata": {},
   "outputs": [
    {
     "data": {
      "text/plain": [
       "0"
      ]
     },
     "execution_count": 9,
     "metadata": {},
     "output_type": "execute_result"
    }
   ],
   "source": [
    "count = 0\n",
    "diffs = []\n",
    "lens = []\n",
    "for i in range(len(f_ds)):\n",
    "    a =f_ds[i][\"content_type_removed\"]\n",
    "    b=f_ds_v0[i][\"content_type_removed\"]\n",
    "    if a != b:\n",
    "        count += 1\n",
    "        diffs.append((i,a, b))\n",
    "        lens.append(len(a) - len(b))\n",
    "        \n",
    "count"
   ]
  },
  {
   "cell_type": "code",
   "execution_count": 25,
   "metadata": {},
   "outputs": [],
   "source": [
    "ds = datasets.load_dataset(\"franlucc/stenotype-eval-dataset-func-type-stripped-v3\", split=\"train\")\n"
   ]
  },
  {
   "cell_type": "code",
   "execution_count": 26,
   "metadata": {},
   "outputs": [
    {
     "data": {
      "application/vnd.jupyter.widget-view+json": {
       "model_id": "6002d72a4fe54d23842eba2a0ed3324b",
       "version_major": 2,
       "version_minor": 0
      },
      "text/plain": [
       "Map:   0%|          | 0/5370 [00:00<?, ? examples/s]"
      ]
     },
     "metadata": {},
     "output_type": "display_data"
    }
   ],
   "source": [
    "fixds = ds.map(lambda x: {**x, \"fim_type\": json.loads(x[\"fim_type\"]).strip()})"
   ]
  },
  {
   "cell_type": "code",
   "execution_count": 27,
   "metadata": {},
   "outputs": [
    {
     "data": {
      "text/plain": [
       "'\"number\"'"
      ]
     },
     "execution_count": 27,
     "metadata": {},
     "output_type": "execute_result"
    }
   ],
   "source": [
    "ds[3][\"fim_type\"]"
   ]
  },
  {
   "cell_type": "code",
   "execution_count": 28,
   "metadata": {},
   "outputs": [
    {
     "data": {
      "text/plain": [
       "'number'"
      ]
     },
     "execution_count": 28,
     "metadata": {},
     "output_type": "execute_result"
    }
   ],
   "source": [
    "fixds[3][\"fim_type\"]"
   ]
  },
  {
   "cell_type": "code",
   "execution_count": 33,
   "metadata": {},
   "outputs": [
    {
     "data": {
      "application/vnd.jupyter.widget-view+json": {
       "model_id": "716a10559df84d998e601cf098f43801",
       "version_major": 2,
       "version_minor": 0
      },
      "text/plain": [
       "Pushing dataset shards to the dataset hub:   0%|          | 0/1 [00:00<?, ?it/s]"
      ]
     },
     "metadata": {},
     "output_type": "display_data"
    },
    {
     "data": {
      "application/vnd.jupyter.widget-view+json": {
       "model_id": "7e399a8403b4423b9c340bf0620b4b50",
       "version_major": 2,
       "version_minor": 0
      },
      "text/plain": [
       "Creating parquet from Arrow format:   0%|          | 0/6 [00:00<?, ?ba/s]"
      ]
     },
     "metadata": {},
     "output_type": "display_data"
    },
    {
     "data": {
      "application/vnd.jupyter.widget-view+json": {
       "model_id": "3098504365a143389271d7d2a1f3157d",
       "version_major": 2,
       "version_minor": 0
      },
      "text/plain": [
       "Deleting unused files from dataset repository:   0%|          | 0/1 [00:00<?, ?it/s]"
      ]
     },
     "metadata": {},
     "output_type": "display_data"
    },
    {
     "data": {
      "application/vnd.jupyter.widget-view+json": {
       "model_id": "96999fdd2c014c9daa7e2172560ac406",
       "version_major": 2,
       "version_minor": 0
      },
      "text/plain": [
       "Downloading metadata:   0%|          | 0.00/2.18k [00:00<?, ?B/s]"
      ]
     },
     "metadata": {},
     "output_type": "display_data"
    }
   ],
   "source": [
    "fixds2.push_to_hub(\"franlucc/stenotype-eval-dataset-func-type-stripped-v4\")"
   ]
  },
  {
   "cell_type": "code",
   "execution_count": 30,
   "metadata": {},
   "outputs": [
    {
     "data": {
      "application/vnd.jupyter.widget-view+json": {
       "model_id": "aff8dffada024c5583369f4775a3ab3b",
       "version_major": 2,
       "version_minor": 0
      },
      "text/plain": [
       "Filter:   0%|          | 0/5370 [00:00<?, ? examples/s]"
      ]
     },
     "metadata": {},
     "output_type": "display_data"
    }
   ],
   "source": [
    "fixds2 = fixds.filter(lambda x: \"<FILL>\" in x[\"fim_program\"])"
   ]
  },
  {
   "cell_type": "code",
   "execution_count": 34,
   "metadata": {},
   "outputs": [
    {
     "data": {
      "text/plain": [
       "'\"top\" | \"right\" | \"bottom\" | \"left\"'"
      ]
     },
     "execution_count": 34,
     "metadata": {},
     "output_type": "execute_result"
    }
   ],
   "source": [
    "fixds2[2019][\"fim_type\"]"
   ]
  },
  {
   "cell_type": "code",
   "execution_count": null,
   "metadata": {},
   "outputs": [],
   "source": []
  }
 ],
 "metadata": {
  "kernelspec": {
   "display_name": "GPU_Codetrace",
   "language": "python",
   "name": "python3"
  },
  "language_info": {
   "codemirror_mode": {
    "name": "ipython",
    "version": 3
   },
   "file_extension": ".py",
   "mimetype": "text/x-python",
   "name": "python",
   "nbconvert_exporter": "python",
   "pygments_lexer": "ipython3",
   "version": "3.10.12"
  }
 },
 "nbformat": 4,
 "nbformat_minor": 2
}
