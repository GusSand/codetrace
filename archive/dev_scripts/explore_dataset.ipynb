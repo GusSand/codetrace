{
 "cells": [
  {
   "cell_type": "code",
   "execution_count": 1,
   "metadata": {},
   "outputs": [],
   "source": [
    "%load_ext autoreload\n",
    "%autoreload 2"
   ]
  },
  {
   "cell_type": "code",
   "execution_count": 2,
   "metadata": {},
   "outputs": [],
   "source": [
    "import datasets"
   ]
  },
  {
   "cell_type": "code",
   "execution_count": 9,
   "metadata": {},
   "outputs": [],
   "source": [
    "ds1 = datasets.load_dataset(\"franlucc/py_delete_annotation_may3_seed0_starcoderbase-1b\", split=\"train\")\n"
   ]
  },
  {
   "cell_type": "code",
   "execution_count": 12,
   "metadata": {},
   "outputs": [
    {
     "name": "stdout",
     "output_type": "stream",
     "text": [
      "Dataset({\n",
      "    features: ['mutated_program', 'mutations', 'key', 'prefix', 'suffix', 'middle', 'correct', 'model', 'fim_type', 'fim_program', 'hexsha', 'mutated_generated_text'],\n",
      "    num_rows: 710\n",
      "})\n"
     ]
    },
    {
     "data": {
      "text/plain": [
       "{1, 2, 3}"
      ]
     },
     "execution_count": 12,
     "metadata": {},
     "output_type": "execute_result"
    }
   ],
   "source": [
    "from collections import Counter\n",
    "print(ds1)\n",
    "set(Counter(ds1[\"hexsha\"]).values())"
   ]
  },
  {
   "cell_type": "code",
   "execution_count": 5,
   "metadata": {},
   "outputs": [],
   "source": [
    "concat = datasets.concatenate_datasets([ds1, ds2])"
   ]
  },
  {
   "cell_type": "code",
   "execution_count": 10,
   "metadata": {},
   "outputs": [
    {
     "name": "stderr",
     "output_type": "stream",
     "text": [
      "  0%|          | 0/7 [00:00<?, ?it/s]"
     ]
    },
    {
     "name": "stdout",
     "output_type": "stream",
     "text": [
      "Dataset({\n",
      "    features: ['mutated_program', 'mutations', 'key', 'prefix', 'suffix', 'middle', 'correct', 'model', 'fim_type', 'fim_program', 'hexsha', 'mutated_generated_text'],\n",
      "    num_rows: 710\n",
      "}) Dataset({\n",
      "    features: ['mutated_program', 'mutations', 'key', 'prefix', 'suffix', 'middle', 'correct', 'model', 'fim_type', 'fim_program', 'hexsha', 'mutated_generated_text'],\n",
      "    num_rows: 704\n",
      "}) Dataset({\n",
      "    features: ['mutated_program', 'mutations', 'key', 'prefix', 'suffix', 'middle', 'correct', 'model', 'fim_type', 'fim_program', 'hexsha', 'mutated_generated_text'],\n",
      "    num_rows: 1414\n",
      "})\n"
     ]
    },
    {
     "data": {
      "application/vnd.jupyter.widget-view+json": {
       "model_id": "2b0dce98c3654df29a384d0f2e0db83c",
       "version_major": 2,
       "version_minor": 0
      },
      "text/plain": [
       "Generating train split: 0 examples [00:00, ? examples/s]"
      ]
     },
     "metadata": {},
     "output_type": "display_data"
    },
    {
     "name": "stdout",
     "output_type": "stream",
     "text": [
      "Dataset({\n",
      "    features: ['mutated_program', 'mutations', 'key', 'prefix', 'suffix', 'middle', 'correct', 'model', 'fim_type', 'fim_program', 'hexsha', 'mutated_generated_text'],\n",
      "    num_rows: 1253\n",
      "})\n"
     ]
    },
    {
     "data": {
      "application/vnd.jupyter.widget-view+json": {
       "model_id": "ebbdb580d7c04e12a65c28f7bd46c8ff",
       "version_major": 2,
       "version_minor": 0
      },
      "text/plain": [
       "Pushing dataset shards to the dataset hub:   0%|          | 0/1 [00:00<?, ?it/s]"
      ]
     },
     "metadata": {},
     "output_type": "display_data"
    },
    {
     "data": {
      "application/vnd.jupyter.widget-view+json": {
       "model_id": "c4c0093a40634381999caea3c5815ba9",
       "version_major": 2,
       "version_minor": 0
      },
      "text/plain": [
       "Creating parquet from Arrow format:   0%|          | 0/2 [00:00<?, ?ba/s]"
      ]
     },
     "metadata": {},
     "output_type": "display_data"
    },
    {
     "data": {
      "application/vnd.jupyter.widget-view+json": {
       "model_id": "52522fc8943b444ebb7da94b21da27e5",
       "version_major": 2,
       "version_minor": 0
      },
      "text/plain": [
       "Deleting unused files from dataset repository:   0%|          | 0/1 [00:00<?, ?it/s]"
      ]
     },
     "metadata": {},
     "output_type": "display_data"
    },
    {
     "data": {
      "application/vnd.jupyter.widget-view+json": {
       "model_id": "faa2bfe9f2414c03b61e351bda4b7edf",
       "version_major": 2,
       "version_minor": 0
      },
      "text/plain": [
       "Downloading metadata:   0%|          | 0.00/901 [00:00<?, ?B/s]"
      ]
     },
     "metadata": {},
     "output_type": "display_data"
    },
    {
     "name": "stderr",
     "output_type": "stream",
     "text": [
      " 14%|█▍        | 1/7 [00:04<00:24,  4.11s/it]"
     ]
    },
    {
     "name": "stdout",
     "output_type": "stream",
     "text": [
      "Dataset({\n",
      "    features: ['mutated_program', 'mutations', 'key', 'prefix', 'suffix', 'middle', 'correct', 'model', 'fim_type', 'fim_program', 'hexsha', 'mutated_generated_text'],\n",
      "    num_rows: 1425\n",
      "}) Dataset({\n",
      "    features: ['mutated_program', 'mutations', 'key', 'prefix', 'suffix', 'middle', 'correct', 'model', 'fim_type', 'fim_program', 'hexsha', 'mutated_generated_text'],\n",
      "    num_rows: 1453\n",
      "}) Dataset({\n",
      "    features: ['mutated_program', 'mutations', 'key', 'prefix', 'suffix', 'middle', 'correct', 'model', 'fim_type', 'fim_program', 'hexsha', 'mutated_generated_text'],\n",
      "    num_rows: 2878\n",
      "})\n"
     ]
    },
    {
     "data": {
      "application/vnd.jupyter.widget-view+json": {
       "model_id": "2f0f36f1dbbb4f9a949aec7c6e1f856d",
       "version_major": 2,
       "version_minor": 0
      },
      "text/plain": [
       "Generating train split: 0 examples [00:00, ? examples/s]"
      ]
     },
     "metadata": {},
     "output_type": "display_data"
    },
    {
     "name": "stdout",
     "output_type": "stream",
     "text": [
      "Dataset({\n",
      "    features: ['mutated_program', 'mutations', 'key', 'prefix', 'suffix', 'middle', 'correct', 'model', 'fim_type', 'fim_program', 'hexsha', 'mutated_generated_text'],\n",
      "    num_rows: 2200\n",
      "})\n"
     ]
    },
    {
     "data": {
      "application/vnd.jupyter.widget-view+json": {
       "model_id": "96752f168d314a96a0be523a47f5d1ec",
       "version_major": 2,
       "version_minor": 0
      },
      "text/plain": [
       "Pushing dataset shards to the dataset hub:   0%|          | 0/1 [00:00<?, ?it/s]"
      ]
     },
     "metadata": {},
     "output_type": "display_data"
    },
    {
     "data": {
      "application/vnd.jupyter.widget-view+json": {
       "model_id": "f2993e2c0680403e86a2231426a34cef",
       "version_major": 2,
       "version_minor": 0
      },
      "text/plain": [
       "Creating parquet from Arrow format:   0%|          | 0/3 [00:00<?, ?ba/s]"
      ]
     },
     "metadata": {},
     "output_type": "display_data"
    },
    {
     "data": {
      "application/vnd.jupyter.widget-view+json": {
       "model_id": "8028087915624dfba8417e2f678c6b65",
       "version_major": 2,
       "version_minor": 0
      },
      "text/plain": [
       "Deleting unused files from dataset repository:   0%|          | 0/1 [00:00<?, ?it/s]"
      ]
     },
     "metadata": {},
     "output_type": "display_data"
    },
    {
     "data": {
      "application/vnd.jupyter.widget-view+json": {
       "model_id": "785f6974cbbb4b91983ef32cb1dd8451",
       "version_major": 2,
       "version_minor": 0
      },
      "text/plain": [
       "Downloading metadata:   0%|          | 0.00/896 [00:00<?, ?B/s]"
      ]
     },
     "metadata": {},
     "output_type": "display_data"
    },
    {
     "name": "stderr",
     "output_type": "stream",
     "text": [
      " 29%|██▊       | 2/7 [00:08<00:20,  4.17s/it]"
     ]
    },
    {
     "name": "stdout",
     "output_type": "stream",
     "text": [
      "Dataset({\n",
      "    features: ['mutated_program', 'mutations', 'key', 'prefix', 'suffix', 'middle', 'correct', 'model', 'fim_type', 'fim_program', 'hexsha', 'mutated_generated_text'],\n",
      "    num_rows: 5611\n",
      "}) Dataset({\n",
      "    features: ['mutated_program', 'mutations', 'key', 'prefix', 'suffix', 'middle', 'correct', 'model', 'fim_type', 'fim_program', 'hexsha', 'mutated_generated_text'],\n",
      "    num_rows: 5678\n",
      "}) Dataset({\n",
      "    features: ['mutated_program', 'mutations', 'key', 'prefix', 'suffix', 'middle', 'correct', 'model', 'fim_type', 'fim_program', 'hexsha', 'mutated_generated_text'],\n",
      "    num_rows: 11289\n",
      "})\n"
     ]
    },
    {
     "data": {
      "application/vnd.jupyter.widget-view+json": {
       "model_id": "25f9e8e60e464144a552a575d4acff1f",
       "version_major": 2,
       "version_minor": 0
      },
      "text/plain": [
       "Generating train split: 0 examples [00:00, ? examples/s]"
      ]
     },
     "metadata": {},
     "output_type": "display_data"
    },
    {
     "name": "stdout",
     "output_type": "stream",
     "text": [
      "Dataset({\n",
      "    features: ['mutated_program', 'mutations', 'key', 'prefix', 'suffix', 'middle', 'correct', 'model', 'fim_type', 'fim_program', 'hexsha', 'mutated_generated_text'],\n",
      "    num_rows: 10621\n",
      "})\n"
     ]
    },
    {
     "data": {
      "application/vnd.jupyter.widget-view+json": {
       "model_id": "1e31ad7b02e84a5fb9b053db23667741",
       "version_major": 2,
       "version_minor": 0
      },
      "text/plain": [
       "Pushing dataset shards to the dataset hub:   0%|          | 0/1 [00:00<?, ?it/s]"
      ]
     },
     "metadata": {},
     "output_type": "display_data"
    },
    {
     "data": {
      "application/vnd.jupyter.widget-view+json": {
       "model_id": "3d78005b42d94cf38b1a9427a9d6d584",
       "version_major": 2,
       "version_minor": 0
      },
      "text/plain": [
       "Creating parquet from Arrow format:   0%|          | 0/11 [00:00<?, ?ba/s]"
      ]
     },
     "metadata": {},
     "output_type": "display_data"
    },
    {
     "data": {
      "application/vnd.jupyter.widget-view+json": {
       "model_id": "6a73197cd6394f9bbb24cc28a7200227",
       "version_major": 2,
       "version_minor": 0
      },
      "text/plain": [
       "Deleting unused files from dataset repository:   0%|          | 0/1 [00:00<?, ?it/s]"
      ]
     },
     "metadata": {},
     "output_type": "display_data"
    },
    {
     "data": {
      "application/vnd.jupyter.widget-view+json": {
       "model_id": "f8b3b87a77ac47be897dab04c5ef364a",
       "version_major": 2,
       "version_minor": 0
      },
      "text/plain": [
       "Downloading metadata:   0%|          | 0.00/897 [00:00<?, ?B/s]"
      ]
     },
     "metadata": {},
     "output_type": "display_data"
    },
    {
     "name": "stderr",
     "output_type": "stream",
     "text": [
      " 43%|████▎     | 3/7 [00:14<00:21,  5.29s/it]"
     ]
    },
    {
     "name": "stdout",
     "output_type": "stream",
     "text": [
      "Dataset({\n",
      "    features: ['mutated_program', 'mutations', 'key', 'prefix', 'suffix', 'middle', 'correct', 'model', 'fim_type', 'fim_program', 'hexsha', 'mutated_generated_text'],\n",
      "    num_rows: 6998\n",
      "}) Dataset({\n",
      "    features: ['mutated_program', 'mutations', 'key', 'prefix', 'suffix', 'middle', 'correct', 'model', 'fim_type', 'fim_program', 'hexsha', 'mutated_generated_text'],\n",
      "    num_rows: 7075\n",
      "}) Dataset({\n",
      "    features: ['mutated_program', 'mutations', 'key', 'prefix', 'suffix', 'middle', 'correct', 'model', 'fim_type', 'fim_program', 'hexsha', 'mutated_generated_text'],\n",
      "    num_rows: 14073\n",
      "})\n"
     ]
    },
    {
     "data": {
      "application/vnd.jupyter.widget-view+json": {
       "model_id": "abefef01b32d49d3a4752239bb91daf7",
       "version_major": 2,
       "version_minor": 0
      },
      "text/plain": [
       "Generating train split: 0 examples [00:00, ? examples/s]"
      ]
     },
     "metadata": {},
     "output_type": "display_data"
    },
    {
     "name": "stdout",
     "output_type": "stream",
     "text": [
      "Dataset({\n",
      "    features: ['mutated_program', 'mutations', 'key', 'prefix', 'suffix', 'middle', 'correct', 'model', 'fim_type', 'fim_program', 'hexsha', 'mutated_generated_text'],\n",
      "    num_rows: 13829\n",
      "})\n"
     ]
    },
    {
     "data": {
      "application/vnd.jupyter.widget-view+json": {
       "model_id": "d164edc75eb54bdbb5e98bfde3379a0b",
       "version_major": 2,
       "version_minor": 0
      },
      "text/plain": [
       "Pushing dataset shards to the dataset hub:   0%|          | 0/1 [00:00<?, ?it/s]"
      ]
     },
     "metadata": {},
     "output_type": "display_data"
    },
    {
     "data": {
      "application/vnd.jupyter.widget-view+json": {
       "model_id": "deb43986610a4346be29eb249eb86f7b",
       "version_major": 2,
       "version_minor": 0
      },
      "text/plain": [
       "Creating parquet from Arrow format:   0%|          | 0/14 [00:00<?, ?ba/s]"
      ]
     },
     "metadata": {},
     "output_type": "display_data"
    },
    {
     "data": {
      "application/vnd.jupyter.widget-view+json": {
       "model_id": "eaaabecc39b9407196c45f868c318127",
       "version_major": 2,
       "version_minor": 0
      },
      "text/plain": [
       "Deleting unused files from dataset repository:   0%|          | 0/1 [00:00<?, ?it/s]"
      ]
     },
     "metadata": {},
     "output_type": "display_data"
    },
    {
     "data": {
      "application/vnd.jupyter.widget-view+json": {
       "model_id": "d6c13ff28d1347a99a2e0c8e960f5d72",
       "version_major": 2,
       "version_minor": 0
      },
      "text/plain": [
       "Downloading metadata:   0%|          | 0.00/901 [00:00<?, ?B/s]"
      ]
     },
     "metadata": {},
     "output_type": "display_data"
    },
    {
     "name": "stderr",
     "output_type": "stream",
     "text": [
      " 57%|█████▋    | 4/7 [00:22<00:19,  6.38s/it]"
     ]
    },
    {
     "name": "stdout",
     "output_type": "stream",
     "text": [
      "Dataset({\n",
      "    features: ['mutated_program', 'mutations', 'key', 'prefix', 'suffix', 'middle', 'correct', 'model', 'fim_type', 'fim_program', 'hexsha', 'mutated_generated_text'],\n",
      "    num_rows: 7102\n",
      "}) Dataset({\n",
      "    features: ['mutated_program', 'mutations', 'key', 'prefix', 'suffix', 'middle', 'correct', 'model', 'fim_type', 'fim_program', 'hexsha', 'mutated_generated_text'],\n",
      "    num_rows: 7136\n",
      "}) Dataset({\n",
      "    features: ['mutated_program', 'mutations', 'key', 'prefix', 'suffix', 'middle', 'correct', 'model', 'fim_type', 'fim_program', 'hexsha', 'mutated_generated_text'],\n",
      "    num_rows: 14238\n",
      "})\n"
     ]
    },
    {
     "data": {
      "application/vnd.jupyter.widget-view+json": {
       "model_id": "c8220d4102f1420cb8261e0f89e3ebbc",
       "version_major": 2,
       "version_minor": 0
      },
      "text/plain": [
       "Generating train split: 0 examples [00:00, ? examples/s]"
      ]
     },
     "metadata": {},
     "output_type": "display_data"
    },
    {
     "name": "stdout",
     "output_type": "stream",
     "text": [
      "Dataset({\n",
      "    features: ['mutated_program', 'mutations', 'key', 'prefix', 'suffix', 'middle', 'correct', 'model', 'fim_type', 'fim_program', 'hexsha', 'mutated_generated_text'],\n",
      "    num_rows: 13754\n",
      "})\n"
     ]
    },
    {
     "data": {
      "application/vnd.jupyter.widget-view+json": {
       "model_id": "6fcd3fb626954b6280149fd37ad9321a",
       "version_major": 2,
       "version_minor": 0
      },
      "text/plain": [
       "Pushing dataset shards to the dataset hub:   0%|          | 0/1 [00:00<?, ?it/s]"
      ]
     },
     "metadata": {},
     "output_type": "display_data"
    },
    {
     "data": {
      "application/vnd.jupyter.widget-view+json": {
       "model_id": "7734581b13ea4d109699cedf933e8ab1",
       "version_major": 2,
       "version_minor": 0
      },
      "text/plain": [
       "Creating parquet from Arrow format:   0%|          | 0/14 [00:00<?, ?ba/s]"
      ]
     },
     "metadata": {},
     "output_type": "display_data"
    },
    {
     "data": {
      "application/vnd.jupyter.widget-view+json": {
       "model_id": "a3ef3ea5125d4992bb6efdb2a8082678",
       "version_major": 2,
       "version_minor": 0
      },
      "text/plain": [
       "Deleting unused files from dataset repository:   0%|          | 0/1 [00:00<?, ?it/s]"
      ]
     },
     "metadata": {},
     "output_type": "display_data"
    },
    {
     "data": {
      "application/vnd.jupyter.widget-view+json": {
       "model_id": "802e484ed9514a33ad7e5dc0db998e0b",
       "version_major": 2,
       "version_minor": 0
      },
      "text/plain": [
       "Downloading metadata:   0%|          | 0.00/899 [00:00<?, ?B/s]"
      ]
     },
     "metadata": {},
     "output_type": "display_data"
    },
    {
     "name": "stderr",
     "output_type": "stream",
     "text": [
      " 71%|███████▏  | 5/7 [00:30<00:13,  6.95s/it]"
     ]
    },
    {
     "name": "stdout",
     "output_type": "stream",
     "text": [
      "Dataset({\n",
      "    features: ['mutated_program', 'mutations', 'key', 'prefix', 'suffix', 'middle', 'correct', 'model', 'fim_type', 'fim_program', 'hexsha', 'mutated_generated_text'],\n",
      "    num_rows: 1609\n",
      "}) Dataset({\n",
      "    features: ['mutated_program', 'mutations', 'key', 'prefix', 'suffix', 'middle', 'correct', 'model', 'fim_type', 'fim_program', 'hexsha', 'mutated_generated_text'],\n",
      "    num_rows: 1612\n",
      "}) Dataset({\n",
      "    features: ['mutated_program', 'mutations', 'key', 'prefix', 'suffix', 'middle', 'correct', 'model', 'fim_type', 'fim_program', 'hexsha', 'mutated_generated_text'],\n",
      "    num_rows: 3221\n",
      "})\n"
     ]
    },
    {
     "data": {
      "application/vnd.jupyter.widget-view+json": {
       "model_id": "0432126ac9aa45579232919998b93b5e",
       "version_major": 2,
       "version_minor": 0
      },
      "text/plain": [
       "Generating train split: 0 examples [00:00, ? examples/s]"
      ]
     },
     "metadata": {},
     "output_type": "display_data"
    },
    {
     "name": "stdout",
     "output_type": "stream",
     "text": [
      "Dataset({\n",
      "    features: ['mutated_program', 'mutations', 'key', 'prefix', 'suffix', 'middle', 'correct', 'model', 'fim_type', 'fim_program', 'hexsha', 'mutated_generated_text'],\n",
      "    num_rows: 3068\n",
      "})\n"
     ]
    },
    {
     "data": {
      "application/vnd.jupyter.widget-view+json": {
       "model_id": "88b950feb6ba482197943a5a5b5c69ec",
       "version_major": 2,
       "version_minor": 0
      },
      "text/plain": [
       "Pushing dataset shards to the dataset hub:   0%|          | 0/1 [00:00<?, ?it/s]"
      ]
     },
     "metadata": {},
     "output_type": "display_data"
    },
    {
     "data": {
      "application/vnd.jupyter.widget-view+json": {
       "model_id": "c1ba9b5383334ad98814ca640aef94c5",
       "version_major": 2,
       "version_minor": 0
      },
      "text/plain": [
       "Creating parquet from Arrow format:   0%|          | 0/4 [00:00<?, ?ba/s]"
      ]
     },
     "metadata": {},
     "output_type": "display_data"
    },
    {
     "data": {
      "application/vnd.jupyter.widget-view+json": {
       "model_id": "83fb1c38cd0a49059bc2e31cecf70f52",
       "version_major": 2,
       "version_minor": 0
      },
      "text/plain": [
       "Deleting unused files from dataset repository:   0%|          | 0/1 [00:00<?, ?it/s]"
      ]
     },
     "metadata": {},
     "output_type": "display_data"
    },
    {
     "data": {
      "application/vnd.jupyter.widget-view+json": {
       "model_id": "94cfb4eae4a6418ba4dd85f50b254df1",
       "version_major": 2,
       "version_minor": 0
      },
      "text/plain": [
       "Downloading metadata:   0%|          | 0.00/901 [00:00<?, ?B/s]"
      ]
     },
     "metadata": {},
     "output_type": "display_data"
    },
    {
     "name": "stderr",
     "output_type": "stream",
     "text": [
      " 86%|████████▌ | 6/7 [00:35<00:06,  6.22s/it]"
     ]
    },
    {
     "name": "stdout",
     "output_type": "stream",
     "text": [
      "Dataset({\n",
      "    features: ['mutated_program', 'mutations', 'key', 'prefix', 'suffix', 'middle', 'correct', 'model', 'fim_type', 'fim_program', 'hexsha', 'mutated_generated_text'],\n",
      "    num_rows: 5765\n",
      "}) Dataset({\n",
      "    features: ['mutated_program', 'mutations', 'key', 'prefix', 'suffix', 'middle', 'correct', 'model', 'fim_type', 'fim_program', 'hexsha', 'mutated_generated_text'],\n",
      "    num_rows: 5747\n",
      "}) Dataset({\n",
      "    features: ['mutated_program', 'mutations', 'key', 'prefix', 'suffix', 'middle', 'correct', 'model', 'fim_type', 'fim_program', 'hexsha', 'mutated_generated_text'],\n",
      "    num_rows: 11512\n",
      "})\n"
     ]
    },
    {
     "data": {
      "application/vnd.jupyter.widget-view+json": {
       "model_id": "ba755bd60b9b4b41a33c2e29e08ef4e1",
       "version_major": 2,
       "version_minor": 0
      },
      "text/plain": [
       "Generating train split: 0 examples [00:00, ? examples/s]"
      ]
     },
     "metadata": {},
     "output_type": "display_data"
    },
    {
     "name": "stdout",
     "output_type": "stream",
     "text": [
      "Dataset({\n",
      "    features: ['mutated_program', 'mutations', 'key', 'prefix', 'suffix', 'middle', 'correct', 'model', 'fim_type', 'fim_program', 'hexsha', 'mutated_generated_text'],\n",
      "    num_rows: 11086\n",
      "})\n"
     ]
    },
    {
     "data": {
      "application/vnd.jupyter.widget-view+json": {
       "model_id": "18c301452bdb41e8bdb5e0233c8d928f",
       "version_major": 2,
       "version_minor": 0
      },
      "text/plain": [
       "Pushing dataset shards to the dataset hub:   0%|          | 0/1 [00:00<?, ?it/s]"
      ]
     },
     "metadata": {},
     "output_type": "display_data"
    },
    {
     "data": {
      "application/vnd.jupyter.widget-view+json": {
       "model_id": "0b069acc15504ce68ba1996bc264175e",
       "version_major": 2,
       "version_minor": 0
      },
      "text/plain": [
       "Creating parquet from Arrow format:   0%|          | 0/12 [00:00<?, ?ba/s]"
      ]
     },
     "metadata": {},
     "output_type": "display_data"
    },
    {
     "name": "stderr",
     "output_type": "stream",
     "text": [
      "100%|██████████| 7/7 [00:42<00:00,  6.03s/it]\n"
     ]
    }
   ],
   "source": [
    "from tqdm import tqdm\n",
    "py_dataset_fmt = \"franlucc/py_<EDIT>_may3_seed<SEED>_starcoderbase-1b\"\n",
    "edits = [\n",
    "    \"delete_annotation\",\n",
    "    \"rename_types\",\n",
    "    \"rename_vars\",\n",
    "    \"all_mutations\",\n",
    "    \"all_renames\",\n",
    "    \"types_and_delete\",\n",
    "    \"vars_and_delete\"\n",
    "]\n",
    "def dedup(ds, key):\n",
    "    ds = ds.shuffle()\n",
    "    seen = set()\n",
    "    for i,ex in enumerate(ds):\n",
    "        if ex[key] in seen:\n",
    "            continue\n",
    "        seen.add(ex[key])\n",
    "        yield ex\n",
    "        \n",
    "for edit in tqdm(edits):\n",
    "    py_edit = py_dataset_fmt.replace(\"<EDIT>\", edit)\n",
    "    ds0 = py_edit.replace(\"<SEED>\", \"0\")\n",
    "    ds1 = py_edit.replace(\"<SEED>\", \"1\")\n",
    "    ds0 = datasets.load_dataset(ds0, split=\"train\")\n",
    "    ds1 = datasets.load_dataset(ds1, split=\"train\")\n",
    "    concat = datasets.concatenate_datasets([ds0, ds1]).shuffle()\n",
    "    print(ds0,ds1,concat)\n",
    "    def my_dedup():\n",
    "        return dedup(concat, \"mutated_program\")\n",
    "    \n",
    "    dedup_ds = datasets.Dataset.from_generator(my_dedup)\n",
    "    print(dedup_ds)\n",
    "    new_name = py_edit.replace(\"<SEED>\", \"-0-1\")\n",
    "    dedup_ds.push_to_hub(new_name)"
   ]
  },
  {
   "cell_type": "code",
   "execution_count": 8,
   "metadata": {},
   "outputs": [
    {
     "data": {
      "text/plain": [
       "Dataset({\n",
       "    features: ['mutated_program', 'mutations', 'key', 'prefix', 'suffix', 'middle', 'correct', 'model', 'fim_type', 'fim_program', 'hexsha', 'mutated_generated_text'],\n",
       "    num_rows: 1253\n",
       "})"
      ]
     },
     "execution_count": 8,
     "metadata": {},
     "output_type": "execute_result"
    }
   ],
   "source": [
    "dedup_ds"
   ]
  },
  {
   "cell_type": "code",
   "execution_count": 5,
   "metadata": {},
   "outputs": [],
   "source": [
    "ds2 = ds.map(lambda x: {**x, \n",
    "                        \"recon2\" : x[\"prefix\"] + x[\"middle\"] + x[\"suffix\"],\n",
    "                        \"recon\": x[\"fim_program\"].replace(\"<FILL>\", x[\"fim_type\"])})"
   ]
  },
  {
   "cell_type": "code",
   "execution_count": 15,
   "metadata": {},
   "outputs": [
    {
     "data": {
      "application/vnd.jupyter.widget-view+json": {
       "model_id": "ea264e45ff774746aa129918e1d4d94f",
       "version_major": 2,
       "version_minor": 0
      },
      "text/plain": [
       "Filter:   0%|          | 0/265879 [00:00<?, ? examples/s]"
      ]
     },
     "metadata": {},
     "output_type": "display_data"
    }
   ],
   "source": [
    "py_caa_v2 = ds.filter(lambda x: len(tokenizer(x[\"fim_type\"])[\"input_ids\"]) == 1)"
   ]
  },
  {
   "cell_type": "code",
   "execution_count": 18,
   "metadata": {},
   "outputs": [
    {
     "data": {
      "application/vnd.jupyter.widget-view+json": {
       "model_id": "1abc7cd117f44584a92fb58bb0a7a915",
       "version_major": 2,
       "version_minor": 0
      },
      "text/plain": [
       "Pushing dataset shards to the dataset hub:   0%|          | 0/2 [00:00<?, ?it/s]"
      ]
     },
     "metadata": {},
     "output_type": "display_data"
    },
    {
     "data": {
      "application/vnd.jupyter.widget-view+json": {
       "model_id": "0c0f69dca1c24f6792be2a483a6f9fbf",
       "version_major": 2,
       "version_minor": 0
      },
      "text/plain": [
       "Creating parquet from Arrow format:   0%|          | 0/71 [00:00<?, ?ba/s]"
      ]
     },
     "metadata": {},
     "output_type": "display_data"
    },
    {
     "data": {
      "application/vnd.jupyter.widget-view+json": {
       "model_id": "a2eafc4b9fbd491c8692f3a62e22c95f",
       "version_major": 2,
       "version_minor": 0
      },
      "text/plain": [
       "Creating parquet from Arrow format:   0%|          | 0/71 [00:00<?, ?ba/s]"
      ]
     },
     "metadata": {},
     "output_type": "display_data"
    }
   ],
   "source": [
    "py_caa_v2.push_to_hub(\"franlucc/py_typeinf_may3-1tok_starcoderbase-1b_completions\", private=True)"
   ]
  },
  {
   "cell_type": "code",
   "execution_count": 7,
   "metadata": {},
   "outputs": [
    {
     "data": {
      "application/vnd.jupyter.widget-view+json": {
       "model_id": "74daf66019c24096b6ef85adeb5ec6ff",
       "version_major": 2,
       "version_minor": 0
      },
      "text/plain": [
       "Map:   0%|          | 0/265879 [00:00<?, ? examples/s]"
      ]
     },
     "metadata": {},
     "output_type": "display_data"
    }
   ],
   "source": [
    "from transformers import AutoTokenizer\n",
    "tokenizer = AutoTokenizer.from_pretrained(\"/mnt/ssd/arjun/models/starcoderbase-1b\")\n",
    "\n",
    "ds2 = ds2.map(lambda x: {**x, \"num_tok\" : len(tokenizer(x[\"fim_type\"])[\"input_ids\"])})"
   ]
  },
  {
   "cell_type": "code",
   "execution_count": 16,
   "metadata": {},
   "outputs": [],
   "source": [
    "ds = datasets.load_from_disk(\"/home/franlucc/projects_data/codetrace/results_v2/starcoderbase-1b/python/all_muts/ood_steering_results_ds\")"
   ]
  },
  {
   "cell_type": "code",
   "execution_count": 14,
   "metadata": {},
   "outputs": [
    {
     "data": {
      "text/plain": [
       "True"
      ]
     },
     "execution_count": 14,
     "metadata": {},
     "output_type": "execute_result"
    }
   ],
   "source": [
    "dsc[\"correct\"] == ds[\"correct\"]"
   ]
  },
  {
   "cell_type": "code",
   "execution_count": 20,
   "metadata": {},
   "outputs": [
    {
     "name": "stdout",
     "output_type": "stream",
     "text": [
      "#!/usr/bin/env python3\n",
      "# Copyright (C) 2021 Checkmk GmbH - License: GNU General Public License v2\n",
      "# This file is part of Checkmk (https://checkmk.com). It is subject to the terms and\n",
      "# conditions defined in the file COPYING, which is part of this source code package.\n",
      "\n",
      "from collections.abc import Sequence\n",
      "\n",
      "import pytest\n",
      "from polyfactory.factories.pydantic_factory import ModelFactory\n",
      "from pytest_mock import MockerFixture\n",
      "\n",
      "from cmk.base.plugins.agent_based.agent_based_api.v1 import Attributes, TableRow\n",
      "from cmk.base.plugins.agent_based.inventory_kube_node import inventory_kube_node\n",
      "\n",
      "from cmk.plugins.lib.kube import (\n",
      "    HealthZ,\n",
      "    IpAddress,\n",
      "    KubeletInfo,\n",
      "    NodeAddress,\n",
      "    NodeInfo,\n",
      "    NodeName,\n",
      "    Timestamp,\n",
      ")\n",
      "\n",
      "from .utils_inventory import sort_inventory_result\n",
      "\n",
      "\n",
      "@pytest.mark.parametrize(\n",
      "    \"section_info, section_kubelet, expected_check_result\",\n",
      "    [\n",
      "        pytest.param(\n",
      "            NodeInfo(\n",
      "                architecture=\"amd64\",\n",
      "                kernel_version=\"5.13.0-27-generic\",\n",
      "                os_image=\"Ubuntu 20.04.2 LTS\",\n",
      "                operating_system=\"linux\",\n",
      "                container_runtime_version=IpAddress(\"docker://20.10.8\"),\n",
      "                name=NodeName(\"minikube\"),\n",
      "                creation_timestamp=Timestamp(1640000000.0),\n",
      "                labels={},\n",
      "                annotations={},\n",
      "                addresses=[\n",
      "                    NodeAddress(type_=\"Hostname\", address=IpAddress(\"k8-21\")),\n",
      "                    NodeAddress(type_=\"ExternalIP\", address=IpAddress(\"10.200.3.21\")),\n",
      "                ],\n",
      "                cluster=\"cluster\",\n",
      "                kubernetes_cluster_hostname=\"host\",\n",
      "            ),\n",
      "            KubeletInfo(\n",
      "                version=\"1.2.3\",\n",
      "                proxy_version=\"1.2.3\",\n",
      "                health=HealthZ(status_code=200, response=\"ok\"),\n",
      "            ),\n",
      "            [\n",
      "                Attributes(\n",
      "                    path=[\"software\", \"applications\", \"kube\", \"metadata\"],\n",
      "                    inventory_attributes={\n",
      "                        \"object\": \"Node\",\n",
      "                        \"name\": \"minikube\",\n",
      "                    },\n",
      "                ),\n",
      "                Attributes(\n",
      "                    path=[\"software\", \"applications\", \"kube\", \"node\"],\n",
      "                    inventory_attributes={\n",
      "                        \"operating_system\": \"linux\",\n",
      "                        \"os_image\": \"Ubuntu 20.04.2 LTS\",\n",
      "                        \"kernel_version\": \"5.13.0-27-generic\",\n",
      "                        \"architecture\": \"amd64\",\n",
      "                        \"container_runtime_version\": \"docker://20.10.8\",\n",
      "                        \"kubelet_version\": \"1.2.3\",\n",
      "                        \"kube_proxy_version\": \"1.2.3\",\n",
      "                    },\n",
      "                    status_attributes={},\n",
      "                ),\n",
      "                TableRow(\n",
      "                    path=[\"networking\", \"kube\"],\n",
      "                    key_columns={\"ip\": \"k8-21\"},\n",
      "                    inventory_columns={\"address_type\": \"Hostname\"},\n",
      "                    status_columns={},\n",
      "                ),\n",
      "                TableRow(\n",
      "                    path=[\"networking\", \"kube\"],\n",
      "                    key_columns={\"ip\": \"10.200.3.21\"},\n",
      "                    inventory_columns={\"address_type\": \"ExternalIP\"},\n",
      "                    status_columns={},\n",
      "                ),\n",
      "            ],\n",
      "            id=\"overall look of node inventory\",\n",
      "        ),\n",
      "    ],\n",
      ")\n",
      "def test_inventory_kube_node(\n",
      "    __tmp1: <FILL>,\n",
      "    __tmp2,\n",
      "    expected_check_result: Sequence[TableRow | Attributes],\n",
      ") -> None:\n",
      "    assert sort_inventory_result(\n",
      "        inventory_kube_node(__tmp1, __tmp2)\n",
      "    ) == sort_inventory_result(expected_check_result)\n",
      "\n",
      "\n",
      "def __tmp0(mocker: MockerFixture) -> None:\n",
      "    \"\"\"Test coverage and uniform look across inventories relies on the inventories calling\n",
      "    labels_to_table.\"\"\"\n",
      "\n",
      "    class __typ0(ModelFactory):\n",
      "        __model__ = NodeInfo\n",
      "\n",
      "    __tmp1 = __typ0.build()\n",
      "\n",
      "    class __typ1(ModelFactory):\n",
      "        __model__ = KubeletInfo\n",
      "\n",
      "    __tmp2 = __typ1.build()\n",
      "\n",
      "    mock = mocker.patch(\"cmk.base.plugins.agent_based.inventory_kube_node.labels_to_table\")\n",
      "    list(inventory_kube_node(__tmp1, __tmp2))\n",
      "    mock.assert_called_once()\n",
      "\n"
     ]
    }
   ],
   "source": [
    "print(ds[2][\"fim_program\"])"
   ]
  },
  {
   "cell_type": "code",
   "execution_count": null,
   "metadata": {},
   "outputs": [],
   "source": []
  }
 ],
 "metadata": {
  "kernelspec": {
   "display_name": "GPU_Codetrace",
   "language": "python",
   "name": "python3"
  },
  "language_info": {
   "codemirror_mode": {
    "name": "ipython",
    "version": 3
   },
   "file_extension": ".py",
   "mimetype": "text/x-python",
   "name": "python",
   "nbconvert_exporter": "python",
   "pygments_lexer": "ipython3",
   "version": "3.10.12"
  }
 },
 "nbformat": 4,
 "nbformat_minor": 2
}
